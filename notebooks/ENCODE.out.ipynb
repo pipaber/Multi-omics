{
 "cells": [
  {
   "cell_type": "markdown",
   "metadata": {},
   "source": [
    "# ENCODE Data Analysis\n",
    "\n",
    "## Introduction\n",
    "\n",
    "The Encyclopedia of DNA Elements (ENCODE) is a collection of experimental results (from human, mouse, worm and fly) and computing resources devoted to elaborating the mechanisms of gene regulation. The [ENCODE webpage](https://www.encodeproject.org/) provides a good overview of the project scope involving dozens of biotechnological innovations that are used to analyze gene structure and regulation.\n",
    "\n",
    "We will analyze data from ChIP-Seq, ATAC-Seq and CRISPR interference RNA-Seq experiments to show how to use ENCODE with R.\n",
    "\n",
    "## ChIP-Seq"
   ],
   "id": "fd71bde2-4a92-48ae-9e82-1f7a3ad75e53"
  }
 ],
 "nbformat": 4,
 "nbformat_minor": 5,
 "metadata": {}
}
