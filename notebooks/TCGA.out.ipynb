{
 "cells": [
  {
   "cell_type": "markdown",
   "metadata": {},
   "source": [
    "# Integrative Analysis with TCGA Data\n",
    "\n",
    "Analysis of Mutation Data from The Cancer Genome Atlas (TCGA)"
   ],
   "id": "bdf1e72f-1d19-49a0-b43d-baddc1291adf"
  },
  {
   "cell_type": "code",
   "execution_count": null,
   "metadata": {},
   "outputs": [
    {
     "output_type": "stream",
     "name": "stderr",
     "text": [
      "Warning: package 'knitr' was built under R version 4.3.3"
     ]
    },
    {
     "output_type": "stream",
     "name": "stderr",
     "text": [
      "Warning: package 'ggplot2' was built under R version 4.3.2"
     ]
    },
    {
     "output_type": "stream",
     "name": "stderr",
     "text": [
      "Warning: package 'tidyr' was built under R version 4.3.2"
     ]
    },
    {
     "output_type": "stream",
     "name": "stderr",
     "text": [
      "Warning: package 'readr' was built under R version 4.3.2"
     ]
    },
    {
     "output_type": "stream",
     "name": "stderr",
     "text": [
      "Warning: package 'purrr' was built under R version 4.3.2"
     ]
    },
    {
     "output_type": "stream",
     "name": "stderr",
     "text": [
      "Warning: package 'dplyr' was built under R version 4.3.2"
     ]
    },
    {
     "output_type": "stream",
     "name": "stderr",
     "text": [
      "Warning: package 'stringr' was built under R version 4.3.2"
     ]
    },
    {
     "output_type": "stream",
     "name": "stderr",
     "text": [
      "Warning: package 'lubridate' was built under R version 4.3.2"
     ]
    },
    {
     "output_type": "stream",
     "name": "stderr",
     "text": [
      "── Attaching core tidyverse packages ──────────────────────── tidyverse 2.0.0 ──\n",
      "✔ dplyr     1.1.4     ✔ readr     2.1.5\n",
      "✔ forcats   1.0.0     ✔ stringr   1.5.1\n",
      "✔ ggplot2   3.5.0     ✔ tibble    3.2.1\n",
      "✔ lubridate 1.9.3     ✔ tidyr     1.3.1\n",
      "✔ purrr     1.0.2     \n",
      "── Conflicts ────────────────────────────────────────── tidyverse_conflicts() ──\n",
      "✖ dplyr::filter() masks stats::filter()\n",
      "✖ dplyr::lag()    masks stats::lag()\n",
      "ℹ Use the conflicted package (<http://conflicted.r-lib.org/>) to force all conflicts to become errors"
     ]
    }
   ],
   "source": [
    "library(knitr)\n"
   ],
   "id": "874af152-41e3-472f-aaaf-b62025ab85c9"
  },
  {
   "cell_type": "markdown",
   "metadata": {},
   "source": [
    "## Introduction\n",
    "\n",
    "The Cancer Genome Atlas (TCGA) is a massive cancer genomics project compiling high-throughput multi-omic data on dozens of cancer types for [public access](https://www.cancer.gov/ccg/research/genome-sequencing/tcga).\n",
    "\n",
    "We are gonna use the `curatedTCGAData` package to manipulate locally to multiple high-throughput datasets from the project. The package provides access to TCGA data that has been curated and stored as a *MultiAssayExperiment* object on the Bioconductor [ExperimentHub](https://bioconductor.org/packages/release/bioc/html/ExperimentHub.html).\n",
    "\n",
    "First, let’s load the packages needed."
   ],
   "id": "74f14e03-0b49-456b-858a-e36186074c78"
  },
  {
   "cell_type": "code",
   "execution_count": null,
   "metadata": {},
   "outputs": [
    {
     "output_type": "stream",
     "name": "stderr",
     "text": [
      "Loading required package: MultiAssayExperiment"
     ]
    },
    {
     "output_type": "stream",
     "name": "stderr",
     "text": [
      "Warning: package 'MultiAssayExperiment' was built under R version 4.3.1"
     ]
    },
    {
     "output_type": "stream",
     "name": "stderr",
     "text": [
      "Loading required package: SummarizedExperiment"
     ]
    },
    {
     "output_type": "stream",
     "name": "stderr",
     "text": [
      "Warning: package 'SummarizedExperiment' was built under R version 4.3.1"
     ]
    },
    {
     "output_type": "stream",
     "name": "stderr",
     "text": [
      "Loading required package: MatrixGenerics"
     ]
    },
    {
     "output_type": "stream",
     "name": "stderr",
     "text": [
      "Warning: package 'MatrixGenerics' was built under R version 4.3.1"
     ]
    },
    {
     "output_type": "stream",
     "name": "stderr",
     "text": [
      "Loading required package: matrixStats"
     ]
    },
    {
     "output_type": "stream",
     "name": "stderr",
     "text": [
      "Warning: package 'matrixStats' was built under R version 4.3.2"
     ]
    },
    {
     "output_type": "stream",
     "name": "stderr",
     "text": [
      "\n",
      "Attaching package: 'matrixStats'"
     ]
    },
    {
     "output_type": "stream",
     "name": "stderr",
     "text": [
      "The following object is masked from 'package:dplyr':\n",
      "\n",
      "    count"
     ]
    },
    {
     "output_type": "stream",
     "name": "stderr",
     "text": [
      "\n",
      "Attaching package: 'MatrixGenerics'"
     ]
    },
    {
     "output_type": "stream",
     "name": "stderr",
     "text": [
      "The following objects are masked from 'package:matrixStats':\n",
      "\n",
      "    colAlls, colAnyNAs, colAnys, colAvgsPerRowSet, colCollapse,\n",
      "    colCounts, colCummaxs, colCummins, colCumprods, colCumsums,\n",
      "    colDiffs, colIQRDiffs, colIQRs, colLogSumExps, colMadDiffs,\n",
      "    colMads, colMaxs, colMeans2, colMedians, colMins, colOrderStats,\n",
      "    colProds, colQuantiles, colRanges, colRanks, colSdDiffs, colSds,\n",
      "    colSums2, colTabulates, colVarDiffs, colVars, colWeightedMads,\n",
      "    colWeightedMeans, colWeightedMedians, colWeightedSds,\n",
      "    colWeightedVars, rowAlls, rowAnyNAs, rowAnys, rowAvgsPerColSet,\n",
      "    rowCollapse, rowCounts, rowCummaxs, rowCummins, rowCumprods,\n",
      "    rowCumsums, rowDiffs, rowIQRDiffs, rowIQRs, rowLogSumExps,\n",
      "    rowMadDiffs, rowMads, rowMaxs, rowMeans2, rowMedians, rowMins,\n",
      "    rowOrderStats, rowProds, rowQuantiles, rowRanges, rowRanks,\n",
      "    rowSdDiffs, rowSds, rowSums2, rowTabulates, rowVarDiffs, rowVars,\n",
      "    rowWeightedMads, rowWeightedMeans, rowWeightedMedians,\n",
      "    rowWeightedSds, rowWeightedVars"
     ]
    },
    {
     "output_type": "stream",
     "name": "stderr",
     "text": [
      "Loading required package: GenomicRanges"
     ]
    },
    {
     "output_type": "stream",
     "name": "stderr",
     "text": [
      "Loading required package: stats4"
     ]
    },
    {
     "output_type": "stream",
     "name": "stderr",
     "text": [
      "Loading required package: BiocGenerics"
     ]
    },
    {
     "output_type": "stream",
     "name": "stderr",
     "text": [
      "Warning: package 'BiocGenerics' was built under R version 4.3.1"
     ]
    },
    {
     "output_type": "stream",
     "name": "stderr",
     "text": [
      "\n",
      "Attaching package: 'BiocGenerics'"
     ]
    },
    {
     "output_type": "stream",
     "name": "stderr",
     "text": [
      "The following objects are masked from 'package:lubridate':\n",
      "\n",
      "    intersect, setdiff, union"
     ]
    },
    {
     "output_type": "stream",
     "name": "stderr",
     "text": [
      "The following objects are masked from 'package:dplyr':\n",
      "\n",
      "    combine, intersect, setdiff, union"
     ]
    },
    {
     "output_type": "stream",
     "name": "stderr",
     "text": [
      "The following objects are masked from 'package:stats':\n",
      "\n",
      "    IQR, mad, sd, var, xtabs"
     ]
    },
    {
     "output_type": "stream",
     "name": "stderr",
     "text": [
      "The following objects are masked from 'package:base':\n",
      "\n",
      "    anyDuplicated, aperm, append, as.data.frame, basename, cbind,\n",
      "    colnames, dirname, do.call, duplicated, eval, evalq, Filter, Find,\n",
      "    get, grep, grepl, intersect, is.unsorted, lapply, Map, mapply,\n",
      "    match, mget, order, paste, pmax, pmax.int, pmin, pmin.int,\n",
      "    Position, rank, rbind, Reduce, rownames, sapply, setdiff, sort,\n",
      "    table, tapply, union, unique, unsplit, which.max, which.min"
     ]
    },
    {
     "output_type": "stream",
     "name": "stderr",
     "text": [
      "Loading required package: S4Vectors"
     ]
    },
    {
     "output_type": "stream",
     "name": "stderr",
     "text": [
      "\n",
      "Attaching package: 'S4Vectors'"
     ]
    },
    {
     "output_type": "stream",
     "name": "stderr",
     "text": [
      "The following objects are masked from 'package:lubridate':\n",
      "\n",
      "    second, second<-"
     ]
    },
    {
     "output_type": "stream",
     "name": "stderr",
     "text": [
      "The following objects are masked from 'package:dplyr':\n",
      "\n",
      "    first, rename"
     ]
    },
    {
     "output_type": "stream",
     "name": "stderr",
     "text": [
      "The following object is masked from 'package:tidyr':\n",
      "\n",
      "    expand"
     ]
    },
    {
     "output_type": "stream",
     "name": "stderr",
     "text": [
      "The following object is masked from 'package:utils':\n",
      "\n",
      "    findMatches"
     ]
    },
    {
     "output_type": "stream",
     "name": "stderr",
     "text": [
      "The following objects are masked from 'package:base':\n",
      "\n",
      "    expand.grid, I, unname"
     ]
    },
    {
     "output_type": "stream",
     "name": "stderr",
     "text": [
      "Loading required package: IRanges"
     ]
    },
    {
     "output_type": "stream",
     "name": "stderr",
     "text": [
      "\n",
      "Attaching package: 'IRanges'"
     ]
    },
    {
     "output_type": "stream",
     "name": "stderr",
     "text": [
      "The following object is masked from 'package:lubridate':\n",
      "\n",
      "    %within%"
     ]
    },
    {
     "output_type": "stream",
     "name": "stderr",
     "text": [
      "The following objects are masked from 'package:dplyr':\n",
      "\n",
      "    collapse, desc, slice"
     ]
    },
    {
     "output_type": "stream",
     "name": "stderr",
     "text": [
      "The following object is masked from 'package:purrr':\n",
      "\n",
      "    reduce"
     ]
    },
    {
     "output_type": "stream",
     "name": "stderr",
     "text": [
      "The following object is masked from 'package:grDevices':\n",
      "\n",
      "    windows"
     ]
    },
    {
     "output_type": "stream",
     "name": "stderr",
     "text": [
      "Loading required package: GenomeInfoDb"
     ]
    },
    {
     "output_type": "stream",
     "name": "stderr",
     "text": [
      "Warning: package 'GenomeInfoDb' was built under R version 4.3.2"
     ]
    },
    {
     "output_type": "stream",
     "name": "stderr",
     "text": [
      "Loading required package: Biobase"
     ]
    },
    {
     "output_type": "stream",
     "name": "stderr",
     "text": [
      "Welcome to Bioconductor\n",
      "\n",
      "    Vignettes contain introductory material; view with\n",
      "    'browseVignettes()'. To cite Bioconductor, see\n",
      "    'citation(\"Biobase\")', and for packages 'citation(\"pkgname\")'."
     ]
    },
    {
     "output_type": "stream",
     "name": "stderr",
     "text": [
      "\n",
      "Attaching package: 'Biobase'"
     ]
    },
    {
     "output_type": "stream",
     "name": "stderr",
     "text": [
      "The following object is masked from 'package:MatrixGenerics':\n",
      "\n",
      "    rowMedians"
     ]
    },
    {
     "output_type": "stream",
     "name": "stderr",
     "text": [
      "The following objects are masked from 'package:matrixStats':\n",
      "\n",
      "    anyMissing, rowMedians"
     ]
    },
    {
     "output_type": "stream",
     "name": "stderr",
     "text": [
      "Warning: package 'TCGAutils' was built under R version 4.3.2"
     ]
    }
   ],
   "source": [
    "library(curatedTCGAData)\n"
   ],
   "id": "29068188-5be8-4002-81f3-a0f97d947b95"
  },
  {
   "cell_type": "markdown",
   "metadata": {},
   "source": [
    "## Download the Data\n",
    "\n",
    "To download the data we need to use `curatedTCGAData`function. The first argument is a four letter disease (cancer) code (A complete list of disease codes used by the TCGA project are available on the [NCI Genomic Data Commons website](https://gdc.cancer.gov/resources-tcga-users/tcga-code-tables/tcga-study-abbreviations)), the second argument is a vector of data types we want to download. We need to specify `dry.run = FALSE` to download the data.\n",
    "\n",
    "In this specific case, we are gonna work with RNA-Seq data, mutation data and methylation data from Rectum Adenocarcinoma (READ). The clinical data is included by default."
   ],
   "id": "e0da76ce-db1b-4250-8359-5ef4170a76d1"
  },
  {
   "cell_type": "code",
   "execution_count": null,
   "metadata": {},
   "outputs": [
    {
     "output_type": "stream",
     "name": "stderr",
     "text": [
      "Working on: READ_Mutation-20160128"
     ]
    },
    {
     "output_type": "stream",
     "name": "stderr",
     "text": [
      "see ?curatedTCGAData and browseVignettes('curatedTCGAData') for documentation"
     ]
    },
    {
     "output_type": "stream",
     "name": "stderr",
     "text": [
      "loading from cache"
     ]
    },
    {
     "output_type": "stream",
     "name": "stderr",
     "text": [
      "require(\"RaggedExperiment\")"
     ]
    },
    {
     "output_type": "stream",
     "name": "stderr",
     "text": [
      "Warning: package 'RaggedExperiment' was built under R version 4.3.1"
     ]
    },
    {
     "output_type": "stream",
     "name": "stderr",
     "text": [
      "Working on: READ_RNASeq2GeneNorm-20160128"
     ]
    },
    {
     "output_type": "stream",
     "name": "stderr",
     "text": [
      "see ?curatedTCGAData and browseVignettes('curatedTCGAData') for documentation"
     ]
    },
    {
     "output_type": "stream",
     "name": "stderr",
     "text": [
      "loading from cache"
     ]
    },
    {
     "output_type": "stream",
     "name": "stderr",
     "text": [
      "Working on: READ_Methylation_methyl450-20160128"
     ]
    },
    {
     "output_type": "stream",
     "name": "stderr",
     "text": [
      "see ?curatedTCGAData and browseVignettes('curatedTCGAData') for documentation"
     ]
    },
    {
     "output_type": "stream",
     "name": "stderr",
     "text": [
      "loading from cache"
     ]
    },
    {
     "output_type": "stream",
     "name": "stderr",
     "text": [
      "require(\"rhdf5\")"
     ]
    },
    {
     "output_type": "stream",
     "name": "stderr",
     "text": [
      "Warning: package 'rhdf5' was built under R version 4.3.2"
     ]
    },
    {
     "output_type": "stream",
     "name": "stderr",
     "text": [
      "see ?curatedTCGAData and browseVignettes('curatedTCGAData') for documentation"
     ]
    },
    {
     "output_type": "stream",
     "name": "stderr",
     "text": [
      "loading from cache"
     ]
    },
    {
     "output_type": "stream",
     "name": "stderr",
     "text": [
      "Loading required package: HDF5Array"
     ]
    },
    {
     "output_type": "stream",
     "name": "stderr",
     "text": [
      "Warning: package 'HDF5Array' was built under R version 4.3.2"
     ]
    },
    {
     "output_type": "stream",
     "name": "stderr",
     "text": [
      "Loading required package: DelayedArray"
     ]
    },
    {
     "output_type": "stream",
     "name": "stderr",
     "text": [
      "Warning: package 'DelayedArray' was built under R version 4.3.1"
     ]
    },
    {
     "output_type": "stream",
     "name": "stderr",
     "text": [
      "Loading required package: Matrix"
     ]
    },
    {
     "output_type": "stream",
     "name": "stderr",
     "text": [
      "Warning: package 'Matrix' was built under R version 4.3.2"
     ]
    },
    {
     "output_type": "stream",
     "name": "stderr",
     "text": [
      "\n",
      "Attaching package: 'Matrix'"
     ]
    },
    {
     "output_type": "stream",
     "name": "stderr",
     "text": [
      "The following object is masked from 'package:S4Vectors':\n",
      "\n",
      "    expand"
     ]
    },
    {
     "output_type": "stream",
     "name": "stderr",
     "text": [
      "The following objects are masked from 'package:tidyr':\n",
      "\n",
      "    expand, pack, unpack"
     ]
    },
    {
     "output_type": "stream",
     "name": "stderr",
     "text": [
      "Loading required package: S4Arrays"
     ]
    },
    {
     "output_type": "stream",
     "name": "stderr",
     "text": [
      "Warning: package 'S4Arrays' was built under R version 4.3.2"
     ]
    },
    {
     "output_type": "stream",
     "name": "stderr",
     "text": [
      "Loading required package: abind"
     ]
    },
    {
     "output_type": "stream",
     "name": "stderr",
     "text": [
      "\n",
      "Attaching package: 'S4Arrays'"
     ]
    },
    {
     "output_type": "stream",
     "name": "stderr",
     "text": [
      "The following object is masked from 'package:abind':\n",
      "\n",
      "    abind"
     ]
    },
    {
     "output_type": "stream",
     "name": "stderr",
     "text": [
      "The following object is masked from 'package:base':\n",
      "\n",
      "    rowsum"
     ]
    },
    {
     "output_type": "stream",
     "name": "stderr",
     "text": [
      "Loading required package: SparseArray"
     ]
    },
    {
     "output_type": "stream",
     "name": "stderr",
     "text": [
      "Warning: package 'SparseArray' was built under R version 4.3.2"
     ]
    },
    {
     "output_type": "stream",
     "name": "stderr",
     "text": [
      "\n",
      "Attaching package: 'DelayedArray'"
     ]
    },
    {
     "output_type": "stream",
     "name": "stderr",
     "text": [
      "The following object is masked from 'package:purrr':\n",
      "\n",
      "    simplify"
     ]
    },
    {
     "output_type": "stream",
     "name": "stderr",
     "text": [
      "The following objects are masked from 'package:base':\n",
      "\n",
      "    apply, scale, sweep"
     ]
    },
    {
     "output_type": "stream",
     "name": "stderr",
     "text": [
      "\n",
      "Attaching package: 'HDF5Array'"
     ]
    },
    {
     "output_type": "stream",
     "name": "stderr",
     "text": [
      "The following object is masked from 'package:rhdf5':\n",
      "\n",
      "    h5ls"
     ]
    },
    {
     "output_type": "stream",
     "name": "stderr",
     "text": [
      "Working on: READ_colData-20160128"
     ]
    },
    {
     "output_type": "stream",
     "name": "stderr",
     "text": [
      "see ?curatedTCGAData and browseVignettes('curatedTCGAData') for documentation"
     ]
    },
    {
     "output_type": "stream",
     "name": "stderr",
     "text": [
      "loading from cache"
     ]
    },
    {
     "output_type": "stream",
     "name": "stderr",
     "text": [
      "Working on: READ_sampleMap-20160128"
     ]
    },
    {
     "output_type": "stream",
     "name": "stderr",
     "text": [
      "see ?curatedTCGAData and browseVignettes('curatedTCGAData') for documentation"
     ]
    },
    {
     "output_type": "stream",
     "name": "stderr",
     "text": [
      "loading from cache"
     ]
    },
    {
     "output_type": "stream",
     "name": "stderr",
     "text": [
      "Working on: READ_metadata-20160128"
     ]
    },
    {
     "output_type": "stream",
     "name": "stderr",
     "text": [
      "see ?curatedTCGAData and browseVignettes('curatedTCGAData') for documentation"
     ]
    },
    {
     "output_type": "stream",
     "name": "stderr",
     "text": [
      "loading from cache"
     ]
    },
    {
     "output_type": "stream",
     "name": "stderr",
     "text": [
      "harmonizing input:\n",
      "  removing 1903 sampleMap rows not in names(experiments)\n",
      "  removing 2 colData rownames not in sampleMap 'primary'"
     ]
    },
    {
     "output_type": "stream",
     "name": "stdout",
     "text": [
      "A MultiAssayExperiment object of 3 listed\n",
      " experiments with user-defined names and respective classes.\n",
      " Containing an ExperimentList class object of length 3:\n",
      " [1] READ_Mutation-20160128: RaggedExperiment with 22075 rows and 69 columns\n",
      " [2] READ_RNASeq2GeneNorm-20160128: SummarizedExperiment with 18115 rows and 177 columns\n",
      " [3] READ_Methylation_methyl450-20160128: SummarizedExperiment with 485577 rows and 106 columns\n",
      "Functionality:\n",
      " experiments() - obtain the ExperimentList instance\n",
      " colData() - the primary/phenotype DataFrame\n",
      " sampleMap() - the sample coordination DataFrame\n",
      " `$`, `[`, `[[` - extract colData columns, subset, or experiment\n",
      " *Format() - convert into a long or wide DataFrame\n",
      " assays() - convert ExperimentList to a SimpleList of matrices\n",
      " exportClass() - save data to flat files"
     ]
    }
   ],
   "source": [
    "\n",
    "readData = curatedTCGAData(\"READ\", \n",
    "                           c(\"RNASeq2GeneNorm\", \"Mutation\", \"Methylation_methyl450\"), \n",
    "                           dry.run = FALSE, version = \"2.1.1\")\n"
   ],
   "id": "3f63f536-59b2-4355-affa-7e4d3c13d863"
  },
  {
   "cell_type": "markdown",
   "metadata": {},
   "source": [
    "We can see which patients have data for each assay. The assay column gives the experiment type, the primary column gives the unique patient ID and the colname gives the sample ID used as a identifier within a given experiment."
   ],
   "id": "d3bbe4e6-46ab-4aad-8bf6-9580870dd829"
  },
  {
   "cell_type": "code",
   "execution_count": null,
   "metadata": {},
   "outputs": [
    {
     "output_type": "stream",
     "name": "stdout",
     "text": [
      "DataFrame with 352 rows and 3 columns\n",
      "                                  assay      primary                colname\n",
      "                               <factor>  <character>            <character>\n",
      "1   READ_Methylation_methyl450-20160128 TCGA-AF-2687 TCGA-AF-2687-01A-02D..\n",
      "2   READ_Methylation_methyl450-20160128 TCGA-AF-2690 TCGA-AF-2690-01A-02D..\n",
      "3   READ_Methylation_methyl450-20160128 TCGA-AF-2693 TCGA-AF-2693-01A-02D..\n",
      "4   READ_Methylation_methyl450-20160128 TCGA-AF-3911 TCGA-AF-3911-01A-01D..\n",
      "5   READ_Methylation_methyl450-20160128 TCGA-AF-4110 TCGA-AF-4110-01A-02D..\n",
      "...                                 ...          ...                    ...\n",
      "348       READ_RNASeq2GeneNorm-20160128 TCGA-AG-A02G        TCGA-AG-A02G-01\n",
      "349       READ_RNASeq2GeneNorm-20160128 TCGA-AG-A02N        TCGA-AG-A02N-01\n",
      "350       READ_RNASeq2GeneNorm-20160128 TCGA-AG-A02X        TCGA-AG-A02X-01\n",
      "351       READ_RNASeq2GeneNorm-20160128 TCGA-AG-A032        TCGA-AG-A032-01\n",
      "352       READ_RNASeq2GeneNorm-20160128 TCGA-AG-A036        TCGA-AG-A036-01"
     ]
    }
   ],
   "source": [
    "sampleMap(readData)\n"
   ],
   "id": "57b8e1ed-b42a-46a2-bd4b-1f80a294dee7"
  },
  {
   "cell_type": "markdown",
   "metadata": {},
   "source": [
    "Not all patients have data for all assays, and some of them can have multiple data entries for one or more experiment type. This may correspond to multiple biopsies or matched tumor and normal samples from an individual patient."
   ],
   "id": "ce02f464-d431-4186-80e8-c5cf48e693cb"
  },
  {
   "cell_type": "code",
   "execution_count": null,
   "metadata": {},
   "outputs": [
    {
     "output_type": "stream",
     "name": "stdout",
     "text": [
      "\n",
      "  1   2   3   4 \n",
      "  5 147   7   8 "
     ]
    }
   ],
   "source": [
    "sampleMap(readData) |> \n",
    "  as_tibble() |> \n",
    "  pull(primary) |> \n",
    "  table() |> \n",
    "  table()\n"
   ],
   "id": "86e40b44-9aae-4087-9230-e8b7471bb0a6"
  }
 ],
 "nbformat": 4,
 "nbformat_minor": 5,
 "metadata": {}
}
