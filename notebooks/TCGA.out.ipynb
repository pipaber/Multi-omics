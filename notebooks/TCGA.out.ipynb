{
 "cells": [
  {
   "cell_type": "markdown",
   "metadata": {},
   "source": [
    "# Integrative Analysis with TCGA Data\n",
    "\n",
    "Analysis of Mutation Data from The Cancer Genome Atlas (TCGA)"
   ],
   "id": "bc12779d-520a-44a4-93ac-01cedd66b80f"
  },
  {
   "cell_type": "code",
   "execution_count": null,
   "metadata": {},
   "outputs": [
    {
     "output_type": "stream",
     "name": "stderr",
     "text": [
      "Warning: package 'knitr' was built under R version 4.3.3"
     ]
    },
    {
     "output_type": "stream",
     "name": "stderr",
     "text": [
      "Warning: package 'ggplot2' was built under R version 4.3.2"
     ]
    },
    {
     "output_type": "stream",
     "name": "stderr",
     "text": [
      "Warning: package 'tidyr' was built under R version 4.3.2"
     ]
    },
    {
     "output_type": "stream",
     "name": "stderr",
     "text": [
      "Warning: package 'readr' was built under R version 4.3.2"
     ]
    },
    {
     "output_type": "stream",
     "name": "stderr",
     "text": [
      "Warning: package 'purrr' was built under R version 4.3.2"
     ]
    },
    {
     "output_type": "stream",
     "name": "stderr",
     "text": [
      "Warning: package 'dplyr' was built under R version 4.3.2"
     ]
    },
    {
     "output_type": "stream",
     "name": "stderr",
     "text": [
      "Warning: package 'stringr' was built under R version 4.3.2"
     ]
    },
    {
     "output_type": "stream",
     "name": "stderr",
     "text": [
      "Warning: package 'lubridate' was built under R version 4.3.2"
     ]
    },
    {
     "output_type": "stream",
     "name": "stderr",
     "text": [
      "── Attaching core tidyverse packages ──────────────────────── tidyverse 2.0.0 ──\n",
      "✔ dplyr     1.1.4     ✔ readr     2.1.5\n",
      "✔ forcats   1.0.0     ✔ stringr   1.5.1\n",
      "✔ ggplot2   3.5.0     ✔ tibble    3.2.1\n",
      "✔ lubridate 1.9.3     ✔ tidyr     1.3.1\n",
      "✔ purrr     1.0.2     \n",
      "── Conflicts ────────────────────────────────────────── tidyverse_conflicts() ──\n",
      "✖ dplyr::filter() masks stats::filter()\n",
      "✖ dplyr::lag()    masks stats::lag()\n",
      "ℹ Use the conflicted package (<http://conflicted.r-lib.org/>) to force all conflicts to become errors"
     ]
    }
   ],
   "source": [
    "library(knitr)\n"
   ],
   "id": "18d3fa4b-cd25-46e3-a038-2ca447ec70c4"
  },
  {
   "cell_type": "markdown",
   "metadata": {},
   "source": [
    "## Introduction\n",
    "\n",
    "The Cancer Genome Atlas (TCGA) is a massive cancer genomics project compiling high-throughput multi-omic data on dozens of cancer types for [public access](https://www.cancer.gov/ccg/research/genome-sequencing/tcga).\n",
    "\n",
    "We are gonna use the `curatedTCGAData` package to manipulate locally to multiple high-throughput datasets from the project. The package provides access to TCGA data that has been curated and stored as a *MultiAssayExperiment* object on the Bioconductor [ExperimentHub](https://bioconductor.org/packages/release/bioc/html/ExperimentHub.html).\n",
    "\n",
    "First, let’s load the packages needed."
   ],
   "id": "43419d23-5c13-4722-be20-66d97ff80a94"
  },
  {
   "cell_type": "code",
   "execution_count": null,
   "metadata": {},
   "outputs": [
    {
     "output_type": "stream",
     "name": "stderr",
     "text": [
      "Loading required package: MultiAssayExperiment"
     ]
    },
    {
     "output_type": "stream",
     "name": "stderr",
     "text": [
      "Warning: package 'MultiAssayExperiment' was built under R version 4.3.1"
     ]
    },
    {
     "output_type": "stream",
     "name": "stderr",
     "text": [
      "Loading required package: SummarizedExperiment"
     ]
    },
    {
     "output_type": "stream",
     "name": "stderr",
     "text": [
      "Warning: package 'SummarizedExperiment' was built under R version 4.3.1"
     ]
    },
    {
     "output_type": "stream",
     "name": "stderr",
     "text": [
      "Loading required package: MatrixGenerics"
     ]
    },
    {
     "output_type": "stream",
     "name": "stderr",
     "text": [
      "Warning: package 'MatrixGenerics' was built under R version 4.3.1"
     ]
    },
    {
     "output_type": "stream",
     "name": "stderr",
     "text": [
      "Loading required package: matrixStats"
     ]
    },
    {
     "output_type": "stream",
     "name": "stderr",
     "text": [
      "Warning: package 'matrixStats' was built under R version 4.3.2"
     ]
    },
    {
     "output_type": "stream",
     "name": "stderr",
     "text": [
      "\n",
      "Attaching package: 'matrixStats'"
     ]
    },
    {
     "output_type": "stream",
     "name": "stderr",
     "text": [
      "The following object is masked from 'package:dplyr':\n",
      "\n",
      "    count"
     ]
    },
    {
     "output_type": "stream",
     "name": "stderr",
     "text": [
      "\n",
      "Attaching package: 'MatrixGenerics'"
     ]
    },
    {
     "output_type": "stream",
     "name": "stderr",
     "text": [
      "The following objects are masked from 'package:matrixStats':\n",
      "\n",
      "    colAlls, colAnyNAs, colAnys, colAvgsPerRowSet, colCollapse,\n",
      "    colCounts, colCummaxs, colCummins, colCumprods, colCumsums,\n",
      "    colDiffs, colIQRDiffs, colIQRs, colLogSumExps, colMadDiffs,\n",
      "    colMads, colMaxs, colMeans2, colMedians, colMins, colOrderStats,\n",
      "    colProds, colQuantiles, colRanges, colRanks, colSdDiffs, colSds,\n",
      "    colSums2, colTabulates, colVarDiffs, colVars, colWeightedMads,\n",
      "    colWeightedMeans, colWeightedMedians, colWeightedSds,\n",
      "    colWeightedVars, rowAlls, rowAnyNAs, rowAnys, rowAvgsPerColSet,\n",
      "    rowCollapse, rowCounts, rowCummaxs, rowCummins, rowCumprods,\n",
      "    rowCumsums, rowDiffs, rowIQRDiffs, rowIQRs, rowLogSumExps,\n",
      "    rowMadDiffs, rowMads, rowMaxs, rowMeans2, rowMedians, rowMins,\n",
      "    rowOrderStats, rowProds, rowQuantiles, rowRanges, rowRanks,\n",
      "    rowSdDiffs, rowSds, rowSums2, rowTabulates, rowVarDiffs, rowVars,\n",
      "    rowWeightedMads, rowWeightedMeans, rowWeightedMedians,\n",
      "    rowWeightedSds, rowWeightedVars"
     ]
    },
    {
     "output_type": "stream",
     "name": "stderr",
     "text": [
      "Loading required package: GenomicRanges"
     ]
    },
    {
     "output_type": "stream",
     "name": "stderr",
     "text": [
      "Loading required package: stats4"
     ]
    },
    {
     "output_type": "stream",
     "name": "stderr",
     "text": [
      "Loading required package: BiocGenerics"
     ]
    },
    {
     "output_type": "stream",
     "name": "stderr",
     "text": [
      "Warning: package 'BiocGenerics' was built under R version 4.3.1"
     ]
    },
    {
     "output_type": "stream",
     "name": "stderr",
     "text": [
      "\n",
      "Attaching package: 'BiocGenerics'"
     ]
    },
    {
     "output_type": "stream",
     "name": "stderr",
     "text": [
      "The following objects are masked from 'package:lubridate':\n",
      "\n",
      "    intersect, setdiff, union"
     ]
    },
    {
     "output_type": "stream",
     "name": "stderr",
     "text": [
      "The following objects are masked from 'package:dplyr':\n",
      "\n",
      "    combine, intersect, setdiff, union"
     ]
    },
    {
     "output_type": "stream",
     "name": "stderr",
     "text": [
      "The following objects are masked from 'package:stats':\n",
      "\n",
      "    IQR, mad, sd, var, xtabs"
     ]
    },
    {
     "output_type": "stream",
     "name": "stderr",
     "text": [
      "The following objects are masked from 'package:base':\n",
      "\n",
      "    anyDuplicated, aperm, append, as.data.frame, basename, cbind,\n",
      "    colnames, dirname, do.call, duplicated, eval, evalq, Filter, Find,\n",
      "    get, grep, grepl, intersect, is.unsorted, lapply, Map, mapply,\n",
      "    match, mget, order, paste, pmax, pmax.int, pmin, pmin.int,\n",
      "    Position, rank, rbind, Reduce, rownames, sapply, setdiff, sort,\n",
      "    table, tapply, union, unique, unsplit, which.max, which.min"
     ]
    },
    {
     "output_type": "stream",
     "name": "stderr",
     "text": [
      "Loading required package: S4Vectors"
     ]
    },
    {
     "output_type": "stream",
     "name": "stderr",
     "text": [
      "\n",
      "Attaching package: 'S4Vectors'"
     ]
    },
    {
     "output_type": "stream",
     "name": "stderr",
     "text": [
      "The following objects are masked from 'package:lubridate':\n",
      "\n",
      "    second, second<-"
     ]
    },
    {
     "output_type": "stream",
     "name": "stderr",
     "text": [
      "The following objects are masked from 'package:dplyr':\n",
      "\n",
      "    first, rename"
     ]
    },
    {
     "output_type": "stream",
     "name": "stderr",
     "text": [
      "The following object is masked from 'package:tidyr':\n",
      "\n",
      "    expand"
     ]
    },
    {
     "output_type": "stream",
     "name": "stderr",
     "text": [
      "The following object is masked from 'package:utils':\n",
      "\n",
      "    findMatches"
     ]
    },
    {
     "output_type": "stream",
     "name": "stderr",
     "text": [
      "The following objects are masked from 'package:base':\n",
      "\n",
      "    expand.grid, I, unname"
     ]
    },
    {
     "output_type": "stream",
     "name": "stderr",
     "text": [
      "Loading required package: IRanges"
     ]
    },
    {
     "output_type": "stream",
     "name": "stderr",
     "text": [
      "\n",
      "Attaching package: 'IRanges'"
     ]
    },
    {
     "output_type": "stream",
     "name": "stderr",
     "text": [
      "The following object is masked from 'package:lubridate':\n",
      "\n",
      "    %within%"
     ]
    },
    {
     "output_type": "stream",
     "name": "stderr",
     "text": [
      "The following objects are masked from 'package:dplyr':\n",
      "\n",
      "    collapse, desc, slice"
     ]
    },
    {
     "output_type": "stream",
     "name": "stderr",
     "text": [
      "The following object is masked from 'package:purrr':\n",
      "\n",
      "    reduce"
     ]
    },
    {
     "output_type": "stream",
     "name": "stderr",
     "text": [
      "The following object is masked from 'package:grDevices':\n",
      "\n",
      "    windows"
     ]
    },
    {
     "output_type": "stream",
     "name": "stderr",
     "text": [
      "Loading required package: GenomeInfoDb"
     ]
    },
    {
     "output_type": "stream",
     "name": "stderr",
     "text": [
      "Warning: package 'GenomeInfoDb' was built under R version 4.3.2"
     ]
    },
    {
     "output_type": "stream",
     "name": "stderr",
     "text": [
      "Loading required package: Biobase"
     ]
    },
    {
     "output_type": "stream",
     "name": "stderr",
     "text": [
      "Welcome to Bioconductor\n",
      "\n",
      "    Vignettes contain introductory material; view with\n",
      "    'browseVignettes()'. To cite Bioconductor, see\n",
      "    'citation(\"Biobase\")', and for packages 'citation(\"pkgname\")'."
     ]
    },
    {
     "output_type": "stream",
     "name": "stderr",
     "text": [
      "\n",
      "Attaching package: 'Biobase'"
     ]
    },
    {
     "output_type": "stream",
     "name": "stderr",
     "text": [
      "The following object is masked from 'package:MatrixGenerics':\n",
      "\n",
      "    rowMedians"
     ]
    },
    {
     "output_type": "stream",
     "name": "stderr",
     "text": [
      "The following objects are masked from 'package:matrixStats':\n",
      "\n",
      "    anyMissing, rowMedians"
     ]
    },
    {
     "output_type": "stream",
     "name": "stderr",
     "text": [
      "Warning: package 'TCGAutils' was built under R version 4.3.2"
     ]
    }
   ],
   "source": [
    "library(curatedTCGAData)\n"
   ],
   "id": "3317656d-09ed-4724-934b-fcfd2c631d0d"
  },
  {
   "cell_type": "markdown",
   "metadata": {},
   "source": [
    "## Download the Data\n",
    "\n",
    "To download the data we need to use `curatedTCGAData`function. The first argument is a four letter disease (cancer) code (A complete list of disease codes used by the TCGA project are available on the [NCI Genomic Data Commons website](https://gdc.cancer.gov/resources-tcga-users/tcga-code-tables/tcga-study-abbreviations)), the second argument is a vector of data types we want to download. We need to specify `dry.run = FALSE` to download the data.\n",
    "\n",
    "In this specific case, we are gonna work with RNA-Seq data, mutation data and methylation data from Rectum Adenocarcinoma (READ). The clinical data is included by default."
   ],
   "id": "23e610c8-b18d-45f2-8ccb-1b2912c9e0e0"
  },
  {
   "cell_type": "code",
   "execution_count": null,
   "metadata": {},
   "outputs": [
    {
     "output_type": "stream",
     "name": "stderr",
     "text": [
      "Working on: READ_Mutation-20160128"
     ]
    },
    {
     "output_type": "stream",
     "name": "stderr",
     "text": [
      "see ?curatedTCGAData and browseVignettes('curatedTCGAData') for documentation"
     ]
    },
    {
     "output_type": "stream",
     "name": "stderr",
     "text": [
      "loading from cache"
     ]
    },
    {
     "output_type": "stream",
     "name": "stderr",
     "text": [
      "require(\"RaggedExperiment\")"
     ]
    },
    {
     "output_type": "stream",
     "name": "stderr",
     "text": [
      "Warning: package 'RaggedExperiment' was built under R version 4.3.1"
     ]
    },
    {
     "output_type": "stream",
     "name": "stderr",
     "text": [
      "Working on: READ_RNASeq2GeneNorm-20160128"
     ]
    },
    {
     "output_type": "stream",
     "name": "stderr",
     "text": [
      "see ?curatedTCGAData and browseVignettes('curatedTCGAData') for documentation"
     ]
    },
    {
     "output_type": "stream",
     "name": "stderr",
     "text": [
      "loading from cache"
     ]
    },
    {
     "output_type": "stream",
     "name": "stderr",
     "text": [
      "Working on: READ_Methylation_methyl450-20160128"
     ]
    },
    {
     "output_type": "stream",
     "name": "stderr",
     "text": [
      "see ?curatedTCGAData and browseVignettes('curatedTCGAData') for documentation"
     ]
    },
    {
     "output_type": "stream",
     "name": "stderr",
     "text": [
      "loading from cache"
     ]
    },
    {
     "output_type": "stream",
     "name": "stderr",
     "text": [
      "require(\"rhdf5\")"
     ]
    },
    {
     "output_type": "stream",
     "name": "stderr",
     "text": [
      "Warning: package 'rhdf5' was built under R version 4.3.2"
     ]
    },
    {
     "output_type": "stream",
     "name": "stderr",
     "text": [
      "see ?curatedTCGAData and browseVignettes('curatedTCGAData') for documentation"
     ]
    },
    {
     "output_type": "stream",
     "name": "stderr",
     "text": [
      "loading from cache"
     ]
    },
    {
     "output_type": "stream",
     "name": "stderr",
     "text": [
      "Loading required package: HDF5Array"
     ]
    },
    {
     "output_type": "stream",
     "name": "stderr",
     "text": [
      "Warning: package 'HDF5Array' was built under R version 4.3.2"
     ]
    },
    {
     "output_type": "stream",
     "name": "stderr",
     "text": [
      "Loading required package: DelayedArray"
     ]
    },
    {
     "output_type": "stream",
     "name": "stderr",
     "text": [
      "Warning: package 'DelayedArray' was built under R version 4.3.1"
     ]
    },
    {
     "output_type": "stream",
     "name": "stderr",
     "text": [
      "Loading required package: Matrix"
     ]
    },
    {
     "output_type": "stream",
     "name": "stderr",
     "text": [
      "Warning: package 'Matrix' was built under R version 4.3.2"
     ]
    },
    {
     "output_type": "stream",
     "name": "stderr",
     "text": [
      "\n",
      "Attaching package: 'Matrix'"
     ]
    },
    {
     "output_type": "stream",
     "name": "stderr",
     "text": [
      "The following object is masked from 'package:S4Vectors':\n",
      "\n",
      "    expand"
     ]
    },
    {
     "output_type": "stream",
     "name": "stderr",
     "text": [
      "The following objects are masked from 'package:tidyr':\n",
      "\n",
      "    expand, pack, unpack"
     ]
    },
    {
     "output_type": "stream",
     "name": "stderr",
     "text": [
      "Loading required package: S4Arrays"
     ]
    },
    {
     "output_type": "stream",
     "name": "stderr",
     "text": [
      "Warning: package 'S4Arrays' was built under R version 4.3.2"
     ]
    },
    {
     "output_type": "stream",
     "name": "stderr",
     "text": [
      "Loading required package: abind"
     ]
    },
    {
     "output_type": "stream",
     "name": "stderr",
     "text": [
      "\n",
      "Attaching package: 'S4Arrays'"
     ]
    },
    {
     "output_type": "stream",
     "name": "stderr",
     "text": [
      "The following object is masked from 'package:abind':\n",
      "\n",
      "    abind"
     ]
    },
    {
     "output_type": "stream",
     "name": "stderr",
     "text": [
      "The following object is masked from 'package:base':\n",
      "\n",
      "    rowsum"
     ]
    },
    {
     "output_type": "stream",
     "name": "stderr",
     "text": [
      "Loading required package: SparseArray"
     ]
    },
    {
     "output_type": "stream",
     "name": "stderr",
     "text": [
      "Warning: package 'SparseArray' was built under R version 4.3.2"
     ]
    },
    {
     "output_type": "stream",
     "name": "stderr",
     "text": [
      "\n",
      "Attaching package: 'DelayedArray'"
     ]
    },
    {
     "output_type": "stream",
     "name": "stderr",
     "text": [
      "The following object is masked from 'package:purrr':\n",
      "\n",
      "    simplify"
     ]
    },
    {
     "output_type": "stream",
     "name": "stderr",
     "text": [
      "The following objects are masked from 'package:base':\n",
      "\n",
      "    apply, scale, sweep"
     ]
    },
    {
     "output_type": "stream",
     "name": "stderr",
     "text": [
      "\n",
      "Attaching package: 'HDF5Array'"
     ]
    },
    {
     "output_type": "stream",
     "name": "stderr",
     "text": [
      "The following object is masked from 'package:rhdf5':\n",
      "\n",
      "    h5ls"
     ]
    },
    {
     "output_type": "stream",
     "name": "stderr",
     "text": [
      "Working on: READ_colData-20160128"
     ]
    },
    {
     "output_type": "stream",
     "name": "stderr",
     "text": [
      "see ?curatedTCGAData and browseVignettes('curatedTCGAData') for documentation"
     ]
    },
    {
     "output_type": "stream",
     "name": "stderr",
     "text": [
      "loading from cache"
     ]
    },
    {
     "output_type": "stream",
     "name": "stderr",
     "text": [
      "Working on: READ_sampleMap-20160128"
     ]
    },
    {
     "output_type": "stream",
     "name": "stderr",
     "text": [
      "see ?curatedTCGAData and browseVignettes('curatedTCGAData') for documentation"
     ]
    },
    {
     "output_type": "stream",
     "name": "stderr",
     "text": [
      "loading from cache"
     ]
    },
    {
     "output_type": "stream",
     "name": "stderr",
     "text": [
      "Working on: READ_metadata-20160128"
     ]
    },
    {
     "output_type": "stream",
     "name": "stderr",
     "text": [
      "see ?curatedTCGAData and browseVignettes('curatedTCGAData') for documentation"
     ]
    },
    {
     "output_type": "stream",
     "name": "stderr",
     "text": [
      "loading from cache"
     ]
    },
    {
     "output_type": "stream",
     "name": "stderr",
     "text": [
      "harmonizing input:\n",
      "  removing 1903 sampleMap rows not in names(experiments)\n",
      "  removing 2 colData rownames not in sampleMap 'primary'"
     ]
    },
    {
     "output_type": "stream",
     "name": "stdout",
     "text": [
      "A MultiAssayExperiment object of 3 listed\n",
      " experiments with user-defined names and respective classes.\n",
      " Containing an ExperimentList class object of length 3:\n",
      " [1] READ_Mutation-20160128: RaggedExperiment with 22075 rows and 69 columns\n",
      " [2] READ_RNASeq2GeneNorm-20160128: SummarizedExperiment with 18115 rows and 177 columns\n",
      " [3] READ_Methylation_methyl450-20160128: SummarizedExperiment with 485577 rows and 106 columns\n",
      "Functionality:\n",
      " experiments() - obtain the ExperimentList instance\n",
      " colData() - the primary/phenotype DataFrame\n",
      " sampleMap() - the sample coordination DataFrame\n",
      " `$`, `[`, `[[` - extract colData columns, subset, or experiment\n",
      " *Format() - convert into a long or wide DataFrame\n",
      " assays() - convert ExperimentList to a SimpleList of matrices\n",
      " exportClass() - save data to flat files"
     ]
    }
   ],
   "source": [
    "\n",
    "readData = curatedTCGAData(\"READ\", \n",
    "                           c(\"RNASeq2GeneNorm\", \"Mutation\", \"Methylation_methyl450\"), \n",
    "                           dry.run = FALSE, version = \"2.1.1\")\n"
   ],
   "id": "ce1fc116-4d5f-4d62-ac4c-f15910e06859"
  },
  {
   "cell_type": "markdown",
   "metadata": {},
   "source": [
    "## Review the Clinical Metadata\n",
    "\n",
    "We can see which patients have data for each assay. The assay column gives the experiment type, the primary column gives the unique patient ID and the colname gives the sample ID used as a identifier within a given experiment."
   ],
   "id": "99945596-d928-48cd-b3ef-247432c2584a"
  },
  {
   "cell_type": "code",
   "execution_count": null,
   "metadata": {},
   "outputs": [
    {
     "output_type": "stream",
     "name": "stdout",
     "text": [
      "DataFrame with 352 rows and 3 columns\n",
      "                                  assay      primary                colname\n",
      "                               <factor>  <character>            <character>\n",
      "1   READ_Methylation_methyl450-20160128 TCGA-AF-2687 TCGA-AF-2687-01A-02D..\n",
      "2   READ_Methylation_methyl450-20160128 TCGA-AF-2690 TCGA-AF-2690-01A-02D..\n",
      "3   READ_Methylation_methyl450-20160128 TCGA-AF-2693 TCGA-AF-2693-01A-02D..\n",
      "4   READ_Methylation_methyl450-20160128 TCGA-AF-3911 TCGA-AF-3911-01A-01D..\n",
      "5   READ_Methylation_methyl450-20160128 TCGA-AF-4110 TCGA-AF-4110-01A-02D..\n",
      "...                                 ...          ...                    ...\n",
      "348       READ_RNASeq2GeneNorm-20160128 TCGA-AG-A02G        TCGA-AG-A02G-01\n",
      "349       READ_RNASeq2GeneNorm-20160128 TCGA-AG-A02N        TCGA-AG-A02N-01\n",
      "350       READ_RNASeq2GeneNorm-20160128 TCGA-AG-A02X        TCGA-AG-A02X-01\n",
      "351       READ_RNASeq2GeneNorm-20160128 TCGA-AG-A032        TCGA-AG-A032-01\n",
      "352       READ_RNASeq2GeneNorm-20160128 TCGA-AG-A036        TCGA-AG-A036-01"
     ]
    }
   ],
   "source": [
    "sampleMap(readData)\n"
   ],
   "id": "d5b1184f-aad4-442d-8214-d7b6d155b4f0"
  },
  {
   "cell_type": "markdown",
   "metadata": {},
   "source": [
    "Not all patients have data for all assays, and some of them can have multiple data entries for one or more experiment type. This may correspond to multiple biopsies or matched tumor and normal samples from an individual patient."
   ],
   "id": "37c39df4-f5f9-4ace-b96a-0150b981d445"
  },
  {
   "cell_type": "code",
   "execution_count": null,
   "metadata": {},
   "outputs": [
    {
     "output_type": "stream",
     "name": "stdout",
     "text": [
      "\n",
      "  1   2   3   4 \n",
      "  5 147   7   8 "
     ]
    }
   ],
   "source": [
    "sampleMap(readData) |> \n",
    "  as_tibble() |> \n",
    "  pull(primary) |> \n",
    "  table() |> \n",
    "  table()\n"
   ],
   "id": "d259bfeb-9700-49d5-a0b4-e782f9d99887"
  },
  {
   "cell_type": "markdown",
   "metadata": {},
   "source": [
    "We can see the metadata of the patients with `colData`. Note that there are more than 2000 columns of data per patient (not necessarily complete)."
   ],
   "id": "1ecbb912-e9ee-4dc6-bfb9-1038230565e8"
  },
  {
   "cell_type": "code",
   "execution_count": null,
   "metadata": {},
   "outputs": [
    {
     "output_type": "stream",
     "name": "stdout",
     "text": [
      "[1]  167 2260"
     ]
    },
    {
     "output_type": "stream",
     "name": "stdout",
     "text": [
      " [1] \"patientID\"             \"years_to_birth\"        \"vital_status\"         \n",
      " [4] \"days_to_death\"         \"days_to_last_followup\" \"tumor_tissue_site\"    \n",
      " [7] \"pathologic_stage\"      \"pathology_T_stage\"     \"pathology_N_stage\"    \n",
      "[10] \"pathology_M_stage\"    "
     ]
    }
   ],
   "source": [
    "clin = colData(readData) |> \n",
    "  as_tibble()\n",
    "dim(clin)\n"
   ],
   "id": "49b0eebd-e5d1-46e3-b978-802c8f4451b8"
  },
  {
   "cell_type": "markdown",
   "metadata": {},
   "source": [
    "As an example, for rectum adenocarcinoma, we can see the tumor stage."
   ],
   "id": "00fcc89b-af49-4e70-9858-8a41075eba1b"
  },
  {
   "cell_type": "code",
   "execution_count": null,
   "metadata": {},
   "outputs": [
    {
     "output_type": "stream",
     "name": "stdout",
     "text": [
      "\n",
      " t1  t2  t3  t4 t4a t4b \n",
      "  9  28 114   5   8   1 "
     ]
    }
   ],
   "source": [
    "clin |> \n",
    "  pull(pathology_T_stage) |> \n",
    "  table()\n"
   ],
   "id": "d6665434-a773-4e6b-9caf-0295af7e078f"
  },
  {
   "cell_type": "markdown",
   "metadata": {},
   "source": [
    "Stage T4 have subgroups. To simplify the analysis, let’s combine all T4 tumors."
   ],
   "id": "5506c629-0b23-4045-9b86-c33fc28f97a6"
  },
  {
   "cell_type": "code",
   "execution_count": null,
   "metadata": {},
   "outputs": [
    {
     "output_type": "stream",
     "name": "stdout",
     "text": [
      "\n",
      " t1  t2  t3  t4 \n",
      "  9  28 114  14 "
     ]
    }
   ],
   "source": [
    "clin <- clin |> \n",
    "  mutate(t_stage = case_when(\n",
    "    pathology_T_stage %in% c(\"t4\",\"t4a\",\"t4b\") ~ \"t4\",\n",
    "    .default = pathology_T_stage\n",
    "  ))\n",
    "\n",
    "clin$t_stage |> \n",
    "  table()\n"
   ],
   "id": "8ee57dec-047a-4fa5-88ef-1dcef025a3b2"
  },
  {
   "cell_type": "markdown",
   "metadata": {},
   "source": [
    "Also, we can see the vital status (alive=0, deceased=1)"
   ],
   "id": "b5dd1d93-2cdd-476b-b90c-21632c46e41a"
  },
  {
   "cell_type": "code",
   "execution_count": null,
   "metadata": {},
   "outputs": [
    {
     "output_type": "stream",
     "name": "stdout",
     "text": [
      "\n",
      "  0   1 \n",
      "139  28 "
     ]
    }
   ],
   "source": [
    "clin$vital_status |> \n",
    "  table()\n"
   ],
   "id": "c2cbdfb9-4205-4d3a-b0e7-81f35ea1cdfd"
  },
  {
   "cell_type": "markdown",
   "metadata": {},
   "source": [
    "Or combine tumor status and vital status."
   ],
   "id": "60025a56-26f0-44f5-85cb-9ec53fc3daf8"
  },
  {
   "cell_type": "code",
   "execution_count": null,
   "metadata": {},
   "outputs": [
    {
     "output_type": "stream",
     "name": "stdout",
     "text": [
      "    \n",
      "      0  1\n",
      "  t1  9  0\n",
      "  t2 24  4\n",
      "  t3 96 18\n",
      "  t4  9  5"
     ]
    }
   ],
   "source": [
    "table(clin$t_stage, clin$vital_status)\n"
   ],
   "id": "6b035b3f-4289-4924-9660-d8f94164a1cf"
  },
  {
   "cell_type": "markdown",
   "metadata": {},
   "source": [
    "## Analyzing Mutation Data\n",
    "\n",
    "Let’s begin analyzing the mutation data. Below is the code to retrieve the mutation data."
   ],
   "id": "598cd388-c6ce-4bd1-8a14-7985a3ed6fef"
  },
  {
   "cell_type": "code",
   "execution_count": null,
   "metadata": {},
   "outputs": [
    {
     "output_type": "stream",
     "name": "stdout",
     "text": [
      "class: RaggedExperiment \n",
      "dim: 22075 69 \n",
      "assays(34): Hugo_Symbol Entrez_Gene_Id ... COSMIC_Gene Drug_Target\n",
      "rownames: NULL\n",
      "colnames(69): TCGA-AF-2689-01A-01W-0831-10 TCGA-AF-2691-01A-01W-0831-10\n",
      "  ... TCGA-AG-A032-01 TCGA-AG-A036-01\n",
      "colData names(0):"
     ]
    }
   ],
   "source": [
    "mut_data = readData[[1]]\n",
    "\n",
    "mut_data\n"
   ],
   "id": "066f0dea-057e-4f97-a7bd-5e21eb90d229"
  },
  {
   "cell_type": "markdown",
   "metadata": {},
   "source": [
    "From the inspection of the sample IDs we can see that the mutation colnames match to the **primary** column from he clinical data."
   ],
   "id": "b318fdb6-c747-4bcc-a75e-973874d84c98"
  },
  {
   "cell_type": "code",
   "execution_count": null,
   "metadata": {},
   "outputs": [
    {
     "output_type": "stream",
     "name": "stdout",
     "text": [
      "[1] \"TCGA-AF-2689-01A-01W-0831-10\" \"TCGA-AF-2691-01A-01W-0831-10\"\n",
      "[3] \"TCGA-AF-2692-01A-01W-0831-10\" \"TCGA-AF-3400-01A-01W-0831-10\"\n",
      "[5] \"TCGA-AF-3913-01\"              \"TCGA-AG-3574-01A-01W-0831-10\""
     ]
    },
    {
     "output_type": "stream",
     "name": "stdout",
     "text": [
      "[1] \"TCGA-AF-2687\" \"TCGA-AF-2689\" \"TCGA-AF-2690\" \"TCGA-AF-2691\" \"TCGA-AF-2692\"\n",
      "[6] \"TCGA-AF-2693\""
     ]
    }
   ],
   "source": [
    "mut_sample_ids = colnames(mut_data)\n",
    "head(mut_sample_ids)\n"
   ],
   "id": "d0230478-55e7-4dc7-bb6e-7ff9f3434709"
  },
  {
   "cell_type": "markdown",
   "metadata": {},
   "source": [
    "We need to manipulate these by substracting 12 characters."
   ],
   "id": "57baa31a-6deb-4454-b74c-0df9f7efd30d"
  },
  {
   "cell_type": "code",
   "execution_count": null,
   "metadata": {},
   "outputs": [
    {
     "output_type": "stream",
     "name": "stdout",
     "text": [
      "[1] TRUE"
     ]
    }
   ],
   "source": [
    "mut_sample_ids <- mut_sample_ids |> \n",
    "  stringr::str_sub(1,12)\n",
    "\n",
    "all(mut_sample_ids %in% clin$patientID)\n"
   ],
   "id": "e018e082-495a-4517-a0c3-b61081014e95"
  },
  {
   "cell_type": "markdown",
   "metadata": {},
   "source": [
    "Is important to note that the data stored in `assay(mut_data)` is difficult to work with because is a sparse matrix that has a row for each `GRanges` with a mutation in at least one sample."
   ],
   "id": "ecd53531-c533-443c-a548-9da456168d32"
  },
  {
   "cell_type": "code",
   "execution_count": null,
   "metadata": {},
   "outputs": [
    {
     "output_type": "stream",
     "name": "stdout",
     "text": [
      "                      TCGA-AF-2689-01A-01W-0831-10 TCGA-AF-2691-01A-01W-0831-10\n",
      "X:54241715-54241716:+ \"WNK3\"                       NA                          \n",
      "7:111899511:+         \"IFRD1\"                      NA                          \n",
      "7:113309556:+         \"PPP1R3A\"                    NA                          \n",
      "                      TCGA-AF-2692-01A-01W-0831-10\n",
      "X:54241715-54241716:+ NA                          \n",
      "7:111899511:+         NA                          \n",
      "7:113309556:+         NA                          "
     ]
    },
    {
     "output_type": "stream",
     "name": "stdout",
     "text": [
      "\n",
      "WNK3 <NA> \n",
      "   1   68 "
     ]
    }
   ],
   "source": [
    "assay(mut_data)[1:3,1:3]\n"
   ],
   "id": "d3541c32-b19f-40e1-92f3-f45a529ba705"
  },
  {
   "cell_type": "markdown",
   "metadata": {},
   "source": [
    "We can get more information if we look at the mutation information for each patient."
   ],
   "id": "403d03c5-a28a-427f-b5f9-4f6024787a34"
  },
  {
   "cell_type": "code",
   "execution_count": null,
   "metadata": {},
   "outputs": [
    {
     "output_type": "stream",
     "name": "stdout",
     "text": [
      "GRangesList object of length 69:\n",
      "$`TCGA-AF-2689-01A-01W-0831-10`\n",
      "GRanges object with 64 ranges and 34 metadata columns:\n",
      "       seqnames            ranges strand | Hugo_Symbol Entrez_Gene_Id\n",
      "          <Rle>         <IRanges>  <Rle> | <character>    <character>\n",
      "   [1]        X 54241715-54241716      + |        WNK3          65267\n",
      "   [2]        7         111899511      + |       IFRD1           3475\n",
      "   [3]        7         113309556      + |     PPP1R3A           5506\n",
      "   [4]        7         128146325      + |     FAM71F1          84691\n",
      "   [5]        7         156447624      + |        NOM1          64434\n",
      "   ...      ...               ...    ... .         ...            ...\n",
      "  [60]       10          50616059      + |       OGDHL          55753\n",
      "  [61]       10          96343335      + |       HELLS           3070\n",
      "  [62]        5         139173166      + |        PSD2          84249\n",
      "  [63]        5         147800932      + |      FBXO38          81545\n",
      "  [64]        5          54365356      + |        GZMK           3003\n",
      "             Center  NCBI_Build Variant_Classification Variant_Type\n",
      "        <character> <character>            <character>  <character>\n",
      "   [1] hgsc.bcm.edu          36        Frame_Shift_Ins          INS\n",
      "   [2] hgsc.bcm.edu          36      Missense_Mutation          SNP\n",
      "   [3] hgsc.bcm.edu          36      Missense_Mutation          SNP\n",
      "   [4] hgsc.bcm.edu          36                 Silent          SNP\n",
      "   [5] hgsc.bcm.edu          36      Missense_Mutation          SNP\n",
      "   ...          ...         ...                    ...          ...\n",
      "  [60] hgsc.bcm.edu          36                 Silent          SNP\n",
      "  [61] hgsc.bcm.edu          36                 Silent          SNP\n",
      "  [62] hgsc.bcm.edu          36      Nonsense_Mutation          SNP\n",
      "  [63] hgsc.bcm.edu          36                 Silent          SNP\n",
      "  [64] hgsc.bcm.edu          36      Missense_Mutation          SNP\n",
      "       Reference_Allele Tumor_Seq_Allele1 Tumor_Seq_Allele2    dbSNP_RS\n",
      "            <character>       <character>       <character> <character>\n",
      "   [1]                -                 -                 T       novel\n",
      "   [2]                A                 A                 G       novel\n",
      "   [3]                T                 T                 C       novel\n",
      "   [4]                G                 G                 A       novel\n",
      "   [5]                A                 A                 G       novel\n",
      "   ...              ...               ...               ...         ...\n",
      "  [60]                G                 G                 A       novel\n",
      "  [61]                T                 T                 C       novel\n",
      "  [62]                C                 C                 T       novel\n",
      "  [63]                G                 G                 A       novel\n",
      "  [64]                T                 T                 A       novel\n",
      "       dbSNP_Val_Status Matched_Norm_Sample_Barcode Match_Norm_Seq_Allele1\n",
      "            <character>                 <character>            <character>\n",
      "   [1]          unknown      TCGA-AF-2689-10A-01W..                      -\n",
      "   [2]          unknown      TCGA-AF-2689-10A-01W..                      A\n",
      "   [3]          unknown      TCGA-AF-2689-10A-01W..                      T\n",
      "   [4]          unknown      TCGA-AF-2689-10A-01W..                      G\n",
      "   [5]          unknown      TCGA-AF-2689-10A-01W..                      A\n",
      "   ...              ...                         ...                    ...\n",
      "  [60]          unknown      TCGA-AF-2689-10A-01W..                      G\n",
      "  [61]          unknown      TCGA-AF-2689-10A-01W..                      T\n",
      "  [62]          unknown      TCGA-AF-2689-10A-01W..                      C\n",
      "  [63]          unknown      TCGA-AF-2689-10A-01W..                      G\n",
      "  [64]          unknown      TCGA-AF-2689-10A-01W..                      T\n",
      "       Match_Norm_Seq_Allele2 Tumor_Validation_Allele1 Tumor_Validation_Allele2\n",
      "                  <character>              <character>              <character>\n",
      "   [1]                      -                        -                        T\n",
      "   [2]                      A                        A                        G\n",
      "   [3]                      T                        T                        C\n",
      "   [4]                      G                        .                        .\n",
      "   [5]                      A                        A                        G\n",
      "   ...                    ...                      ...                      ...\n",
      "  [60]                      G                        .                        .\n",
      "  [61]                      T                        .                        .\n",
      "  [62]                      C                        C                        T\n",
      "  [63]                      G                        G                        A\n",
      "  [64]                      T                        T                        A\n",
      "       Match_Norm_Validation_Allele1 Match_Norm_Validation_Allele2\n",
      "                         <character>                   <character>\n",
      "   [1]                             -                             -\n",
      "   [2]                             A                             A\n",
      "   [3]                             T                             T\n",
      "   [4]                             .                             .\n",
      "   [5]                             A                             A\n",
      "   ...                           ...                           ...\n",
      "  [60]                             .                             .\n",
      "  [61]                             .                             .\n",
      "  [62]                             C                             C\n",
      "  [63]                             G                             G\n",
      "  [64]                             T                             T\n",
      "       Verification_Status Validation_Status Mutation_Status Sequencing_Phase\n",
      "               <character>       <character>     <character>      <character>\n",
      "   [1]             Unknown             Valid         Somatic          Phase_I\n",
      "   [2]             Unknown             Valid         Somatic          Phase_I\n",
      "   [3]             Unknown             Valid         Somatic          Phase_I\n",
      "   [4]             Unknown           Unknown         Somatic          Phase_I\n",
      "   [5]             Unknown             Valid         Somatic          Phase_I\n",
      "   ...                 ...               ...             ...              ...\n",
      "  [60]             Unknown           Unknown         Somatic          Phase_I\n",
      "  [61]             Unknown           Unknown         Somatic          Phase_I\n",
      "  [62]             Unknown             Valid         Somatic          Phase_I\n",
      "  [63]             Unknown             Valid         Somatic          Phase_I\n",
      "  [64]             Unknown             Valid         Somatic          Phase_I\n",
      "       Sequence_Source Validation_Method       Score    BAM_file   Sequencer\n",
      "           <character>       <character> <character> <character> <character>\n",
      "   [1]         Capture               454                               SOLID\n",
      "   [2]         Capture               454                               SOLID\n",
      "   [3]         Capture               454                               SOLID\n",
      "   [4]         Capture                 .                               SOLID\n",
      "   [5]         Capture               454                               SOLID\n",
      "   ...             ...               ...         ...         ...         ...\n",
      "  [60]         Capture                 .                               SOLID\n",
      "  [61]         Capture                 .                               SOLID\n",
      "  [62]         Capture               454                               SOLID\n",
      "  [63]         Capture               454                               SOLID\n",
      "  [64]         Capture               454                               SOLID\n",
      "       TranscriptID        Exon     ChromChange    AAChange COSMIC_Codon\n",
      "        <character> <character>     <character> <character>  <character>\n",
      "   [1] NM_001002838      exon23 c.4999_5000insA   p.L1667fs            .\n",
      "   [2]    NM_001550      exon10        c.A1043G     p.E348G            .\n",
      "   [3]    NM_002711       exon2         c.A838G     p.T280A            .\n",
      "   [4]    NM_032599       exon3         c.G639A     p.T213T            .\n",
      "   [5]    NM_138400       exon5        c.A1651G     p.T551A            .\n",
      "   ...          ...         ...             ...         ...          ...\n",
      "  [60] NM_001143996      exon18        c.C2286T     p.S762S            .\n",
      "  [61]    NM_018063      exon18        c.T2061C     p.D687D            .\n",
      "  [62]    NM_032289       exon3         c.C460T     p.Q154X            .\n",
      "  [63]    NM_205836      exon21        c.G3327A    p.R1109R            .\n",
      "  [64]    NM_002104       exon5         c.T640A     p.S214T            .\n",
      "       COSMIC_Gene Drug_Target\n",
      "       <character> <character>\n",
      "   [1]           .           .\n",
      "   [2]           .           .\n",
      "   [3]           .           .\n",
      "   [4]           .           .\n",
      "   [5]           .           .\n",
      "   ...         ...         ...\n",
      "  [60]           .           .\n",
      "  [61]           .           .\n",
      "  [62]           .           .\n",
      "  [63]           .           .\n",
      "  [64]           .           .\n",
      "  -------\n",
      "  seqinfo: 24 sequences from NCBI36 genome; no seqlengths\n",
      "\n",
      "...\n",
      "<68 more elements>"
     ]
    },
    {
     "output_type": "stream",
     "name": "stdout",
     "text": [
      "[1] \"CompressedGRangesList\"\n",
      "attr(,\"package\")\n",
      "[1] \"GenomicRanges\""
     ]
    },
    {
     "output_type": "stream",
     "name": "stdout",
     "text": [
      "[1] 69"
     ]
    }
   ],
   "source": [
    "mut_assay = mut_data@assays\n",
    "\n",
    "mut_assay # GRangesList\n"
   ],
   "id": "61a63f2c-907d-4923-8b7e-8c546b09bd5b"
  },
  {
   "cell_type": "markdown",
   "metadata": {},
   "source": [
    "Let’s inspect the data from the first patient. We can see from the metadata information the Hugo Symbol, mutation status and predicted effect of each mutation at variant classification."
   ],
   "id": "a51169be-d491-4add-84b5-2bafcc75efd5"
  },
  {
   "cell_type": "code",
   "execution_count": null,
   "metadata": {},
   "outputs": [
    {
     "output_type": "stream",
     "name": "stdout",
     "text": [
      "GRanges object with 64 ranges and 34 metadata columns:\n",
      "       seqnames            ranges strand | Hugo_Symbol Entrez_Gene_Id\n",
      "          <Rle>         <IRanges>  <Rle> | <character>    <character>\n",
      "   [1]        X 54241715-54241716      + |        WNK3          65267\n",
      "   [2]        7         111899511      + |       IFRD1           3475\n",
      "   [3]        7         113309556      + |     PPP1R3A           5506\n",
      "   [4]        7         128146325      + |     FAM71F1          84691\n",
      "   [5]        7         156447624      + |        NOM1          64434\n",
      "   ...      ...               ...    ... .         ...            ...\n",
      "  [60]       10          50616059      + |       OGDHL          55753\n",
      "  [61]       10          96343335      + |       HELLS           3070\n",
      "  [62]        5         139173166      + |        PSD2          84249\n",
      "  [63]        5         147800932      + |      FBXO38          81545\n",
      "  [64]        5          54365356      + |        GZMK           3003\n",
      "             Center  NCBI_Build Variant_Classification Variant_Type\n",
      "        <character> <character>            <character>  <character>\n",
      "   [1] hgsc.bcm.edu          36        Frame_Shift_Ins          INS\n",
      "   [2] hgsc.bcm.edu          36      Missense_Mutation          SNP\n",
      "   [3] hgsc.bcm.edu          36      Missense_Mutation          SNP\n",
      "   [4] hgsc.bcm.edu          36                 Silent          SNP\n",
      "   [5] hgsc.bcm.edu          36      Missense_Mutation          SNP\n",
      "   ...          ...         ...                    ...          ...\n",
      "  [60] hgsc.bcm.edu          36                 Silent          SNP\n",
      "  [61] hgsc.bcm.edu          36                 Silent          SNP\n",
      "  [62] hgsc.bcm.edu          36      Nonsense_Mutation          SNP\n",
      "  [63] hgsc.bcm.edu          36                 Silent          SNP\n",
      "  [64] hgsc.bcm.edu          36      Missense_Mutation          SNP\n",
      "       Reference_Allele Tumor_Seq_Allele1 Tumor_Seq_Allele2    dbSNP_RS\n",
      "            <character>       <character>       <character> <character>\n",
      "   [1]                -                 -                 T       novel\n",
      "   [2]                A                 A                 G       novel\n",
      "   [3]                T                 T                 C       novel\n",
      "   [4]                G                 G                 A       novel\n",
      "   [5]                A                 A                 G       novel\n",
      "   ...              ...               ...               ...         ...\n",
      "  [60]                G                 G                 A       novel\n",
      "  [61]                T                 T                 C       novel\n",
      "  [62]                C                 C                 T       novel\n",
      "  [63]                G                 G                 A       novel\n",
      "  [64]                T                 T                 A       novel\n",
      "       dbSNP_Val_Status Matched_Norm_Sample_Barcode Match_Norm_Seq_Allele1\n",
      "            <character>                 <character>            <character>\n",
      "   [1]          unknown      TCGA-AF-2689-10A-01W..                      -\n",
      "   [2]          unknown      TCGA-AF-2689-10A-01W..                      A\n",
      "   [3]          unknown      TCGA-AF-2689-10A-01W..                      T\n",
      "   [4]          unknown      TCGA-AF-2689-10A-01W..                      G\n",
      "   [5]          unknown      TCGA-AF-2689-10A-01W..                      A\n",
      "   ...              ...                         ...                    ...\n",
      "  [60]          unknown      TCGA-AF-2689-10A-01W..                      G\n",
      "  [61]          unknown      TCGA-AF-2689-10A-01W..                      T\n",
      "  [62]          unknown      TCGA-AF-2689-10A-01W..                      C\n",
      "  [63]          unknown      TCGA-AF-2689-10A-01W..                      G\n",
      "  [64]          unknown      TCGA-AF-2689-10A-01W..                      T\n",
      "       Match_Norm_Seq_Allele2 Tumor_Validation_Allele1 Tumor_Validation_Allele2\n",
      "                  <character>              <character>              <character>\n",
      "   [1]                      -                        -                        T\n",
      "   [2]                      A                        A                        G\n",
      "   [3]                      T                        T                        C\n",
      "   [4]                      G                        .                        .\n",
      "   [5]                      A                        A                        G\n",
      "   ...                    ...                      ...                      ...\n",
      "  [60]                      G                        .                        .\n",
      "  [61]                      T                        .                        .\n",
      "  [62]                      C                        C                        T\n",
      "  [63]                      G                        G                        A\n",
      "  [64]                      T                        T                        A\n",
      "       Match_Norm_Validation_Allele1 Match_Norm_Validation_Allele2\n",
      "                         <character>                   <character>\n",
      "   [1]                             -                             -\n",
      "   [2]                             A                             A\n",
      "   [3]                             T                             T\n",
      "   [4]                             .                             .\n",
      "   [5]                             A                             A\n",
      "   ...                           ...                           ...\n",
      "  [60]                             .                             .\n",
      "  [61]                             .                             .\n",
      "  [62]                             C                             C\n",
      "  [63]                             G                             G\n",
      "  [64]                             T                             T\n",
      "       Verification_Status Validation_Status Mutation_Status Sequencing_Phase\n",
      "               <character>       <character>     <character>      <character>\n",
      "   [1]             Unknown             Valid         Somatic          Phase_I\n",
      "   [2]             Unknown             Valid         Somatic          Phase_I\n",
      "   [3]             Unknown             Valid         Somatic          Phase_I\n",
      "   [4]             Unknown           Unknown         Somatic          Phase_I\n",
      "   [5]             Unknown             Valid         Somatic          Phase_I\n",
      "   ...                 ...               ...             ...              ...\n",
      "  [60]             Unknown           Unknown         Somatic          Phase_I\n",
      "  [61]             Unknown           Unknown         Somatic          Phase_I\n",
      "  [62]             Unknown             Valid         Somatic          Phase_I\n",
      "  [63]             Unknown             Valid         Somatic          Phase_I\n",
      "  [64]             Unknown             Valid         Somatic          Phase_I\n",
      "       Sequence_Source Validation_Method       Score    BAM_file   Sequencer\n",
      "           <character>       <character> <character> <character> <character>\n",
      "   [1]         Capture               454                               SOLID\n",
      "   [2]         Capture               454                               SOLID\n",
      "   [3]         Capture               454                               SOLID\n",
      "   [4]         Capture                 .                               SOLID\n",
      "   [5]         Capture               454                               SOLID\n",
      "   ...             ...               ...         ...         ...         ...\n",
      "  [60]         Capture                 .                               SOLID\n",
      "  [61]         Capture                 .                               SOLID\n",
      "  [62]         Capture               454                               SOLID\n",
      "  [63]         Capture               454                               SOLID\n",
      "  [64]         Capture               454                               SOLID\n",
      "       TranscriptID        Exon     ChromChange    AAChange COSMIC_Codon\n",
      "        <character> <character>     <character> <character>  <character>\n",
      "   [1] NM_001002838      exon23 c.4999_5000insA   p.L1667fs            .\n",
      "   [2]    NM_001550      exon10        c.A1043G     p.E348G            .\n",
      "   [3]    NM_002711       exon2         c.A838G     p.T280A            .\n",
      "   [4]    NM_032599       exon3         c.G639A     p.T213T            .\n",
      "   [5]    NM_138400       exon5        c.A1651G     p.T551A            .\n",
      "   ...          ...         ...             ...         ...          ...\n",
      "  [60] NM_001143996      exon18        c.C2286T     p.S762S            .\n",
      "  [61]    NM_018063      exon18        c.T2061C     p.D687D            .\n",
      "  [62]    NM_032289       exon3         c.C460T     p.Q154X            .\n",
      "  [63]    NM_205836      exon21        c.G3327A    p.R1109R            .\n",
      "  [64]    NM_002104       exon5         c.T640A     p.S214T            .\n",
      "       COSMIC_Gene Drug_Target\n",
      "       <character> <character>\n",
      "   [1]           .           .\n",
      "   [2]           .           .\n",
      "   [3]           .           .\n",
      "   [4]           .           .\n",
      "   [5]           .           .\n",
      "   ...         ...         ...\n",
      "  [60]           .           .\n",
      "  [61]           .           .\n",
      "  [62]           .           .\n",
      "  [63]           .           .\n",
      "  [64]           .           .\n",
      "  -------\n",
      "  seqinfo: 24 sequences from NCBI36 genome; no seqlengths"
     ]
    },
    {
     "output_type": "stream",
     "name": "stdout",
     "text": [
      " [1] \"WNK3\"     \"IFRD1\"    \"PPP1R3A\"  \"FAM71F1\"  \"NOM1\"     \"TRIM73\"  \n",
      " [7] \"C7orf51\"  \"DIDO1\"    \"DNMT1\"    \"CALR\"     \"SIN3B\"    \"ZNF569\"  \n",
      "[13] \"SIGLEC12\" \"ZNF160\"   \"NLRP4\"    \"ENPP2\"    \"TRPA1\"    \"MMP16\"   \n",
      "[19] \"GPR89A\"   \"SLC9A11\"  \"PAX7\"     \"PLA2G5\"   \"SLC26A9\"  \"PIK3R3\"  \n",
      "[25] \"LPPR4\"    \"BCL9L\"    \"PRDM11\"   \"PEX3\"     \"DCDC2\"    \"KRT20\"   \n",
      "[31] \"TP53\"     \"CDH8\"     \"SF3B3\"    \"SLC9A10\"  \"SLC7A14\"  \"NLGN1\"   \n",
      "[37] \"MYRIP\"    \"CYP8B1\"   \"TGM4\"     \"COL7A1\"   \"P2RX7\"    \"KRAS\"    \n",
      "[43] \"TPH2\"     \"ANO4\"     \"UBR1\"     \"LBXCOR1\"  \"PDLIM5\"   \"ODZ1\"    \n",
      "[49] \"SMARCA1\"  \"CNKSR2\"   \"RBM10\"    \"RBM3\"     \"HUWE1\"    \"CYLC1\"   \n",
      "[55] \"ATP6V1E2\" \"ASTN2\"    \"TAF1L\"    \"SGCG\"     \"GBF1\"     \"OGDHL\"   \n",
      "[61] \"HELLS\"    \"PSD2\"     \"FBXO38\"   \"GZMK\"    "
     ]
    },
    {
     "output_type": "stream",
     "name": "stdout",
     "text": [
      "\n",
      "Somatic \n",
      "     64 "
     ]
    },
    {
     "output_type": "stream",
     "name": "stdout",
     "text": [
      "\n",
      "  Frame_Shift_Ins Missense_Mutation Nonsense_Mutation            Silent \n",
      "                1                39                 5                19 "
     ]
    }
   ],
   "source": [
    "mut_assay[[1]]\n"
   ],
   "id": "bbe24430-4aab-4256-89d7-6ffb6edd9072"
  },
  {
   "cell_type": "markdown",
   "metadata": {},
   "source": [
    "Now, is kind of a trouble to inspect manually each patient. So, lets get all mutation information from Hugo symbol and Variant classification for all the patients."
   ],
   "id": "666f28a1-fe68-4350-b0ef-f8b5fe923cf4"
  },
  {
   "cell_type": "code",
   "execution_count": null,
   "metadata": {},
   "outputs": [
    {
     "output_type": "stream",
     "name": "stdout",
     "text": [
      "   symbol     variant_class    patientID\n",
      "1    WNK3   Frame_Shift_Ins TCGA-AF-2689\n",
      "2   IFRD1 Missense_Mutation TCGA-AF-2689\n",
      "3 PPP1R3A Missense_Mutation TCGA-AF-2689\n",
      "4 FAM71F1            Silent TCGA-AF-2689\n",
      "5    NOM1 Missense_Mutation TCGA-AF-2689\n",
      "6  TRIM73 Nonsense_Mutation TCGA-AF-2689"
     ]
    }
   ],
   "source": [
    "var_class_df = mapply(function(sample_id, mutation_assay){\n",
    "  \n",
    "  d = mcols(mutation_assay)[,c(\"Hugo_Symbol\",\"Variant_Classification\")] |> \n",
    "    as.data.frame()\n",
    "  \n",
    "  colnames(d) = c(\"symbol\",\"variant_class\")\n",
    "  \n",
    "  d$patientID = sample_id\n",
    "  \n",
    "  return(d)\n",
    "  \n",
    "}, sample_id=mut_sample_ids, mutation_assay = mut_assay,SIMPLIFY = F, USE.NAMES = F)\n",
    "\n",
    "\n",
    "var_class_df = do.call(rbind, var_class_df)\n",
    "\n",
    "\n",
    "head(var_class_df)\n"
   ],
   "id": "4de416b1-b7cf-4072-959c-45881271b9a1"
  },
  {
   "cell_type": "markdown",
   "metadata": {},
   "source": [
    "We can visualize the most common mutated genes genes in rectum adenocarcinoma"
   ],
   "id": "669ec490-639a-408a-9596-f2dcd5649996"
  }
 ],
 "nbformat": 4,
 "nbformat_minor": 5,
 "metadata": {}
}
