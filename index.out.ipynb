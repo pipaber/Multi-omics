{
 "cells": [
  {
   "cell_type": "markdown",
   "metadata": {},
   "source": [
    "# Integrative Analysis of Multi-omic Data\n",
    "\n",
    "Piero Palacios Bernuy [![](data:image/png;base64,iVBORw0KGgoAAAANSUhEUgAAABAAAAAQCAYAAAAf8/9hAAAAGXRFWHRTb2Z0d2FyZQBBZG9iZSBJbWFnZVJlYWR5ccllPAAAA2ZpVFh0WE1MOmNvbS5hZG9iZS54bXAAAAAAADw/eHBhY2tldCBiZWdpbj0i77u/IiBpZD0iVzVNME1wQ2VoaUh6cmVTek5UY3prYzlkIj8+IDx4OnhtcG1ldGEgeG1sbnM6eD0iYWRvYmU6bnM6bWV0YS8iIHg6eG1wdGs9IkFkb2JlIFhNUCBDb3JlIDUuMC1jMDYwIDYxLjEzNDc3NywgMjAxMC8wMi8xMi0xNzozMjowMCAgICAgICAgIj4gPHJkZjpSREYgeG1sbnM6cmRmPSJodHRwOi8vd3d3LnczLm9yZy8xOTk5LzAyLzIyLXJkZi1zeW50YXgtbnMjIj4gPHJkZjpEZXNjcmlwdGlvbiByZGY6YWJvdXQ9IiIgeG1sbnM6eG1wTU09Imh0dHA6Ly9ucy5hZG9iZS5jb20veGFwLzEuMC9tbS8iIHhtbG5zOnN0UmVmPSJodHRwOi8vbnMuYWRvYmUuY29tL3hhcC8xLjAvc1R5cGUvUmVzb3VyY2VSZWYjIiB4bWxuczp4bXA9Imh0dHA6Ly9ucy5hZG9iZS5jb20veGFwLzEuMC8iIHhtcE1NOk9yaWdpbmFsRG9jdW1lbnRJRD0ieG1wLmRpZDo1N0NEMjA4MDI1MjA2ODExOTk0QzkzNTEzRjZEQTg1NyIgeG1wTU06RG9jdW1lbnRJRD0ieG1wLmRpZDozM0NDOEJGNEZGNTcxMUUxODdBOEVCODg2RjdCQ0QwOSIgeG1wTU06SW5zdGFuY2VJRD0ieG1wLmlpZDozM0NDOEJGM0ZGNTcxMUUxODdBOEVCODg2RjdCQ0QwOSIgeG1wOkNyZWF0b3JUb29sPSJBZG9iZSBQaG90b3Nob3AgQ1M1IE1hY2ludG9zaCI+IDx4bXBNTTpEZXJpdmVkRnJvbSBzdFJlZjppbnN0YW5jZUlEPSJ4bXAuaWlkOkZDN0YxMTc0MDcyMDY4MTE5NUZFRDc5MUM2MUUwNEREIiBzdFJlZjpkb2N1bWVudElEPSJ4bXAuZGlkOjU3Q0QyMDgwMjUyMDY4MTE5OTRDOTM1MTNGNkRBODU3Ii8+IDwvcmRmOkRlc2NyaXB0aW9uPiA8L3JkZjpSREY+IDwveDp4bXBtZXRhPiA8P3hwYWNrZXQgZW5kPSJyIj8+84NovQAAAR1JREFUeNpiZEADy85ZJgCpeCB2QJM6AMQLo4yOL0AWZETSqACk1gOxAQN+cAGIA4EGPQBxmJA0nwdpjjQ8xqArmczw5tMHXAaALDgP1QMxAGqzAAPxQACqh4ER6uf5MBlkm0X4EGayMfMw/Pr7Bd2gRBZogMFBrv01hisv5jLsv9nLAPIOMnjy8RDDyYctyAbFM2EJbRQw+aAWw/LzVgx7b+cwCHKqMhjJFCBLOzAR6+lXX84xnHjYyqAo5IUizkRCwIENQQckGSDGY4TVgAPEaraQr2a4/24bSuoExcJCfAEJihXkWDj3ZAKy9EJGaEo8T0QSxkjSwORsCAuDQCD+QILmD1A9kECEZgxDaEZhICIzGcIyEyOl2RkgwAAhkmC+eAm0TAAAAABJRU5ErkJggg==)](https://orcid.org/0000-0001-6729-4080)  \n",
    "April 30, 2024\n",
    "\n",
    "This document is part of a series of the analysis of Omics data. Especifically, here is showed how to analyze bulk RNA-Seq data with Bioconductor packages. Also, it’s showcased how to make plots of the RNA data in the context of differentially gene expression and gene-sets.\n",
    "\n",
    "## 1 Introduction\n",
    "\n",
    "## 2 GWAS Catalog with a ChIP-Seq Experiment\n",
    "\n",
    "Here, we are gonna analyze the relation between transcription factor binding (ESRRA binding data) from a ChIP-Seq experiment and the genome-wide associations between DNA variants and phenotypes like diseases. For this task, we are gonna use a the `gwascat` package distributed by the **EMBL** (European Molecular Biology Laboratories)."
   ],
   "id": "c17e2c35-6bea-4fd8-93e4-33770192bbb0"
  },
  {
   "cell_type": "code",
   "execution_count": null,
   "metadata": {},
   "outputs": [
    {
     "output_type": "stream",
     "name": "stderr",
     "text": [
      "Warning: package 'ggplot2' was built under R version 4.3.2"
     ]
    },
    {
     "output_type": "stream",
     "name": "stderr",
     "text": [
      "Warning: package 'tidyr' was built under R version 4.3.2"
     ]
    },
    {
     "output_type": "stream",
     "name": "stderr",
     "text": [
      "Warning: package 'readr' was built under R version 4.3.2"
     ]
    },
    {
     "output_type": "stream",
     "name": "stderr",
     "text": [
      "Warning: package 'purrr' was built under R version 4.3.2"
     ]
    },
    {
     "output_type": "stream",
     "name": "stderr",
     "text": [
      "Warning: package 'dplyr' was built under R version 4.3.2"
     ]
    },
    {
     "output_type": "stream",
     "name": "stderr",
     "text": [
      "Warning: package 'stringr' was built under R version 4.3.2"
     ]
    },
    {
     "output_type": "stream",
     "name": "stderr",
     "text": [
      "Warning: package 'lubridate' was built under R version 4.3.2"
     ]
    },
    {
     "output_type": "stream",
     "name": "stderr",
     "text": [
      "── Attaching core tidyverse packages ──────────────────────── tidyverse 2.0.0 ──\n",
      "✔ dplyr     1.1.4     ✔ readr     2.1.5\n",
      "✔ forcats   1.0.0     ✔ stringr   1.5.1\n",
      "✔ ggplot2   3.5.0     ✔ tibble    3.2.1\n",
      "✔ lubridate 1.9.3     ✔ tidyr     1.3.1\n",
      "✔ purrr     1.0.2     \n",
      "── Conflicts ────────────────────────────────────────── tidyverse_conflicts() ──\n",
      "✖ dplyr::filter() masks stats::filter()\n",
      "✖ dplyr::lag()    masks stats::lag()\n",
      "ℹ Use the conflicted package (<http://conflicted.r-lib.org/>) to force all conflicts to become errors"
     ]
    },
    {
     "output_type": "stream",
     "name": "stderr",
     "text": [
      "Warning: package 'gwascat' was built under R version 4.3.1"
     ]
    },
    {
     "output_type": "stream",
     "name": "stderr",
     "text": [
      "gwascat loaded.  Use makeCurrentGwascat() to extract current image.\n",
      " from EBI.  The data folder of this package has some legacy extracts."
     ]
    },
    {
     "output_type": "stream",
     "name": "stderr",
     "text": [
      "Warning: package 'GenomeInfoDb' was built under R version 4.3.2"
     ]
    },
    {
     "output_type": "stream",
     "name": "stderr",
     "text": [
      "Loading required package: BiocGenerics"
     ]
    },
    {
     "output_type": "stream",
     "name": "stderr",
     "text": [
      "Warning: package 'BiocGenerics' was built under R version 4.3.1"
     ]
    },
    {
     "output_type": "stream",
     "name": "stderr",
     "text": [
      "\n",
      "Attaching package: 'BiocGenerics'\n",
      "\n",
      "The following objects are masked from 'package:lubridate':\n",
      "\n",
      "    intersect, setdiff, union\n",
      "\n",
      "The following objects are masked from 'package:dplyr':\n",
      "\n",
      "    combine, intersect, setdiff, union\n",
      "\n",
      "The following objects are masked from 'package:stats':\n",
      "\n",
      "    IQR, mad, sd, var, xtabs\n",
      "\n",
      "The following objects are masked from 'package:base':\n",
      "\n",
      "    anyDuplicated, aperm, append, as.data.frame, basename, cbind,\n",
      "    colnames, dirname, do.call, duplicated, eval, evalq, Filter, Find,\n",
      "    get, grep, grepl, intersect, is.unsorted, lapply, Map, mapply,\n",
      "    match, mget, order, paste, pmax, pmax.int, pmin, pmin.int,\n",
      "    Position, rank, rbind, Reduce, rownames, sapply, setdiff, sort,\n",
      "    table, tapply, union, unique, unsplit, which.max, which.min\n",
      "\n",
      "Loading required package: S4Vectors\n",
      "Loading required package: stats4\n",
      "\n",
      "Attaching package: 'S4Vectors'\n",
      "\n",
      "The following objects are masked from 'package:lubridate':\n",
      "\n",
      "    second, second<-\n",
      "\n",
      "The following objects are masked from 'package:dplyr':\n",
      "\n",
      "    first, rename\n",
      "\n",
      "The following object is masked from 'package:tidyr':\n",
      "\n",
      "    expand\n",
      "\n",
      "The following object is masked from 'package:utils':\n",
      "\n",
      "    findMatches\n",
      "\n",
      "The following objects are masked from 'package:base':\n",
      "\n",
      "    expand.grid, I, unname\n",
      "\n",
      "Loading required package: IRanges\n",
      "\n",
      "Attaching package: 'IRanges'\n",
      "\n",
      "The following object is masked from 'package:lubridate':\n",
      "\n",
      "    %within%\n",
      "\n",
      "The following objects are masked from 'package:dplyr':\n",
      "\n",
      "    collapse, desc, slice\n",
      "\n",
      "The following object is masked from 'package:purrr':\n",
      "\n",
      "    reduce\n",
      "\n",
      "The following object is masked from 'package:grDevices':\n",
      "\n",
      "    windows"
     ]
    },
    {
     "output_type": "stream",
     "name": "stderr",
     "text": [
      "Loading required package: GenomicRanges\n",
      "Loading required package: rtracklayer"
     ]
    },
    {
     "output_type": "stream",
     "name": "stderr",
     "text": [
      "Warning: package 'rtracklayer' was built under R version 4.3.1"
     ]
    },
    {
     "output_type": "stream",
     "name": "stderr",
     "text": [
      "Loading required package: Homo.sapiens\n",
      "Loading required package: AnnotationDbi"
     ]
    },
    {
     "output_type": "stream",
     "name": "stderr",
     "text": [
      "Warning: package 'AnnotationDbi' was built under R version 4.3.2"
     ]
    },
    {
     "output_type": "stream",
     "name": "stderr",
     "text": [
      "Loading required package: Biobase\n",
      "Welcome to Bioconductor\n",
      "\n",
      "    Vignettes contain introductory material; view with\n",
      "    'browseVignettes()'. To cite Bioconductor, see\n",
      "    'citation(\"Biobase\")', and for packages 'citation(\"pkgname\")'.\n",
      "\n",
      "\n",
      "Attaching package: 'AnnotationDbi'\n",
      "\n",
      "The following object is masked from 'package:dplyr':\n",
      "\n",
      "    select\n",
      "\n",
      "Loading required package: OrganismDbi"
     ]
    },
    {
     "output_type": "stream",
     "name": "stderr",
     "text": [
      "Warning: package 'OrganismDbi' was built under R version 4.3.1"
     ]
    },
    {
     "output_type": "stream",
     "name": "stderr",
     "text": [
      "Loading required package: GenomicFeatures"
     ]
    },
    {
     "output_type": "stream",
     "name": "stderr",
     "text": [
      "Warning: package 'GenomicFeatures' was built under R version 4.3.2"
     ]
    },
    {
     "output_type": "stream",
     "name": "stderr",
     "text": [
      "Loading required package: GO.db\n",
      "\n",
      "Loading required package: org.Hs.eg.db\n",
      "\n",
      "Loading required package: TxDb.Hsapiens.UCSC.hg19.knownGene"
     ]
    }
   ],
   "source": [
    "library(tidyverse)"
   ],
   "id": "fcdabf81-4e09-4cb9-8721-7eee375074c4"
  },
  {
   "cell_type": "markdown",
   "metadata": {},
   "source": [
    "First, we need to download the data, keep the 24 chromosomes (from 1 to Y) and, specify the sequence information from the GRCh38 human genome annotation."
   ],
   "id": "66094f2b-9d49-4837-b668-745cce608ea9"
  },
  {
   "cell_type": "code",
   "execution_count": null,
   "metadata": {},
   "outputs": [
    {
     "output_type": "stream",
     "name": "stderr",
     "text": [
      "dropping 45505 records that have NA for CHR_POS"
     ]
    },
    {
     "output_type": "stream",
     "name": "stderr",
     "text": [
      "1950 records have semicolon in CHR_POS; splitting and using first entry."
     ]
    },
    {
     "output_type": "stream",
     "name": "stderr",
     "text": [
      "3265 records have ' x ' in CHR_POS indicating multiple SNP effects, using first."
     ]
    }
   ],
   "source": [
    "gwcat = get_cached_gwascat()\n",
    "\n",
    "gg = gwcat |> as_GRanges()"
   ],
   "id": "792b1858-b3a5-437a-b84a-099d64251b51"
  },
  {
   "cell_type": "markdown",
   "metadata": {},
   "source": [
    "Now, let’s plot a karyogram that will show the SNP’s identified with significant associations with a phenotype. The SNP’s in the GWAS catalog have a stringent criterion of significance and there has been a replication of the finding from a independent population."
   ],
   "id": "0a238b12-d971-4fb2-8329-aec9a0275294"
  },
  {
   "cell_type": "code",
   "execution_count": null,
   "metadata": {},
   "outputs": [
    {
     "output_type": "stream",
     "name": "stderr",
     "text": [
      "Registered S3 method overwritten by 'GGally':\n",
      "  method from   \n",
      "  +.gg   ggplot2"
     ]
    },
    {
     "output_type": "stream",
     "name": "stderr",
     "text": [
      "Scale for x is already present.\n",
      "Adding another scale for x, which will replace the existing scale.\n",
      "Scale for x is already present.\n",
      "Adding another scale for x, which will replace the existing scale."
     ]
    },
    {
     "output_type": "display_data",
     "metadata": {},
     "data": {
      "image/png": "[encoded data removed]"
     }
    }
   ],
   "source": [
    "ggbio::autoplot(gg, layout=\"karyogram\")"
   ],
   "id": "5fab95bf-1bf0-46ae-a4b3-3f866f03a411"
  },
  {
   "cell_type": "markdown",
   "metadata": {},
   "source": [
    "We can see the peak data as a `GRanges` object:"
   ],
   "id": "87d4aaa0-8718-407f-ac87-f81676da83ec"
  },
  {
   "cell_type": "code",
   "execution_count": null,
   "metadata": {},
   "outputs": [
    {
     "output_type": "stream",
     "name": "stdout",
     "text": [
      "GRanges object with 1873 ranges and 7 metadata columns:\n",
      "         seqnames            ranges strand |      name     score       col\n",
      "            <Rle>         <IRanges>  <Rle> | <numeric> <integer> <logical>\n",
      "     [1]     chrX   1509355-1512462      * |         5         0      <NA>\n",
      "     [2]     chrX 26801422-26802448      * |         6         0      <NA>\n",
      "     [3]    chr19 11694102-11695359      * |         1         0      <NA>\n",
      "     [4]    chr19   4076893-4079276      * |         4         0      <NA>\n",
      "     [5]     chr3 53288568-53290767      * |         9         0      <NA>\n",
      "     ...      ...               ...    ... .       ...       ...       ...\n",
      "  [1869]    chr19 11201120-11203985      * |      8701         0      <NA>\n",
      "  [1870]    chr19   2234920-2237370      * |       990         0      <NA>\n",
      "  [1871]     chr1 94311336-94313543      * |      4035         0      <NA>\n",
      "  [1872]    chr19 45690614-45691210      * |     10688         0      <NA>\n",
      "  [1873]    chr19   6110100-6111252      * |      2274         0      <NA>\n",
      "         signalValue    pValue    qValue      peak\n",
      "           <numeric> <numeric> <numeric> <integer>\n",
      "     [1]      157.92   310.000        32      1991\n",
      "     [2]      147.38   310.000        32       387\n",
      "     [3]       99.71   311.660        32       861\n",
      "     [4]       84.74   310.000        32      1508\n",
      "     [5]       78.20   299.505        32      1772\n",
      "     ...         ...       ...       ...       ...\n",
      "  [1869]        8.65     7.281   0.26576      2496\n",
      "  [1870]        8.65    26.258   1.99568      1478\n",
      "  [1871]        8.65    12.511   1.47237      1848\n",
      "  [1872]        8.65     6.205   0.00000       298\n",
      "  [1873]        8.65    17.356   2.01323       496\n",
      "  -------\n",
      "  seqinfo: 93 sequences (1 circular) from hg19 genome"
     ]
    }
   ],
   "source": [
    "data(\"GM12878\")\n",
    "\n",
    "GM12878"
   ],
   "id": "63829711-3816-4316-b585-9779cb6f28e0"
  },
  {
   "cell_type": "markdown",
   "metadata": {},
   "source": [
    "If we see the bottom of the `GRanges` table, this experiment have the hg19 annotation from the human genome. To work on the GRCh38 annotation we need to lift-over with a `.chain` file. For this we can use the `AnnotationHub` package."
   ],
   "id": "ca068c38-0811-45b7-81a6-50e2223f6fb0"
  },
  {
   "cell_type": "code",
   "execution_count": null,
   "metadata": {},
   "outputs": [
    {
     "output_type": "stream",
     "name": "stderr",
     "text": [
      "Warning: package 'AnnotationHub' was built under R version 4.3.1"
     ]
    },
    {
     "output_type": "stream",
     "name": "stderr",
     "text": [
      "Loading required package: BiocFileCache"
     ]
    },
    {
     "output_type": "stream",
     "name": "stderr",
     "text": [
      "Warning: package 'BiocFileCache' was built under R version 4.3.1"
     ]
    },
    {
     "output_type": "stream",
     "name": "stderr",
     "text": [
      "Loading required package: dbplyr"
     ]
    },
    {
     "output_type": "stream",
     "name": "stderr",
     "text": [
      "Warning: package 'dbplyr' was built under R version 4.3.2"
     ]
    },
    {
     "output_type": "stream",
     "name": "stderr",
     "text": [
      "\n",
      "Attaching package: 'dbplyr'"
     ]
    },
    {
     "output_type": "stream",
     "name": "stderr",
     "text": [
      "The following objects are masked from 'package:dplyr':\n",
      "\n",
      "    ident, sql"
     ]
    },
    {
     "output_type": "stream",
     "name": "stderr",
     "text": [
      "\n",
      "Attaching package: 'AnnotationHub'"
     ]
    },
    {
     "output_type": "stream",
     "name": "stderr",
     "text": [
      "The following object is masked from 'package:Biobase':\n",
      "\n",
      "    cache"
     ]
    },
    {
     "output_type": "stream",
     "name": "stderr",
     "text": [
      "The following object is masked from 'package:rtracklayer':\n",
      "\n",
      "    hubUrl"
     ]
    },
    {
     "output_type": "stream",
     "name": "stdout",
     "text": [
      "AnnotationHub with 1 record\n",
      "# snapshotDate(): 2023-10-23\n",
      "# names(): AH14150\n",
      "# $dataprovider: UCSC\n",
      "# $species: Homo sapiens\n",
      "# $rdataclass: ChainFile\n",
      "# $rdatadateadded: 2014-12-15\n",
      "# $title: hg19ToHg38.over.chain.gz\n",
      "# $description: UCSC liftOver chain file from hg19 to hg38\n",
      "# $taxonomyid: 9606\n",
      "# $genome: hg19\n",
      "# $sourcetype: Chain\n",
      "# $sourceurl: http://hgdownload.cse.ucsc.edu/goldenpath/hg19/liftOver/hg19To...\n",
      "# $sourcesize: NA\n",
      "# $tags: c(\"liftOver\", \"chain\", \"UCSC\", \"genome\", \"homology\") \n",
      "# retrieve record with 'object[[\"AH14150\"]]' "
     ]
    },
    {
     "output_type": "stream",
     "name": "stderr",
     "text": [
      "loading from cache"
     ]
    }
   ],
   "source": [
    "library(AnnotationHub)"
   ],
   "id": "ed93363c-7b14-4087-aa1e-13fe20f7b95e"
  },
  {
   "cell_type": "code",
   "execution_count": null,
   "metadata": {},
   "outputs": [],
   "source": [
    "GM12878 <- liftOver(GM12878, chain) |> \n",
    "  unlist()\n",
    "\n",
    "seqlevelsStyle(GM12878) <- \"NCBI\"\n",
    "\n",
    "seqinfo(GM12878) <- si.hs.38\n",
    "\n",
    "\n",
    "seqlevelsStyle(GM12878) <- \"UCSC\"\n",
    "seqlevelsStyle(gg) <- \"UCSC\""
   ],
   "id": "fc04036e-9631-4996-84ee-3e9a9ea2e79b"
  },
  {
   "cell_type": "markdown",
   "metadata": {},
   "source": [
    "We can find overlaps between the GWAS catalog and the ESRRA ChIP-Seq experiment but, there is a problem; the GWAS catalog is a collection of intervals that reports all significant SNPs and there can be duplications of SNPs associated to multiple phenotypes or the same SNP might be found for the same phenotype in different studies.\n",
    "\n",
    "We can see the duplications with the `reduce` function from `IRanges` package:"
   ],
   "id": "4d3d9c91-cd40-4b0b-a894-0b7106d34368"
  },
  {
   "cell_type": "code",
   "execution_count": null,
   "metadata": {},
   "outputs": [
    {
     "output_type": "stream",
     "name": "stdout",
     "text": [
      "[1] 261160"
     ]
    }
   ],
   "source": [
    "# duplicated loci\n",
    "length(gg) - length(reduce(gg))"
   ],
   "id": "2da60a30-3fed-4e2a-95e5-9117cbc0e63c"
  },
  {
   "cell_type": "markdown",
   "metadata": {},
   "source": [
    "We can see that there are `261160` duplicated loci. Let’s find the overlap between the *reduced* catalog and the ChIP-Seq experiment:"
   ],
   "id": "4f88aec1-ebe2-4af1-a8ac-7c2db3782d0f"
  },
  {
   "cell_type": "code",
   "execution_count": null,
   "metadata": {},
   "outputs": [
    {
     "output_type": "stream",
     "name": "stdout",
     "text": [
      "Hits object with 613 hits and 0 metadata columns:\n",
      "        queryHits subjectHits\n",
      "        <integer>   <integer>\n",
      "    [1]         6      237757\n",
      "    [2]         9      221130\n",
      "    [3]        12       25060\n",
      "    [4]        15      104699\n",
      "    [5]        15      104700\n",
      "    ...       ...         ...\n",
      "  [609]      1928      246305\n",
      "  [610]      1929      244698\n",
      "  [611]      1929      244699\n",
      "  [612]      1931      250380\n",
      "  [613]      1931      250381\n",
      "  -------\n",
      "  queryLength: 1932 / subjectLength: 268560"
     ]
    }
   ],
   "source": [
    "#\n",
    "fo = findOverlaps(GM12878, reduce(gg))\n",
    "fo"
   ],
   "id": "546f5756-d135-411e-8cd0-edefa34a3cba"
  },
  {
   "cell_type": "markdown",
   "metadata": {},
   "source": [
    "We can see 613 hits. Then, we are gonna eobtain the ranges from those hits, retrieve the phenotypes (DISEASE/TRAIT) and show the top 20 most common phenotypes with association to SNPs that lies on the ESRRA binding peaks."
   ],
   "id": "ddbf1d4f-b2c0-4764-8cfe-fa537f24acc5"
  },
  {
   "cell_type": "code",
   "execution_count": null,
   "metadata": {},
   "outputs": [
    {
     "output_type": "display_data",
     "metadata": {},
     "data": {
      "text/html": [
       "<div class=\"card bslib-card bslib-mb-spacing html-fill-item html-fill-container\" data-bslib-card-init data-full-screen=\"false\" data-require-bs-caller=\"card()\" data-require-bs-version=\"5\">\n",
       "<div class=\"card-body bslib-gap-spacing html-fill-item html-fill-container\" style=\"margin-top:auto;margin-bottom:auto;flex:1 1 auto;\">\n",
       "<div class=\"plotly html-widget html-fill-item\" id=\"htmlwidget-171c168db4a533b58e5b\" style=\"width:100%;height:400px;\"></div>\n",
       "<script type=\"application/json\" data-for=\"htmlwidget-171c168db4a533b58e5b\">{\"x\":{\"data\":[{\"orientation\":\"v\",\"width\":7,\"base\":0.55000000000000004,\"x\":[3.5],\"y\":[0.89999999999999991],\"text\":\"n:  7<br />value: Appendicular lean mass<br />value: Appendicular lean mass\",\"type\":\"bar\",\"textposition\":\"none\",\"marker\":{\"autocolorscale\":false,\"color\":\"rgba(232,236,251,1)\",\"line\":{\"width\":1.8897637795275593,\"color\":\"transparent\"}},\"name\":\"Appendicular lean mass\",\"legendgroup\":\"Appendicular lean mass\",\"showlegend\":true,\"xaxis\":\"x\",\"yaxis\":\"y\",\"hoverinfo\":\"text\",\"frame\":null},{\"orientation\":\"v\",\"width\":7,\"base\":1.55,\"x\":[3.5],\"y\":[0.90000000000000013],\"text\":\"n:  7<br />value: Diastolic blood pressure<br />value: Diastolic blood pressure\",\"type\":\"bar\",\"textposition\":\"none\",\"marker\":{\"autocolorscale\":false,\"color\":\"rgba(221,216,239,1)\",\"line\":{\"width\":1.8897637795275593,\"color\":\"transparent\"}},\"name\":\"Diastolic blood pressure\",\"legendgroup\":\"Diastolic blood pressure\",\"showlegend\":true,\"xaxis\":\"x\",\"yaxis\":\"y\",\"hoverinfo\":\"text\",\"frame\":null},{\"orientation\":\"v\",\"width\":7,\"base\":2.5499999999999998,\"x\":[3.5],\"y\":[0.90000000000000036],\"text\":\"n:  7<br />value: Educational attainment<br />value: Educational attainment\",\"type\":\"bar\",\"textposition\":\"none\",\"marker\":{\"autocolorscale\":false,\"color\":\"rgba(209,193,225,1)\",\"line\":{\"width\":1.8897637795275593,\"color\":\"transparent\"}},\"name\":\"Educational attainment\",\"legendgroup\":\"Educational attainment\",\"showlegend\":true,\"xaxis\":\"x\",\"yaxis\":\"y\",\"hoverinfo\":\"text\",\"frame\":null},{\"orientation\":\"v\",\"width\":7,\"base\":3.5499999999999998,\"x\":[3.5],\"y\":[0.90000000000000036],\"text\":\"n:  7<br />value: Lymphocyte count<br />value: Lymphocyte count\",\"type\":\"bar\",\"textposition\":\"none\",\"marker\":{\"autocolorscale\":false,\"color\":\"rgba(195,168,209,1)\",\"line\":{\"width\":1.8897637795275593,\"color\":\"transparent\"}},\"name\":\"Lymphocyte count\",\"legendgroup\":\"Lymphocyte count\",\"showlegend\":true,\"xaxis\":\"x\",\"yaxis\":\"y\",\"hoverinfo\":\"text\",\"frame\":null},{\"orientation\":\"v\",\"width\":7,\"base\":4.5499999999999998,\"x\":[3.5],\"y\":[0.90000000000000036],\"text\":\"n:  7<br />value: Mean spheric corpuscular volume<br />value: Mean spheric corpuscular volume\",\"type\":\"bar\",\"textposition\":\"none\",\"marker\":{\"autocolorscale\":false,\"color\":\"rgba(181,143,194,1)\",\"line\":{\"width\":1.8897637795275593,\"color\":\"transparent\"}},\"name\":\"Mean spheric corpuscular volume\",\"legendgroup\":\"Mean spheric corpuscular volume\",\"showlegend\":true,\"xaxis\":\"x\",\"yaxis\":\"y\",\"hoverinfo\":\"text\",\"frame\":null},{\"orientation\":\"v\",\"width\":7,\"base\":5.5499999999999998,\"x\":[3.5],\"y\":[0.90000000000000036],\"text\":\"n:  7<br />value: Monocyte count<br />value: Monocyte count\",\"type\":\"bar\",\"textposition\":\"none\",\"marker\":{\"autocolorscale\":false,\"color\":\"rgba(167,120,180,1)\",\"line\":{\"width\":1.8897637795275593,\"color\":\"transparent\"}},\"name\":\"Monocyte count\",\"legendgroup\":\"Monocyte count\",\"showlegend\":true,\"xaxis\":\"x\",\"yaxis\":\"y\",\"hoverinfo\":\"text\",\"frame\":null},{\"orientation\":\"v\",\"width\":7,\"base\":6.5499999999999998,\"x\":[3.5],\"y\":[0.90000000000000036],\"text\":\"n:  7<br />value: Plateletcrit<br />value: Plateletcrit\",\"type\":\"bar\",\"textposition\":\"none\",\"marker\":{\"autocolorscale\":false,\"color\":\"rgba(155,98,167,1)\",\"line\":{\"width\":1.8897637795275593,\"color\":\"transparent\"}},\"name\":\"Plateletcrit\",\"legendgroup\":\"Plateletcrit\",\"showlegend\":true,\"xaxis\":\"x\",\"yaxis\":\"y\",\"hoverinfo\":\"text\",\"frame\":null},{\"orientation\":\"v\",\"width\":7,\"base\":7.5499999999999998,\"x\":[3.5],\"y\":[0.89999999999999947],\"text\":\"n:  7<br />value: Reticulocyte fraction of red cells<br />value: Reticulocyte fraction of red cells\",\"type\":\"bar\",\"textposition\":\"none\",\"marker\":{\"autocolorscale\":false,\"color\":\"rgba(140,78,153,1)\",\"line\":{\"width\":1.8897637795275593,\"color\":\"transparent\"}},\"name\":\"Reticulocyte fraction of red cells\",\"legendgroup\":\"Reticulocyte fraction of red cells\",\"showlegend\":true,\"xaxis\":\"x\",\"yaxis\":\"y\",\"hoverinfo\":\"text\",\"frame\":null},{\"orientation\":\"v\",\"width\":7,\"base\":8.5500000000000007,\"x\":[3.5],\"y\":[0.89999999999999858],\"text\":\"n:  7<br />value: Rheumatoid arthritis<br />value: Rheumatoid arthritis\",\"type\":\"bar\",\"textposition\":\"none\",\"marker\":{\"autocolorscale\":false,\"color\":\"rgba(111,76,155,1)\",\"line\":{\"width\":1.8897637795275593,\"color\":\"transparent\"}},\"name\":\"Rheumatoid arthritis\",\"legendgroup\":\"Rheumatoid arthritis\",\"showlegend\":true,\"xaxis\":\"x\",\"yaxis\":\"y\",\"hoverinfo\":\"text\",\"frame\":null},{\"orientation\":\"v\",\"width\":7,\"base\":9.5500000000000007,\"x\":[3.5],\"y\":[0.89999999999999858],\"text\":\"n:  7<br />value: Triglyceride levels<br />value: Triglyceride levels\",\"type\":\"bar\",\"textposition\":\"none\",\"marker\":{\"autocolorscale\":false,\"color\":\"rgba(96,89,169,1)\",\"line\":{\"width\":1.8897637795275593,\"color\":\"transparent\"}},\"name\":\"Triglyceride levels\",\"legendgroup\":\"Triglyceride levels\",\"showlegend\":true,\"xaxis\":\"x\",\"yaxis\":\"y\",\"hoverinfo\":\"text\",\"frame\":null},{\"orientation\":\"v\",\"width\":7,\"base\":10.550000000000001,\"x\":[3.5],\"y\":[0.89999999999999858],\"text\":\"n:  7<br />value: Type 2 diabetes<br />value: Type 2 diabetes\",\"type\":\"bar\",\"textposition\":\"none\",\"marker\":{\"autocolorscale\":false,\"color\":\"rgba(85,104,184,1)\",\"line\":{\"width\":1.8897637795275593,\"color\":\"transparent\"}},\"name\":\"Type 2 diabetes\",\"legendgroup\":\"Type 2 diabetes\",\"showlegend\":true,\"xaxis\":\"x\",\"yaxis\":\"y\",\"hoverinfo\":\"text\",\"frame\":null},{\"orientation\":\"v\",\"width\":8,\"base\":11.550000000000001,\"x\":[4],\"y\":[0.89999999999999858],\"text\":\"n:  8<br />value: Heel bone mineral density<br />value: Heel bone mineral density\",\"type\":\"bar\",\"textposition\":\"none\",\"marker\":{\"autocolorscale\":false,\"color\":\"rgba(78,121,197,1)\",\"line\":{\"width\":1.8897637795275593,\"color\":\"transparent\"}},\"name\":\"Heel bone mineral density\",\"legendgroup\":\"Heel bone mineral density\",\"showlegend\":true,\"xaxis\":\"x\",\"yaxis\":\"y\",\"hoverinfo\":\"text\",\"frame\":null},{\"orientation\":\"v\",\"width\":8,\"base\":12.550000000000001,\"x\":[4],\"y\":[0.89999999999999858],\"text\":\"n:  8<br />value: Systolic blood pressure<br />value: Systolic blood pressure\",\"type\":\"bar\",\"textposition\":\"none\",\"marker\":{\"autocolorscale\":false,\"color\":\"rgba(77,138,198,1)\",\"line\":{\"width\":1.8897637795275593,\"color\":\"transparent\"}},\"name\":\"Systolic blood pressure\",\"legendgroup\":\"Systolic blood pressure\",\"showlegend\":true,\"xaxis\":\"x\",\"yaxis\":\"y\",\"hoverinfo\":\"text\",\"frame\":null},{\"orientation\":\"v\",\"width\":9,\"base\":13.550000000000001,\"x\":[4.5],\"y\":[0.89999999999999858],\"text\":\"n:  9<br />value: Sex hormone-binding globulin levels<br />value: Sex hormone-binding globulin levels\",\"type\":\"bar\",\"textposition\":\"none\",\"marker\":{\"autocolorscale\":false,\"color\":\"rgba(78,150,188,1)\",\"line\":{\"width\":1.8897637795275593,\"color\":\"transparent\"}},\"name\":\"Sex hormone-binding globulin levels\",\"legendgroup\":\"Sex hormone-binding globulin levels\",\"showlegend\":true,\"xaxis\":\"x\",\"yaxis\":\"y\",\"hoverinfo\":\"text\",\"frame\":null},{\"orientation\":\"v\",\"width\":10,\"base\":14.550000000000001,\"x\":[5],\"y\":[0.89999999999999858],\"text\":\"n: 10<br />value: Eosinophil counts<br />value: Eosinophil counts\",\"type\":\"bar\",\"textposition\":\"none\",\"marker\":{\"autocolorscale\":false,\"color\":\"rgba(84,158,179,1)\",\"line\":{\"width\":1.8897637795275593,\"color\":\"transparent\"}},\"name\":\"Eosinophil counts\",\"legendgroup\":\"Eosinophil counts\",\"showlegend\":true,\"xaxis\":\"x\",\"yaxis\":\"y\",\"hoverinfo\":\"text\",\"frame\":null},{\"orientation\":\"v\",\"width\":10,\"base\":15.550000000000001,\"x\":[5],\"y\":[0.89999999999999858],\"text\":\"n: 10<br />value: HDL cholesterol levels<br />value: HDL cholesterol levels\",\"type\":\"bar\",\"textposition\":\"none\",\"marker\":{\"autocolorscale\":false,\"color\":\"rgba(89,165,169,1)\",\"line\":{\"width\":1.8897637795275593,\"color\":\"transparent\"}},\"name\":\"HDL cholesterol levels\",\"legendgroup\":\"HDL cholesterol levels\",\"showlegend\":true,\"xaxis\":\"x\",\"yaxis\":\"y\",\"hoverinfo\":\"text\",\"frame\":null},{\"orientation\":\"v\",\"width\":10,\"base\":16.550000000000001,\"x\":[5],\"y\":[0.89999999999999858],\"text\":\"n: 10<br />value: Hematocrit<br />value: Hematocrit\",\"type\":\"bar\",\"textposition\":\"none\",\"marker\":{\"autocolorscale\":false,\"color\":\"rgba(96,171,158,1)\",\"line\":{\"width\":1.8897637795275593,\"color\":\"transparent\"}},\"name\":\"Hematocrit\",\"legendgroup\":\"Hematocrit\",\"showlegend\":true,\"xaxis\":\"x\",\"yaxis\":\"y\",\"hoverinfo\":\"text\",\"frame\":null},{\"orientation\":\"v\",\"width\":10,\"base\":17.550000000000001,\"x\":[5],\"y\":[0.89999999999999858],\"text\":\"n: 10<br />value: Platelet count<br />value: Platelet count\",\"type\":\"bar\",\"textposition\":\"none\",\"marker\":{\"autocolorscale\":false,\"color\":\"rgba(105,177,144,1)\",\"line\":{\"width\":1.8897637795275593,\"color\":\"transparent\"}},\"name\":\"Platelet count\",\"legendgroup\":\"Platelet count\",\"showlegend\":true,\"xaxis\":\"x\",\"yaxis\":\"y\",\"hoverinfo\":\"text\",\"frame\":null},{\"orientation\":\"v\",\"width\":10,\"base\":18.550000000000001,\"x\":[5],\"y\":[0.89999999999999858],\"text\":\"n: 10<br />value: Total cholesterol levels<br />value: Total cholesterol levels\",\"type\":\"bar\",\"textposition\":\"none\",\"marker\":{\"autocolorscale\":false,\"color\":\"rgba(119,183,125,1)\",\"line\":{\"width\":1.8897637795275593,\"color\":\"transparent\"}},\"name\":\"Total cholesterol levels\",\"legendgroup\":\"Total cholesterol levels\",\"showlegend\":true,\"xaxis\":\"x\",\"yaxis\":\"y\",\"hoverinfo\":\"text\",\"frame\":null},{\"orientation\":\"v\",\"width\":10,\"base\":19.550000000000001,\"x\":[5],\"y\":[0.89999999999999858],\"text\":\"n: 10<br />value: Waist-to-hip ratio adjusted for BMI<br />value: Waist-to-hip ratio adjusted for BMI\",\"type\":\"bar\",\"textposition\":\"none\",\"marker\":{\"autocolorscale\":false,\"color\":\"rgba(140,188,104,1)\",\"line\":{\"width\":1.8897637795275593,\"color\":\"transparent\"}},\"name\":\"Waist-to-hip ratio adjusted for BMI\",\"legendgroup\":\"Waist-to-hip ratio adjusted for BMI\",\"showlegend\":true,\"xaxis\":\"x\",\"yaxis\":\"y\",\"hoverinfo\":\"text\",\"frame\":null},{\"orientation\":\"v\",\"width\":10,\"base\":20.550000000000001,\"x\":[5],\"y\":[0.89999999999999858],\"text\":\"n: 10<br />value: White blood cell count<br />value: White blood cell count\",\"type\":\"bar\",\"textposition\":\"none\",\"marker\":{\"autocolorscale\":false,\"color\":\"rgba(166,190,84,1)\",\"line\":{\"width\":1.8897637795275593,\"color\":\"transparent\"}},\"name\":\"White blood cell count\",\"legendgroup\":\"White blood cell count\",\"showlegend\":true,\"xaxis\":\"x\",\"yaxis\":\"y\",\"hoverinfo\":\"text\",\"frame\":null},{\"orientation\":\"v\",\"width\":11,\"base\":21.550000000000001,\"x\":[5.5],\"y\":[0.89999999999999858],\"text\":\"n: 11<br />value: High density lipoprotein cholesterol levels<br />value: High density lipoprotein cholesterol levels\",\"type\":\"bar\",\"textposition\":\"none\",\"marker\":{\"autocolorscale\":false,\"color\":\"rgba(190,188,72,1)\",\"line\":{\"width\":1.8897637795275593,\"color\":\"transparent\"}},\"name\":\"High density lipoprotein cholesterol levels\",\"legendgroup\":\"High density lipoprotein cholesterol levels\",\"showlegend\":true,\"xaxis\":\"x\",\"yaxis\":\"y\",\"hoverinfo\":\"text\",\"frame\":null},{\"orientation\":\"v\",\"width\":13,\"base\":22.550000000000001,\"x\":[6.5],\"y\":[0.89999999999999858],\"text\":\"n: 13<br />value: Multi-trait sex score<br />value: Multi-trait sex score\",\"type\":\"bar\",\"textposition\":\"none\",\"marker\":{\"autocolorscale\":false,\"color\":\"rgba(209,181,65,1)\",\"line\":{\"width\":1.8897637795275593,\"color\":\"transparent\"}},\"name\":\"Multi-trait sex score\",\"legendgroup\":\"Multi-trait sex score\",\"showlegend\":true,\"xaxis\":\"x\",\"yaxis\":\"y\",\"hoverinfo\":\"text\",\"frame\":null},{\"orientation\":\"v\",\"width\":14,\"base\":23.550000000000001,\"x\":[7],\"y\":[0.89999999999999858],\"text\":\"n: 14<br />value: Body mass index<br />value: Body mass index\",\"type\":\"bar\",\"textposition\":\"none\",\"marker\":{\"autocolorscale\":false,\"color\":\"rgba(221,170,60,1)\",\"line\":{\"width\":1.8897637795275593,\"color\":\"transparent\"}},\"name\":\"Body mass index\",\"legendgroup\":\"Body mass index\",\"showlegend\":true,\"xaxis\":\"x\",\"yaxis\":\"y\",\"hoverinfo\":\"text\",\"frame\":null},{\"orientation\":\"v\",\"width\":15,\"base\":24.550000000000001,\"x\":[7.5],\"y\":[0.89999999999999858],\"text\":\"n: 15<br />value: Red cell distribution width<br />value: Red cell distribution width\",\"type\":\"bar\",\"textposition\":\"none\",\"marker\":{\"autocolorscale\":false,\"color\":\"rgba(228,156,57,1)\",\"line\":{\"width\":1.8897637795275593,\"color\":\"transparent\"}},\"name\":\"Red cell distribution width\",\"legendgroup\":\"Red cell distribution width\",\"showlegend\":true,\"xaxis\":\"x\",\"yaxis\":\"y\",\"hoverinfo\":\"text\",\"frame\":null},{\"orientation\":\"v\",\"width\":16,\"base\":25.550000000000001,\"x\":[8],\"y\":[0.89999999999999858],\"text\":\"n: 16<br />value: Mean corpuscular volume<br />value: Mean corpuscular volume\",\"type\":\"bar\",\"textposition\":\"none\",\"marker\":{\"autocolorscale\":false,\"color\":\"rgba(231,140,53,1)\",\"line\":{\"width\":1.8897637795275593,\"color\":\"transparent\"}},\"name\":\"Mean corpuscular volume\",\"legendgroup\":\"Mean corpuscular volume\",\"showlegend\":true,\"xaxis\":\"x\",\"yaxis\":\"y\",\"hoverinfo\":\"text\",\"frame\":null},{\"orientation\":\"v\",\"width\":18,\"base\":26.550000000000001,\"x\":[9],\"y\":[0.89999999999999858],\"text\":\"n: 18<br />value: Red blood cell count<br />value: Red blood cell count\",\"type\":\"bar\",\"textposition\":\"none\",\"marker\":{\"autocolorscale\":false,\"color\":\"rgba(230,121,50,1)\",\"line\":{\"width\":1.8897637795275593,\"color\":\"transparent\"}},\"name\":\"Red blood cell count\",\"legendgroup\":\"Red blood cell count\",\"showlegend\":true,\"xaxis\":\"x\",\"yaxis\":\"y\",\"hoverinfo\":\"text\",\"frame\":null},{\"orientation\":\"v\",\"width\":25,\"base\":27.550000000000001,\"x\":[12.5],\"y\":[0.89999999999999858],\"text\":\"n: 25<br />value: Mean corpuscular hemoglobin<br />value: Mean corpuscular hemoglobin\",\"type\":\"bar\",\"textposition\":\"none\",\"marker\":{\"autocolorscale\":false,\"color\":\"rgba(228,99,45,1)\",\"line\":{\"width\":1.8897637795275593,\"color\":\"transparent\"}},\"name\":\"Mean corpuscular hemoglobin\",\"legendgroup\":\"Mean corpuscular hemoglobin\",\"showlegend\":true,\"xaxis\":\"x\",\"yaxis\":\"y\",\"hoverinfo\":\"text\",\"frame\":null},{\"orientation\":\"v\",\"width\":48,\"base\":28.550000000000001,\"x\":[24],\"y\":[0.89999999999999858],\"text\":\"n: 48<br />value: Height<br />value: Height\",\"type\":\"bar\",\"textposition\":\"none\",\"marker\":{\"autocolorscale\":false,\"color\":\"rgba(223,72,40,1)\",\"line\":{\"width\":1.8897637795275593,\"color\":\"transparent\"}},\"name\":\"Height\",\"legendgroup\":\"Height\",\"showlegend\":true,\"xaxis\":\"x\",\"yaxis\":\"y\",\"hoverinfo\":\"text\",\"frame\":null}],\"layout\":{\"margin\":{\"t\":26.228310502283104,\"r\":7.3059360730593621,\"b\":40.182648401826491,\"l\":276.89497716894988},\"font\":{\"color\":\"rgba(0,0,0,1)\",\"family\":\"\",\"size\":14.611872146118724},\"xaxis\":{\"domain\":[0,1],\"automargin\":true,\"type\":\"linear\",\"autorange\":false,\"range\":[-2.4000000000000004,50.399999999999999],\"tickmode\":\"array\",\"ticktext\":[\"0\",\"10\",\"20\",\"30\",\"40\",\"50\"],\"tickvals\":[0,10,20,30,40,50],\"categoryorder\":\"array\",\"categoryarray\":[\"0\",\"10\",\"20\",\"30\",\"40\",\"50\"],\"nticks\":null,\"ticks\":\"\",\"tickcolor\":null,\"ticklen\":3.6529680365296811,\"tickwidth\":0,\"showticklabels\":true,\"tickfont\":{\"color\":\"rgba(77,77,77,1)\",\"family\":\"\",\"size\":11.68949771689498},\"tickangle\":-0,\"showline\":false,\"linecolor\":null,\"linewidth\":0,\"showgrid\":true,\"gridcolor\":\"rgba(235,235,235,1)\",\"gridwidth\":0.66417600664176002,\"zeroline\":false,\"anchor\":\"y\",\"title\":{\"text\":\"n\",\"font\":{\"color\":\"rgba(0,0,0,1)\",\"family\":\"\",\"size\":14.611872146118724}},\"hoverformat\":\".2f\"},\"yaxis\":{\"domain\":[0,1],\"automargin\":true,\"type\":\"linear\",\"autorange\":false,\"range\":[0.40000000000000002,29.600000000000001],\"tickmode\":\"array\",\"ticktext\":[\"Appendicular lean mass\",\"Diastolic blood pressure\",\"Educational attainment\",\"Lymphocyte count\",\"Mean spheric corpuscular volume\",\"Monocyte count\",\"Plateletcrit\",\"Reticulocyte fraction of red cells\",\"Rheumatoid arthritis\",\"Triglyceride levels\",\"Type 2 diabetes\",\"Heel bone mineral density\",\"Systolic blood pressure\",\"Sex hormone-binding globulin levels\",\"Eosinophil counts\",\"HDL cholesterol levels\",\"Hematocrit\",\"Platelet count\",\"Total cholesterol levels\",\"Waist-to-hip ratio adjusted for BMI\",\"White blood cell count\",\"High density lipoprotein cholesterol levels\",\"Multi-trait sex score\",\"Body mass index\",\"Red cell distribution width\",\"Mean corpuscular volume\",\"Red blood cell count\",\"Mean corpuscular hemoglobin\",\"Height\"],\"tickvals\":[1,2,3,4,5,6,7,8,9,10,11,12,13,14,15,16,17,18,19,20,21,22,23,24,25,26,27,28,29],\"categoryorder\":\"array\",\"categoryarray\":[\"Appendicular lean mass\",\"Diastolic blood pressure\",\"Educational attainment\",\"Lymphocyte count\",\"Mean spheric corpuscular volume\",\"Monocyte count\",\"Plateletcrit\",\"Reticulocyte fraction of red cells\",\"Rheumatoid arthritis\",\"Triglyceride levels\",\"Type 2 diabetes\",\"Heel bone mineral density\",\"Systolic blood pressure\",\"Sex hormone-binding globulin levels\",\"Eosinophil counts\",\"HDL cholesterol levels\",\"Hematocrit\",\"Platelet count\",\"Total cholesterol levels\",\"Waist-to-hip ratio adjusted for BMI\",\"White blood cell count\",\"High density lipoprotein cholesterol levels\",\"Multi-trait sex score\",\"Body mass index\",\"Red cell distribution width\",\"Mean corpuscular volume\",\"Red blood cell count\",\"Mean corpuscular hemoglobin\",\"Height\"],\"nticks\":null,\"ticks\":\"\",\"tickcolor\":null,\"ticklen\":3.6529680365296811,\"tickwidth\":0,\"showticklabels\":true,\"tickfont\":{\"color\":\"rgba(77,77,77,1)\",\"family\":\"\",\"size\":11.68949771689498},\"tickangle\":-0,\"showline\":false,\"linecolor\":null,\"linewidth\":0,\"showgrid\":true,\"gridcolor\":\"rgba(235,235,235,1)\",\"gridwidth\":0.66417600664176002,\"zeroline\":false,\"anchor\":\"x\",\"title\":{\"text\":\"value\",\"font\":{\"color\":\"rgba(0,0,0,1)\",\"family\":\"\",\"size\":14.611872146118724}},\"hoverformat\":\".2f\"},\"shapes\":[{\"type\":\"rect\",\"fillcolor\":null,\"line\":{\"color\":null,\"width\":0,\"linetype\":[]},\"yref\":\"paper\",\"xref\":\"paper\",\"x0\":0,\"x1\":1,\"y0\":0,\"y1\":1}],\"showlegend\":true,\"legend\":{\"bgcolor\":null,\"bordercolor\":null,\"borderwidth\":0,\"font\":{\"color\":\"rgba(0,0,0,1)\",\"family\":\"\",\"size\":11.68949771689498},\"title\":{\"text\":\"value\",\"font\":{\"color\":\"rgba(0,0,0,1)\",\"family\":\"\",\"size\":14.611872146118724}}},\"hovermode\":\"closest\",\"barmode\":\"relative\"},\"config\":{\"doubleClick\":\"reset\",\"modeBarButtonsToAdd\":[\"hoverclosest\",\"hovercompare\"],\"showSendToCloud\":false},\"source\":\"A\",\"attrs\":{\"4a54687b65e1\":{\"x\":{},\"y\":{},\"fill\":{},\"type\":\"bar\"}},\"cur_data\":\"4a54687b65e1\",\"visdat\":{\"4a54687b65e1\":[\"function (y) \",\"x\"]},\"highlight\":{\"on\":\"plotly_click\",\"persistent\":false,\"dynamic\":false,\"selectize\":false,\"opacityDim\":0.20000000000000001,\"selected\":{\"opacity\":1},\"debounce\":0},\"shinyEvents\":[\"plotly_hover\",\"plotly_click\",\"plotly_selected\",\"plotly_relayout\",\"plotly_brushed\",\"plotly_brushing\",\"plotly_clickannotation\",\"plotly_doubleclick\",\"plotly_deselect\",\"plotly_afterplot\",\"plotly_sunburstclick\"],\"base_url\":\"https://plot.ly\"},\"evals\":[],\"jsHooks\":[]}</script>\n",
       "</div>\n",
       "<bslib-tooltip placement=\"auto\" bsOptions=\"[]\" data-require-bs-version=\"5\" data-require-bs-caller=\"tooltip()\">\n",
       "<template>Expand</template>\n",
       "<span class=\"bslib-full-screen-enter badge rounded-pill\"><svg xmlns=\"http://www.w3.org/2000/svg\" viewBox=\"0 0 24 24\" style=\"height:1em;width:1em;fill:currentColor;\" aria-hidden=\"true\" role=\"img\"><path d=\"M20 5C20 4.4 19.6 4 19 4H13C12.4 4 12 3.6 12 3C12 2.4 12.4 2 13 2H21C21.6 2 22 2.4 22 3V11C22 11.6 21.6 12 21 12C20.4 12 20 11.6 20 11V5ZM4 19C4 19.6 4.4 20 5 20H11C11.6 20 12 20.4 12 21C12 21.6 11.6 22 11 22H3C2.4 22 2 21.6 2 21V13C2 12.4 2.4 12 3 12C3.6 12 4 12.4 4 13V19Z\"/></svg></span>\n",
       "</bslib-tooltip>\n",
       "<script data-bslib-card-init>bslib.Card.initializeAllCards();</script>\n",
       "</div>"
      ]
     }
    }
   ],
   "source": [
    "over_ranges <- reduce(gg)[subjectHits(fo)]\n",
    "\n",
    "\n",
    "ii <- over_ranges |> \n",
    "  as.data.frame() |> \n",
    "  GenomicRanges::makeGRangesListFromDataFrame()\n",
    "\n",
    "\n",
    "phset = lapply(ii, function(x){\n",
    "  \n",
    "  # print(glue::glue(\"On range: {x}\"))\n",
    "  unique(gg[which(gg %over% x)]$\"DISEASE/TRAIT\")\n",
    "  \n",
    "})\n",
    "\n",
    "gwas_on_peaks <- phset |> \n",
    "    enframe() |> \n",
    "    unnest(value) |> \n",
    "    dplyr::count(value) |> \n",
    "    slice_max(n, n=20)\n",
    "\n",
    "\n",
    "p <- gwas_on_peaks |> \n",
    "  mutate(value = fct_reorder(value,n)) |> \n",
    "  ggplot(aes(n,value, fill=value))+\n",
    "  geom_col() +\n",
    "  theme(legend.position = \"none\") +\n",
    "  paletteer::scale_fill_paletteer_d(\"khroma::smoothrainbow\") +\n",
    "  theme_minimal()\n",
    "\n",
    "bslib::card(plotly::ggplotly(p), full_screen = T)"
   ],
   "id": "f01e7857-a6ab-4858-ab19-448b73a0bfc8"
  },
  {
   "cell_type": "markdown",
   "metadata": {},
   "source": [
    "Distinct phenotypes identified on the peaks:"
   ],
   "id": "256174a7-f2f3-4c85-b524-689bf34ffe31"
  },
  {
   "cell_type": "code",
   "execution_count": null,
   "metadata": {},
   "outputs": [
    {
     "output_type": "stream",
     "name": "stdout",
     "text": [
      "[1] 613"
     ]
    }
   ],
   "source": [
    "length(phset)"
   ],
   "id": "78c5cf63-337e-48d3-8d2c-f88d76869e3d"
  },
  {
   "cell_type": "markdown",
   "metadata": {},
   "source": [
    "Now, how to do the inference of these phenotype on peaks of these b cells? We can use permutation on the genomic positions to test if the number of phenotypes found is due to chance or not."
   ],
   "id": "24283a77-d631-4dc7-931b-50dd4002eb72"
  },
  {
   "cell_type": "code",
   "execution_count": null,
   "metadata": {},
   "outputs": [
    {
     "output_type": "stream",
     "name": "stderr",
     "text": [
      "Loading required package: png"
     ]
    },
    {
     "output_type": "stream",
     "name": "stderr",
     "text": [
      "Loading required package: grid"
     ]
    },
    {
     "output_type": "stream",
     "name": "stderr",
     "text": [
      "Loading required package: VariantAnnotation"
     ]
    },
    {
     "output_type": "stream",
     "name": "stderr",
     "text": [
      "Warning: package 'VariantAnnotation' was built under R version 4.3.2"
     ]
    },
    {
     "output_type": "stream",
     "name": "stderr",
     "text": [
      "Loading required package: MatrixGenerics"
     ]
    },
    {
     "output_type": "stream",
     "name": "stderr",
     "text": [
      "Warning: package 'MatrixGenerics' was built under R version 4.3.1"
     ]
    },
    {
     "output_type": "stream",
     "name": "stderr",
     "text": [
      "Loading required package: matrixStats"
     ]
    },
    {
     "output_type": "stream",
     "name": "stderr",
     "text": [
      "Warning: package 'matrixStats' was built under R version 4.3.2"
     ]
    },
    {
     "output_type": "stream",
     "name": "stderr",
     "text": [
      "\n",
      "Attaching package: 'matrixStats'"
     ]
    },
    {
     "output_type": "stream",
     "name": "stderr",
     "text": [
      "The following objects are masked from 'package:Biobase':\n",
      "\n",
      "    anyMissing, rowMedians"
     ]
    },
    {
     "output_type": "stream",
     "name": "stderr",
     "text": [
      "The following object is masked from 'package:dplyr':\n",
      "\n",
      "    count"
     ]
    },
    {
     "output_type": "stream",
     "name": "stderr",
     "text": [
      "\n",
      "Attaching package: 'MatrixGenerics'"
     ]
    },
    {
     "output_type": "stream",
     "name": "stderr",
     "text": [
      "The following objects are masked from 'package:matrixStats':\n",
      "\n",
      "    colAlls, colAnyNAs, colAnys, colAvgsPerRowSet, colCollapse,\n",
      "    colCounts, colCummaxs, colCummins, colCumprods, colCumsums,\n",
      "    colDiffs, colIQRDiffs, colIQRs, colLogSumExps, colMadDiffs,\n",
      "    colMads, colMaxs, colMeans2, colMedians, colMins, colOrderStats,\n",
      "    colProds, colQuantiles, colRanges, colRanks, colSdDiffs, colSds,\n",
      "    colSums2, colTabulates, colVarDiffs, colVars, colWeightedMads,\n",
      "    colWeightedMeans, colWeightedMedians, colWeightedSds,\n",
      "    colWeightedVars, rowAlls, rowAnyNAs, rowAnys, rowAvgsPerColSet,\n",
      "    rowCollapse, rowCounts, rowCummaxs, rowCummins, rowCumprods,\n",
      "    rowCumsums, rowDiffs, rowIQRDiffs, rowIQRs, rowLogSumExps,\n",
      "    rowMadDiffs, rowMads, rowMaxs, rowMeans2, rowMedians, rowMins,\n",
      "    rowOrderStats, rowProds, rowQuantiles, rowRanges, rowRanks,\n",
      "    rowSdDiffs, rowSds, rowSums2, rowTabulates, rowVarDiffs, rowVars,\n",
      "    rowWeightedMads, rowWeightedMeans, rowWeightedMedians,\n",
      "    rowWeightedSds, rowWeightedVars"
     ]
    },
    {
     "output_type": "stream",
     "name": "stderr",
     "text": [
      "The following object is masked from 'package:Biobase':\n",
      "\n",
      "    rowMedians"
     ]
    },
    {
     "output_type": "stream",
     "name": "stderr",
     "text": [
      "Loading required package: SummarizedExperiment"
     ]
    },
    {
     "output_type": "stream",
     "name": "stderr",
     "text": [
      "Warning: package 'SummarizedExperiment' was built under R version 4.3.1"
     ]
    },
    {
     "output_type": "stream",
     "name": "stderr",
     "text": [
      "Loading required package: Rsamtools"
     ]
    },
    {
     "output_type": "stream",
     "name": "stderr",
     "text": [
      "Warning: package 'Rsamtools' was built under R version 4.3.1"
     ]
    },
    {
     "output_type": "stream",
     "name": "stderr",
     "text": [
      "Loading required package: Biostrings"
     ]
    },
    {
     "output_type": "stream",
     "name": "stderr",
     "text": [
      "Warning: package 'Biostrings' was built under R version 4.3.2"
     ]
    },
    {
     "output_type": "stream",
     "name": "stderr",
     "text": [
      "Loading required package: XVector"
     ]
    },
    {
     "output_type": "stream",
     "name": "stderr",
     "text": [
      "Warning: package 'XVector' was built under R version 4.3.1"
     ]
    },
    {
     "output_type": "stream",
     "name": "stderr",
     "text": [
      "\n",
      "Attaching package: 'XVector'"
     ]
    },
    {
     "output_type": "stream",
     "name": "stderr",
     "text": [
      "The following object is masked from 'package:purrr':\n",
      "\n",
      "    compact"
     ]
    },
    {
     "output_type": "stream",
     "name": "stderr",
     "text": [
      "\n",
      "Attaching package: 'Biostrings'"
     ]
    },
    {
     "output_type": "stream",
     "name": "stderr",
     "text": [
      "The following object is masked from 'package:grid':\n",
      "\n",
      "    pattern"
     ]
    },
    {
     "output_type": "stream",
     "name": "stderr",
     "text": [
      "The following object is masked from 'package:base':\n",
      "\n",
      "    strsplit"
     ]
    },
    {
     "output_type": "stream",
     "name": "stderr",
     "text": [
      "\n",
      "Attaching package: 'VariantAnnotation'"
     ]
    },
    {
     "output_type": "stream",
     "name": "stderr",
     "text": [
      "The following object is masked from 'package:stringr':\n",
      "\n",
      "    fixed"
     ]
    },
    {
     "output_type": "stream",
     "name": "stderr",
     "text": [
      "The following object is masked from 'package:base':\n",
      "\n",
      "    tabulate"
     ]
    },
    {
     "output_type": "stream",
     "name": "stderr",
     "text": [
      "Warning: package 'progress' was built under R version 4.3.3"
     ]
    },
    {
     "output_type": "stream",
     "name": "stdout",
     "text": [
      "[1] 0"
     ]
    }
   ],
   "source": [
    "library(ph525x)"
   ],
   "id": "ef1857c4-fe17-4325-a652-2b9086a51bd1"
  },
  {
   "cell_type": "markdown",
   "metadata": {},
   "source": [
    "## 3 Explore the TCGA\n",
    "\n",
    "Please check the script below the image to see how to explore and get insights from the TCGA (The Cancer Genome Atlas) database.\n",
    "\n",
    "``` python\n",
    "readData = curatedTCGAData(\"READ\", \n",
    "                           c(\"RNASeq2GeneNorm\", \"Mutation\", \"Methylation_methyl450\"), \n",
    "                           dry.run = FALSE, version = \"2.1.1\")\n",
    "```\n",
    "\n",
    "    Working on: READ_Mutation-20160128see ?curatedTCGAData and browseVignettes('curatedTCGAData') for documentationloading from cacherequire(\"RaggedExperiment\")Warning: package 'RaggedExperiment' was built under R version 4.3.1Working on: READ_RNASeq2GeneNorm-20160128see ?curatedTCGAData and browseVignettes('curatedTCGAData') for documentationloading from cacheWorking on: READ_Methylation_methyl450-20160128see ?curatedTCGAData and browseVignettes('curatedTCGAData') for documentationloading from cacherequire(\"rhdf5\")Warning: package 'rhdf5' was built under R version 4.3.2see ?curatedTCGAData and browseVignettes('curatedTCGAData') for documentationloading from cacheLoading required package: HDF5ArrayWarning: package 'HDF5Array' was built under R version 4.3.2Loading required package: DelayedArrayWarning: package 'DelayedArray' was built under R version 4.3.1Loading required package: MatrixWarning: package 'Matrix' was built under R version 4.3.2\n",
    "    Attaching package: 'Matrix'The following object is masked from 'package:S4Vectors':\n",
    "\n",
    "        expandThe following objects are masked from 'package:tidyr':\n",
    "\n",
    "        expand, pack, unpackLoading required package: S4ArraysWarning: package 'S4Arrays' was built under R version 4.3.2Loading required package: abind\n",
    "    Attaching package: 'S4Arrays'The following object is masked from 'package:abind':\n",
    "\n",
    "        abindThe following object is masked from 'package:base':\n",
    "\n",
    "        rowsumLoading required package: SparseArrayWarning: package 'SparseArray' was built under R version 4.3.2\n",
    "    Attaching package: 'DelayedArray'The following object is masked from 'package:purrr':\n",
    "\n",
    "        simplifyThe following objects are masked from 'package:base':\n",
    "\n",
    "        apply, scale, sweep\n",
    "    Attaching package: 'HDF5Array'The following object is masked from 'package:rhdf5':\n",
    "\n",
    "        h5lsWorking on: READ_colData-20160128see ?curatedTCGAData and browseVignettes('curatedTCGAData') for documentationloading from cacheWorking on: READ_sampleMap-20160128see ?curatedTCGAData and browseVignettes('curatedTCGAData') for documentationloading from cacheWorking on: READ_metadata-20160128see ?curatedTCGAData and browseVignettes('curatedTCGAData') for documentationloading from cacheharmonizing input:\n",
    "      removing 1903 sampleMap rows not in names(experiments)\n",
    "      removing 2 colData rownames not in sampleMap 'primary'\n",
    "\n",
    "    A MultiAssayExperiment object of 3 listed\n",
    "     experiments with user-defined names and respective classes.\n",
    "     Containing an ExperimentList class object of length 3:\n",
    "     [1] READ_Mutation-20160128: RaggedExperiment with 22075 rows and 69 columns\n",
    "     [2] READ_RNASeq2GeneNorm-20160128: SummarizedExperiment with 18115 rows and 177 columns\n",
    "     [3] READ_Methylation_methyl450-20160128: SummarizedExperiment with 485577 rows and 106 columns\n",
    "    Functionality:\n",
    "     experiments() - obtain the ExperimentList instance\n",
    "     colData() - the primary/phenotype DataFrame\n",
    "     sampleMap() - the sample coordination DataFrame\n",
    "     `---\n",
    "    title: Integrative Analysis of Multi-omic Data\n",
    "    author:\n",
    "      - name: Piero Palacios Bernuy\n",
    "        orcid: 0000-0001-6729-4080\n",
    "        corresponding: true\n",
    "        email: p.palacios.bernuy@gmail.com\n",
    "        roles:\n",
    "          - Investigation\n",
    "          - Bioinformatics\n",
    "          - Deep learning\n",
    "          - Visualization\n",
    "    keywords:\n",
    "      - Genomic Ranges\n",
    "      - Omics\n",
    "      - Bioconductor\n",
    "    abstract: |\n",
    "      This document is part of a series of the analysis of Omics data. Especifically, here is showed how to analyze bulk RNA-Seq data with Bioconductor packages. Also, it's showcased how to make plots of the RNA data in the context of differentially gene expression and gene-sets. \n",
    "    plain-language-summary: |\n",
    "      This document have a example of the analysis of bulk RNA-Seq data.\n",
    "    key-points:\n",
    "      - A guide to analyze GWAS public data.\n",
    "      - A guide to analyze TCGA database.\n",
    "    date: last-modified\n",
    "    bibliography: references.bib\n",
    "    citation:\n",
    "      container-title: An open source portfolio\n",
    "    number-sections: true\n",
    "    ---\n",
    "\n",
    "\n",
    "\n",
    "    ## Introduction\n",
    "\n",
    "\n",
    "\n",
    "    ## GWAS Catalog with a ChIP-Seq Experiment\n",
    "\n",
    "    Here,  we are gonna analyze the relation between transcription factor binding (ESRRA binding data) from a ChIP-Seq experiment and the genome-wide associations between DNA variants and phenotypes like diseases. For this task, we are gonna use a the `gwascat` package distributed by the **EMBL** (European Molecular Biology Laboratories).\n",
    "\n",
    "\n",
    "\n",
    "    ::: {.cell}\n",
    "\n",
    "    ```{.r .cell-code .hidden}\n",
    "    library(tidyverse)\n",
    "\n",
    "    Warning: package 'ggplot2' was built under R version 4.3.2\n",
    "\n",
    "    Warning: package 'tidyr' was built under R version 4.3.2\n",
    "\n",
    "    Warning: package 'readr' was built under R version 4.3.2\n",
    "\n",
    "    Warning: package 'purrr' was built under R version 4.3.2\n",
    "\n",
    "    Warning: package 'dplyr' was built under R version 4.3.2\n",
    "\n",
    "    Warning: package 'stringr' was built under R version 4.3.2\n",
    "\n",
    "    Warning: package 'lubridate' was built under R version 4.3.2\n",
    "\n",
    "    ── Attaching core tidyverse packages ──────────────────────── tidyverse 2.0.0 ──\n",
    "    ✔ dplyr     1.1.4     ✔ readr     2.1.5\n",
    "    ✔ forcats   1.0.0     ✔ stringr   1.5.1\n",
    "    ✔ ggplot2   3.5.0     ✔ tibble    3.2.1\n",
    "    ✔ lubridate 1.9.3     ✔ tidyr     1.3.1\n",
    "    ✔ purrr     1.0.2     \n",
    "    ── Conflicts ────────────────────────────────────────── tidyverse_conflicts() ──\n",
    "    ✖ dplyr::filter() masks stats::filter()\n",
    "    ✖ dplyr::lag()    masks stats::lag()\n",
    "    ℹ Use the conflicted package (<http://conflicted.r-lib.org/>) to force all conflicts to become errors\n",
    "\n",
    "``` r\n",
    "library(gwascat)\n",
    "```\n",
    "\n",
    "    Warning: package 'gwascat' was built under R version 4.3.1\n",
    "\n",
    "    gwascat loaded.  Use makeCurrentGwascat() to extract current image.\n",
    "     from EBI.  The data folder of this package has some legacy extracts.\n",
    "\n",
    "``` r\n",
    "library(GenomeInfoDb)\n",
    "```\n",
    "\n",
    "    Warning: package 'GenomeInfoDb' was built under R version 4.3.2\n",
    "\n",
    "    Loading required package: BiocGenerics\n",
    "\n",
    "    Warning: package 'BiocGenerics' was built under R version 4.3.1\n",
    "\n",
    "\n",
    "    Attaching package: 'BiocGenerics'\n",
    "\n",
    "    The following objects are masked from 'package:lubridate':\n",
    "\n",
    "        intersect, setdiff, union\n",
    "\n",
    "    The following objects are masked from 'package:dplyr':\n",
    "\n",
    "        combine, intersect, setdiff, union\n",
    "\n",
    "    The following objects are masked from 'package:stats':\n",
    "\n",
    "        IQR, mad, sd, var, xtabs\n",
    "\n",
    "    The following objects are masked from 'package:base':\n",
    "\n",
    "        anyDuplicated, aperm, append, as.data.frame, basename, cbind,\n",
    "        colnames, dirname, do.call, duplicated, eval, evalq, Filter, Find,\n",
    "        get, grep, grepl, intersect, is.unsorted, lapply, Map, mapply,\n",
    "        match, mget, order, paste, pmax, pmax.int, pmin, pmin.int,\n",
    "        Position, rank, rbind, Reduce, rownames, sapply, setdiff, sort,\n",
    "        table, tapply, union, unique, unsplit, which.max, which.min\n",
    "\n",
    "    Loading required package: S4Vectors\n",
    "    Loading required package: stats4\n",
    "\n",
    "    Attaching package: 'S4Vectors'\n",
    "\n",
    "    The following objects are masked from 'package:lubridate':\n",
    "\n",
    "        second, second<-\n",
    "\n",
    "    The following objects are masked from 'package:dplyr':\n",
    "\n",
    "        first, rename\n",
    "\n",
    "    The following object is masked from 'package:tidyr':\n",
    "\n",
    "        expand\n",
    "\n",
    "    The following object is masked from 'package:utils':\n",
    "\n",
    "        findMatches\n",
    "\n",
    "    The following objects are masked from 'package:base':\n",
    "\n",
    "        expand.grid, I, unname\n",
    "\n",
    "    Loading required package: IRanges\n",
    "\n",
    "    Attaching package: 'IRanges'\n",
    "\n",
    "    The following object is masked from 'package:lubridate':\n",
    "\n",
    "        %within%\n",
    "\n",
    "    The following objects are masked from 'package:dplyr':\n",
    "\n",
    "        collapse, desc, slice\n",
    "\n",
    "    The following object is masked from 'package:purrr':\n",
    "\n",
    "        reduce\n",
    "\n",
    "    The following object is masked from 'package:grDevices':\n",
    "\n",
    "        windows\n",
    "\n",
    "``` r\n",
    "library(ERBS)\n",
    "library(liftOver)\n",
    "```\n",
    "\n",
    "    Loading required package: GenomicRanges\n",
    "    Loading required package: rtracklayer\n",
    "\n",
    "    Warning: package 'rtracklayer' was built under R version 4.3.1\n",
    "\n",
    "    Loading required package: Homo.sapiens\n",
    "    Loading required package: AnnotationDbi\n",
    "\n",
    "    Warning: package 'AnnotationDbi' was built under R version 4.3.2\n",
    "\n",
    "    Loading required package: Biobase\n",
    "    Welcome to Bioconductor\n",
    "\n",
    "        Vignettes contain introductory material; view with\n",
    "        'browseVignettes()'. To cite Bioconductor, see\n",
    "        'citation(\"Biobase\")', and for packages 'citation(\"pkgname\")'.\n",
    "\n",
    "\n",
    "    Attaching package: 'AnnotationDbi'\n",
    "\n",
    "    The following object is masked from 'package:dplyr':\n",
    "\n",
    "        select\n",
    "\n",
    "    Loading required package: OrganismDbi\n",
    "\n",
    "    Warning: package 'OrganismDbi' was built under R version 4.3.1\n",
    "\n",
    "    Loading required package: GenomicFeatures\n",
    "\n",
    "    Warning: package 'GenomicFeatures' was built under R version 4.3.2\n",
    "\n",
    "    Loading required package: GO.db\n",
    "\n",
    "    Loading required package: org.Hs.eg.db\n",
    "\n",
    "    Loading required package: TxDb.Hsapiens.UCSC.hg19.knownGene\n",
    "\n",
    "First, we need to download the data, keep the 24 chromosomes (from 1 to Y) and, specify the sequence information from the GRCh38 human genome annotation.\n",
    "\n",
    "``` r\n",
    "gwcat = get_cached_gwascat()\n",
    "\n",
    "gg = gwcat |> as_GRanges()\n",
    "```\n",
    "\n",
    "    dropping 45505 records that have NA for CHR_POS\n",
    "\n",
    "    1950 records have semicolon in CHR_POS; splitting and using first entry.\n",
    "\n",
    "    3265 records have ' x ' in CHR_POS indicating multiple SNP effects, using first.\n",
    "\n",
    "``` r\n",
    "gg = keepStandardChromosomes(gg, pruning.mode = \"coarse\")\n",
    "\n",
    "# seqlevelsStyle(gg) <- \"UCSC\"\n",
    "\n",
    "seqlevels(gg) <- seqlevels(gg) |> \n",
    "  sortSeqlevels()\n",
    "\n",
    "data(\"si.hs.38\")\n",
    "\n",
    "seqinfo(gg) <- si.hs.38\n",
    "```\n",
    "\n",
    "Now, let’s plot a karyogram that will show the SNP’s identified with significant associations with a phenotype. The SNP’s in the GWAS catalog have a stringent criterion of significance and there has been a replication of the finding from a independent population.\n",
    "\n",
    "``` r\n",
    "ggbio::autoplot(gg, layout=\"karyogram\")\n",
    "```\n",
    "\n",
    "    Registered S3 method overwritten by 'GGally':\n",
    "      method from   \n",
    "      +.gg   ggplot2\n",
    "\n",
    "    Scale for x is already present.\n",
    "    Adding another scale for x, which will replace the existing scale.\n",
    "    Scale for x is already present.\n",
    "    Adding another scale for x, which will replace the existing scale.\n",
    "\n",
    "![](attachment:index_files/figure-html/unnamed-chunk-3-1.png)\n",
    "\n",
    "We can see the peak data as a `GRanges` object:\n",
    "\n",
    "``` r\n",
    "data(\"GM12878\")\n",
    "\n",
    "GM12878\n",
    "```\n",
    "\n",
    "    GRanges object with 1873 ranges and 7 metadata columns:\n",
    "             seqnames            ranges strand |      name     score       col\n",
    "                <Rle>         <IRanges>  <Rle> | <numeric> <integer> <logical>\n",
    "         [1]     chrX   1509355-1512462      * |         5         0      <NA>\n",
    "         [2]     chrX 26801422-26802448      * |         6         0      <NA>\n",
    "         [3]    chr19 11694102-11695359      * |         1         0      <NA>\n",
    "         [4]    chr19   4076893-4079276      * |         4         0      <NA>\n",
    "         [5]     chr3 53288568-53290767      * |         9         0      <NA>\n",
    "         ...      ...               ...    ... .       ...       ...       ...\n",
    "      [1869]    chr19 11201120-11203985      * |      8701         0      <NA>\n",
    "      [1870]    chr19   2234920-2237370      * |       990         0      <NA>\n",
    "      [1871]     chr1 94311336-94313543      * |      4035         0      <NA>\n",
    "      [1872]    chr19 45690614-45691210      * |     10688         0      <NA>\n",
    "      [1873]    chr19   6110100-6111252      * |      2274         0      <NA>\n",
    "             signalValue    pValue    qValue      peak\n",
    "               <numeric> <numeric> <numeric> <integer>\n",
    "         [1]      157.92   310.000        32      1991\n",
    "         [2]      147.38   310.000        32       387\n",
    "         [3]       99.71   311.660        32       861\n",
    "         [4]       84.74   310.000        32      1508\n",
    "         [5]       78.20   299.505        32      1772\n",
    "         ...         ...       ...       ...       ...\n",
    "      [1869]        8.65     7.281   0.26576      2496\n",
    "      [1870]        8.65    26.258   1.99568      1478\n",
    "      [1871]        8.65    12.511   1.47237      1848\n",
    "      [1872]        8.65     6.205   0.00000       298\n",
    "      [1873]        8.65    17.356   2.01323       496\n",
    "      -------\n",
    "      seqinfo: 93 sequences (1 circular) from hg19 genome\n",
    "\n",
    "If we see the bottom of the `GRanges` table, this experiment have the hg19 annotation from the human genome. To work on the GRCh38 annotation we need to lift-over with a `.chain` file. For this we can use the `AnnotationHub` package.\n",
    "\n",
    "``` r\n",
    "library(AnnotationHub)\n",
    "```\n",
    "\n",
    "    Warning: package 'AnnotationHub' was built under R version 4.3.1\n",
    "\n",
    "    Loading required package: BiocFileCache\n",
    "\n",
    "    Warning: package 'BiocFileCache' was built under R version 4.3.1\n",
    "\n",
    "    Loading required package: dbplyr\n",
    "\n",
    "    Warning: package 'dbplyr' was built under R version 4.3.2\n",
    "\n",
    "\n",
    "    Attaching package: 'dbplyr'\n",
    "\n",
    "    The following objects are masked from 'package:dplyr':\n",
    "\n",
    "        ident, sql\n",
    "\n",
    "\n",
    "    Attaching package: 'AnnotationHub'\n",
    "\n",
    "    The following object is masked from 'package:Biobase':\n",
    "\n",
    "        cache\n",
    "\n",
    "    The following object is masked from 'package:rtracklayer':\n",
    "\n",
    "        hubUrl\n",
    "\n",
    "``` r\n",
    "ah <- AnnotationHub::AnnotationHub()\n",
    "\n",
    "query(ah, c(\"hg19ToHg38.over.chain\"))\n",
    "```\n",
    "\n",
    "    AnnotationHub with 1 record\n",
    "    # snapshotDate(): 2023-10-23\n",
    "    # names(): AH14150\n",
    "    # $dataprovider: UCSC\n",
    "    # $species: Homo sapiens\n",
    "    # $rdataclass: ChainFile\n",
    "    # $rdatadateadded: 2014-12-15\n",
    "    # $title: hg19ToHg38.over.chain.gz\n",
    "    # $description: UCSC liftOver chain file from hg19 to hg38\n",
    "    # $taxonomyid: 9606\n",
    "    # $genome: hg19\n",
    "    # $sourcetype: Chain\n",
    "    # $sourceurl: http://hgdownload.cse.ucsc.edu/goldenpath/hg19/liftOver/hg19To...\n",
    "    # $sourcesize: NA\n",
    "    # $tags: c(\"liftOver\", \"chain\", \"UCSC\", \"genome\", \"homology\") \n",
    "    # retrieve record with 'object[[\"AH14150\"]]' \n",
    "\n",
    "``` r\n",
    "chain <- ah[[\"AH14150\"]]\n",
    "```\n",
    "\n",
    "    loading from cache\n",
    "\n",
    "``` r\n",
    "GM12878 <- liftOver(GM12878, chain) |> \n",
    "  unlist()\n",
    "\n",
    "seqlevelsStyle(GM12878) <- \"NCBI\"\n",
    "\n",
    "seqinfo(GM12878) <- si.hs.38\n",
    "\n",
    "\n",
    "seqlevelsStyle(GM12878) <- \"UCSC\"\n",
    "seqlevelsStyle(gg) <- \"UCSC\"\n",
    "```\n",
    "\n",
    "We can find overlaps between the GWAS catalog and the ESRRA ChIP-Seq experiment but, there is a problem; the GWAS catalog is a collection of intervals that reports all significant SNPs and there can be duplications of SNPs associated to multiple phenotypes or the same SNP might be found for the same phenotype in different studies.\n",
    "\n",
    "We can see the duplications with the `reduce` function from `IRanges` package:\n",
    "\n",
    "``` r\n",
    "# duplicated loci\n",
    "length(gg) - length(reduce(gg))\n",
    "```\n",
    "\n",
    "    [1] 261160\n",
    "\n",
    "We can see that there are `261160` duplicated loci. Let’s find the overlap between the *reduced* catalog and the ChIP-Seq experiment:\n",
    "\n",
    "``` r\n",
    "#\n",
    "fo = findOverlaps(GM12878, reduce(gg))\n",
    "fo\n",
    "```\n",
    "\n",
    "    Hits object with 613 hits and 0 metadata columns:\n",
    "            queryHits subjectHits\n",
    "            <integer>   <integer>\n",
    "        [1]         6      237757\n",
    "        [2]         9      221130\n",
    "        [3]        12       25060\n",
    "        [4]        15      104699\n",
    "        [5]        15      104700\n",
    "        ...       ...         ...\n",
    "      [609]      1928      246305\n",
    "      [610]      1929      244698\n",
    "      [611]      1929      244699\n",
    "      [612]      1931      250380\n",
    "      [613]      1931      250381\n",
    "      -------\n",
    "      queryLength: 1932 / subjectLength: 268560\n",
    "\n",
    "We can see 613 hits. Then, we are gonna eobtain the ranges from those hits, retrieve the phenotypes (DISEASE/TRAIT) and show the top 20 most common phenotypes with association to SNPs that lies on the ESRRA binding peaks.\n",
    "\n",
    "``` r\n",
    "over_ranges <- reduce(gg)[subjectHits(fo)]\n",
    "\n",
    "\n",
    "ii <- over_ranges |> \n",
    "  as.data.frame() |> \n",
    "  GenomicRanges::makeGRangesListFromDataFrame()\n",
    "\n",
    "\n",
    "phset = lapply(ii, function(x){\n",
    "  \n",
    "  # print(glue::glue(\"On range: {x}\"))\n",
    "  unique(gg[which(gg %over% x)]$\"DISEASE/TRAIT\")\n",
    "  \n",
    "})\n",
    "\n",
    "gwas_on_peaks <- phset |> \n",
    "    enframe() |> \n",
    "    unnest(value) |> \n",
    "    dplyr::count(value) |> \n",
    "    slice_max(n, n=20)\n",
    "\n",
    "\n",
    "p <- gwas_on_peaks |> \n",
    "  mutate(value = fct_reorder(value,n)) |> \n",
    "  ggplot(aes(n,value, fill=value))+\n",
    "  geom_col() +\n",
    "  theme(legend.position = \"none\") +\n",
    "  paletteer::scale_fill_paletteer_d(\"khroma::smoothrainbow\") +\n",
    "  theme_minimal()\n",
    "\n",
    "bslib::card(plotly::ggplotly(p), full_screen = T)\n",
    "```\n",
    "\n",
    "<div class=\"card bslib-card bslib-mb-spacing html-fill-item html-fill-container\" data-bslib-card-init data-full-screen=\"false\" data-require-bs-caller=\"card()\" data-require-bs-version=\"5\">\n",
    "<div class=\"card-body bslib-gap-spacing html-fill-item html-fill-container\" style=\"margin-top:auto;margin-bottom:auto;flex:1 1 auto;\">\n",
    "<div class=\"plotly html-widget html-fill-item\" id=\"htmlwidget-171c168db4a533b58e5b\" style=\"width:100%;height:400px;\"></div>\n",
    "<script type=\"application/json\" data-for=\"htmlwidget-171c168db4a533b58e5b\">{\"x\":{\"data\":[{\"orientation\":\"v\",\"width\":7,\"base\":0.55000000000000004,\"x\":[3.5],\"y\":[0.89999999999999991],\"text\":\"n:  7<br />value: Appendicular lean mass<br />value: Appendicular lean mass\",\"type\":\"bar\",\"textposition\":\"none\",\"marker\":{\"autocolorscale\":false,\"color\":\"rgba(232,236,251,1)\",\"line\":{\"width\":1.8897637795275593,\"color\":\"transparent\"}},\"name\":\"Appendicular lean mass\",\"legendgroup\":\"Appendicular lean mass\",\"showlegend\":true,\"xaxis\":\"x\",\"yaxis\":\"y\",\"hoverinfo\":\"text\",\"frame\":null},{\"orientation\":\"v\",\"width\":7,\"base\":1.55,\"x\":[3.5],\"y\":[0.90000000000000013],\"text\":\"n:  7<br />value: Diastolic blood pressure<br />value: Diastolic blood pressure\",\"type\":\"bar\",\"textposition\":\"none\",\"marker\":{\"autocolorscale\":false,\"color\":\"rgba(221,216,239,1)\",\"line\":{\"width\":1.8897637795275593,\"color\":\"transparent\"}},\"name\":\"Diastolic blood pressure\",\"legendgroup\":\"Diastolic blood pressure\",\"showlegend\":true,\"xaxis\":\"x\",\"yaxis\":\"y\",\"hoverinfo\":\"text\",\"frame\":null},{\"orientation\":\"v\",\"width\":7,\"base\":2.5499999999999998,\"x\":[3.5],\"y\":[0.90000000000000036],\"text\":\"n:  7<br />value: Educational attainment<br />value: Educational attainment\",\"type\":\"bar\",\"textposition\":\"none\",\"marker\":{\"autocolorscale\":false,\"color\":\"rgba(209,193,225,1)\",\"line\":{\"width\":1.8897637795275593,\"color\":\"transparent\"}},\"name\":\"Educational attainment\",\"legendgroup\":\"Educational attainment\",\"showlegend\":true,\"xaxis\":\"x\",\"yaxis\":\"y\",\"hoverinfo\":\"text\",\"frame\":null},{\"orientation\":\"v\",\"width\":7,\"base\":3.5499999999999998,\"x\":[3.5],\"y\":[0.90000000000000036],\"text\":\"n:  7<br />value: Lymphocyte count<br />value: Lymphocyte count\",\"type\":\"bar\",\"textposition\":\"none\",\"marker\":{\"autocolorscale\":false,\"color\":\"rgba(195,168,209,1)\",\"line\":{\"width\":1.8897637795275593,\"color\":\"transparent\"}},\"name\":\"Lymphocyte count\",\"legendgroup\":\"Lymphocyte count\",\"showlegend\":true,\"xaxis\":\"x\",\"yaxis\":\"y\",\"hoverinfo\":\"text\",\"frame\":null},{\"orientation\":\"v\",\"width\":7,\"base\":4.5499999999999998,\"x\":[3.5],\"y\":[0.90000000000000036],\"text\":\"n:  7<br />value: Mean spheric corpuscular volume<br />value: Mean spheric corpuscular volume\",\"type\":\"bar\",\"textposition\":\"none\",\"marker\":{\"autocolorscale\":false,\"color\":\"rgba(181,143,194,1)\",\"line\":{\"width\":1.8897637795275593,\"color\":\"transparent\"}},\"name\":\"Mean spheric corpuscular volume\",\"legendgroup\":\"Mean spheric corpuscular volume\",\"showlegend\":true,\"xaxis\":\"x\",\"yaxis\":\"y\",\"hoverinfo\":\"text\",\"frame\":null},{\"orientation\":\"v\",\"width\":7,\"base\":5.5499999999999998,\"x\":[3.5],\"y\":[0.90000000000000036],\"text\":\"n:  7<br />value: Monocyte count<br />value: Monocyte count\",\"type\":\"bar\",\"textposition\":\"none\",\"marker\":{\"autocolorscale\":false,\"color\":\"rgba(167,120,180,1)\",\"line\":{\"width\":1.8897637795275593,\"color\":\"transparent\"}},\"name\":\"Monocyte count\",\"legendgroup\":\"Monocyte count\",\"showlegend\":true,\"xaxis\":\"x\",\"yaxis\":\"y\",\"hoverinfo\":\"text\",\"frame\":null},{\"orientation\":\"v\",\"width\":7,\"base\":6.5499999999999998,\"x\":[3.5],\"y\":[0.90000000000000036],\"text\":\"n:  7<br />value: Plateletcrit<br />value: Plateletcrit\",\"type\":\"bar\",\"textposition\":\"none\",\"marker\":{\"autocolorscale\":false,\"color\":\"rgba(155,98,167,1)\",\"line\":{\"width\":1.8897637795275593,\"color\":\"transparent\"}},\"name\":\"Plateletcrit\",\"legendgroup\":\"Plateletcrit\",\"showlegend\":true,\"xaxis\":\"x\",\"yaxis\":\"y\",\"hoverinfo\":\"text\",\"frame\":null},{\"orientation\":\"v\",\"width\":7,\"base\":7.5499999999999998,\"x\":[3.5],\"y\":[0.89999999999999947],\"text\":\"n:  7<br />value: Reticulocyte fraction of red cells<br />value: Reticulocyte fraction of red cells\",\"type\":\"bar\",\"textposition\":\"none\",\"marker\":{\"autocolorscale\":false,\"color\":\"rgba(140,78,153,1)\",\"line\":{\"width\":1.8897637795275593,\"color\":\"transparent\"}},\"name\":\"Reticulocyte fraction of red cells\",\"legendgroup\":\"Reticulocyte fraction of red cells\",\"showlegend\":true,\"xaxis\":\"x\",\"yaxis\":\"y\",\"hoverinfo\":\"text\",\"frame\":null},{\"orientation\":\"v\",\"width\":7,\"base\":8.5500000000000007,\"x\":[3.5],\"y\":[0.89999999999999858],\"text\":\"n:  7<br />value: Rheumatoid arthritis<br />value: Rheumatoid arthritis\",\"type\":\"bar\",\"textposition\":\"none\",\"marker\":{\"autocolorscale\":false,\"color\":\"rgba(111,76,155,1)\",\"line\":{\"width\":1.8897637795275593,\"color\":\"transparent\"}},\"name\":\"Rheumatoid arthritis\",\"legendgroup\":\"Rheumatoid arthritis\",\"showlegend\":true,\"xaxis\":\"x\",\"yaxis\":\"y\",\"hoverinfo\":\"text\",\"frame\":null},{\"orientation\":\"v\",\"width\":7,\"base\":9.5500000000000007,\"x\":[3.5],\"y\":[0.89999999999999858],\"text\":\"n:  7<br />value: Triglyceride levels<br />value: Triglyceride levels\",\"type\":\"bar\",\"textposition\":\"none\",\"marker\":{\"autocolorscale\":false,\"color\":\"rgba(96,89,169,1)\",\"line\":{\"width\":1.8897637795275593,\"color\":\"transparent\"}},\"name\":\"Triglyceride levels\",\"legendgroup\":\"Triglyceride levels\",\"showlegend\":true,\"xaxis\":\"x\",\"yaxis\":\"y\",\"hoverinfo\":\"text\",\"frame\":null},{\"orientation\":\"v\",\"width\":7,\"base\":10.550000000000001,\"x\":[3.5],\"y\":[0.89999999999999858],\"text\":\"n:  7<br />value: Type 2 diabetes<br />value: Type 2 diabetes\",\"type\":\"bar\",\"textposition\":\"none\",\"marker\":{\"autocolorscale\":false,\"color\":\"rgba(85,104,184,1)\",\"line\":{\"width\":1.8897637795275593,\"color\":\"transparent\"}},\"name\":\"Type 2 diabetes\",\"legendgroup\":\"Type 2 diabetes\",\"showlegend\":true,\"xaxis\":\"x\",\"yaxis\":\"y\",\"hoverinfo\":\"text\",\"frame\":null},{\"orientation\":\"v\",\"width\":8,\"base\":11.550000000000001,\"x\":[4],\"y\":[0.89999999999999858],\"text\":\"n:  8<br />value: Heel bone mineral density<br />value: Heel bone mineral density\",\"type\":\"bar\",\"textposition\":\"none\",\"marker\":{\"autocolorscale\":false,\"color\":\"rgba(78,121,197,1)\",\"line\":{\"width\":1.8897637795275593,\"color\":\"transparent\"}},\"name\":\"Heel bone mineral density\",\"legendgroup\":\"Heel bone mineral density\",\"showlegend\":true,\"xaxis\":\"x\",\"yaxis\":\"y\",\"hoverinfo\":\"text\",\"frame\":null},{\"orientation\":\"v\",\"width\":8,\"base\":12.550000000000001,\"x\":[4],\"y\":[0.89999999999999858],\"text\":\"n:  8<br />value: Systolic blood pressure<br />value: Systolic blood pressure\",\"type\":\"bar\",\"textposition\":\"none\",\"marker\":{\"autocolorscale\":false,\"color\":\"rgba(77,138,198,1)\",\"line\":{\"width\":1.8897637795275593,\"color\":\"transparent\"}},\"name\":\"Systolic blood pressure\",\"legendgroup\":\"Systolic blood pressure\",\"showlegend\":true,\"xaxis\":\"x\",\"yaxis\":\"y\",\"hoverinfo\":\"text\",\"frame\":null},{\"orientation\":\"v\",\"width\":9,\"base\":13.550000000000001,\"x\":[4.5],\"y\":[0.89999999999999858],\"text\":\"n:  9<br />value: Sex hormone-binding globulin levels<br />value: Sex hormone-binding globulin levels\",\"type\":\"bar\",\"textposition\":\"none\",\"marker\":{\"autocolorscale\":false,\"color\":\"rgba(78,150,188,1)\",\"line\":{\"width\":1.8897637795275593,\"color\":\"transparent\"}},\"name\":\"Sex hormone-binding globulin levels\",\"legendgroup\":\"Sex hormone-binding globulin levels\",\"showlegend\":true,\"xaxis\":\"x\",\"yaxis\":\"y\",\"hoverinfo\":\"text\",\"frame\":null},{\"orientation\":\"v\",\"width\":10,\"base\":14.550000000000001,\"x\":[5],\"y\":[0.89999999999999858],\"text\":\"n: 10<br />value: Eosinophil counts<br />value: Eosinophil counts\",\"type\":\"bar\",\"textposition\":\"none\",\"marker\":{\"autocolorscale\":false,\"color\":\"rgba(84,158,179,1)\",\"line\":{\"width\":1.8897637795275593,\"color\":\"transparent\"}},\"name\":\"Eosinophil counts\",\"legendgroup\":\"Eosinophil counts\",\"showlegend\":true,\"xaxis\":\"x\",\"yaxis\":\"y\",\"hoverinfo\":\"text\",\"frame\":null},{\"orientation\":\"v\",\"width\":10,\"base\":15.550000000000001,\"x\":[5],\"y\":[0.89999999999999858],\"text\":\"n: 10<br />value: HDL cholesterol levels<br />value: HDL cholesterol levels\",\"type\":\"bar\",\"textposition\":\"none\",\"marker\":{\"autocolorscale\":false,\"color\":\"rgba(89,165,169,1)\",\"line\":{\"width\":1.8897637795275593,\"color\":\"transparent\"}},\"name\":\"HDL cholesterol levels\",\"legendgroup\":\"HDL cholesterol levels\",\"showlegend\":true,\"xaxis\":\"x\",\"yaxis\":\"y\",\"hoverinfo\":\"text\",\"frame\":null},{\"orientation\":\"v\",\"width\":10,\"base\":16.550000000000001,\"x\":[5],\"y\":[0.89999999999999858],\"text\":\"n: 10<br />value: Hematocrit<br />value: Hematocrit\",\"type\":\"bar\",\"textposition\":\"none\",\"marker\":{\"autocolorscale\":false,\"color\":\"rgba(96,171,158,1)\",\"line\":{\"width\":1.8897637795275593,\"color\":\"transparent\"}},\"name\":\"Hematocrit\",\"legendgroup\":\"Hematocrit\",\"showlegend\":true,\"xaxis\":\"x\",\"yaxis\":\"y\",\"hoverinfo\":\"text\",\"frame\":null},{\"orientation\":\"v\",\"width\":10,\"base\":17.550000000000001,\"x\":[5],\"y\":[0.89999999999999858],\"text\":\"n: 10<br />value: Platelet count<br />value: Platelet count\",\"type\":\"bar\",\"textposition\":\"none\",\"marker\":{\"autocolorscale\":false,\"color\":\"rgba(105,177,144,1)\",\"line\":{\"width\":1.8897637795275593,\"color\":\"transparent\"}},\"name\":\"Platelet count\",\"legendgroup\":\"Platelet count\",\"showlegend\":true,\"xaxis\":\"x\",\"yaxis\":\"y\",\"hoverinfo\":\"text\",\"frame\":null},{\"orientation\":\"v\",\"width\":10,\"base\":18.550000000000001,\"x\":[5],\"y\":[0.89999999999999858],\"text\":\"n: 10<br />value: Total cholesterol levels<br />value: Total cholesterol levels\",\"type\":\"bar\",\"textposition\":\"none\",\"marker\":{\"autocolorscale\":false,\"color\":\"rgba(119,183,125,1)\",\"line\":{\"width\":1.8897637795275593,\"color\":\"transparent\"}},\"name\":\"Total cholesterol levels\",\"legendgroup\":\"Total cholesterol levels\",\"showlegend\":true,\"xaxis\":\"x\",\"yaxis\":\"y\",\"hoverinfo\":\"text\",\"frame\":null},{\"orientation\":\"v\",\"width\":10,\"base\":19.550000000000001,\"x\":[5],\"y\":[0.89999999999999858],\"text\":\"n: 10<br />value: Waist-to-hip ratio adjusted for BMI<br />value: Waist-to-hip ratio adjusted for BMI\",\"type\":\"bar\",\"textposition\":\"none\",\"marker\":{\"autocolorscale\":false,\"color\":\"rgba(140,188,104,1)\",\"line\":{\"width\":1.8897637795275593,\"color\":\"transparent\"}},\"name\":\"Waist-to-hip ratio adjusted for BMI\",\"legendgroup\":\"Waist-to-hip ratio adjusted for BMI\",\"showlegend\":true,\"xaxis\":\"x\",\"yaxis\":\"y\",\"hoverinfo\":\"text\",\"frame\":null},{\"orientation\":\"v\",\"width\":10,\"base\":20.550000000000001,\"x\":[5],\"y\":[0.89999999999999858],\"text\":\"n: 10<br />value: White blood cell count<br />value: White blood cell count\",\"type\":\"bar\",\"textposition\":\"none\",\"marker\":{\"autocolorscale\":false,\"color\":\"rgba(166,190,84,1)\",\"line\":{\"width\":1.8897637795275593,\"color\":\"transparent\"}},\"name\":\"White blood cell count\",\"legendgroup\":\"White blood cell count\",\"showlegend\":true,\"xaxis\":\"x\",\"yaxis\":\"y\",\"hoverinfo\":\"text\",\"frame\":null},{\"orientation\":\"v\",\"width\":11,\"base\":21.550000000000001,\"x\":[5.5],\"y\":[0.89999999999999858],\"text\":\"n: 11<br />value: High density lipoprotein cholesterol levels<br />value: High density lipoprotein cholesterol levels\",\"type\":\"bar\",\"textposition\":\"none\",\"marker\":{\"autocolorscale\":false,\"color\":\"rgba(190,188,72,1)\",\"line\":{\"width\":1.8897637795275593,\"color\":\"transparent\"}},\"name\":\"High density lipoprotein cholesterol levels\",\"legendgroup\":\"High density lipoprotein cholesterol levels\",\"showlegend\":true,\"xaxis\":\"x\",\"yaxis\":\"y\",\"hoverinfo\":\"text\",\"frame\":null},{\"orientation\":\"v\",\"width\":13,\"base\":22.550000000000001,\"x\":[6.5],\"y\":[0.89999999999999858],\"text\":\"n: 13<br />value: Multi-trait sex score<br />value: Multi-trait sex score\",\"type\":\"bar\",\"textposition\":\"none\",\"marker\":{\"autocolorscale\":false,\"color\":\"rgba(209,181,65,1)\",\"line\":{\"width\":1.8897637795275593,\"color\":\"transparent\"}},\"name\":\"Multi-trait sex score\",\"legendgroup\":\"Multi-trait sex score\",\"showlegend\":true,\"xaxis\":\"x\",\"yaxis\":\"y\",\"hoverinfo\":\"text\",\"frame\":null},{\"orientation\":\"v\",\"width\":14,\"base\":23.550000000000001,\"x\":[7],\"y\":[0.89999999999999858],\"text\":\"n: 14<br />value: Body mass index<br />value: Body mass index\",\"type\":\"bar\",\"textposition\":\"none\",\"marker\":{\"autocolorscale\":false,\"color\":\"rgba(221,170,60,1)\",\"line\":{\"width\":1.8897637795275593,\"color\":\"transparent\"}},\"name\":\"Body mass index\",\"legendgroup\":\"Body mass index\",\"showlegend\":true,\"xaxis\":\"x\",\"yaxis\":\"y\",\"hoverinfo\":\"text\",\"frame\":null},{\"orientation\":\"v\",\"width\":15,\"base\":24.550000000000001,\"x\":[7.5],\"y\":[0.89999999999999858],\"text\":\"n: 15<br />value: Red cell distribution width<br />value: Red cell distribution width\",\"type\":\"bar\",\"textposition\":\"none\",\"marker\":{\"autocolorscale\":false,\"color\":\"rgba(228,156,57,1)\",\"line\":{\"width\":1.8897637795275593,\"color\":\"transparent\"}},\"name\":\"Red cell distribution width\",\"legendgroup\":\"Red cell distribution width\",\"showlegend\":true,\"xaxis\":\"x\",\"yaxis\":\"y\",\"hoverinfo\":\"text\",\"frame\":null},{\"orientation\":\"v\",\"width\":16,\"base\":25.550000000000001,\"x\":[8],\"y\":[0.89999999999999858],\"text\":\"n: 16<br />value: Mean corpuscular volume<br />value: Mean corpuscular volume\",\"type\":\"bar\",\"textposition\":\"none\",\"marker\":{\"autocolorscale\":false,\"color\":\"rgba(231,140,53,1)\",\"line\":{\"width\":1.8897637795275593,\"color\":\"transparent\"}},\"name\":\"Mean corpuscular volume\",\"legendgroup\":\"Mean corpuscular volume\",\"showlegend\":true,\"xaxis\":\"x\",\"yaxis\":\"y\",\"hoverinfo\":\"text\",\"frame\":null},{\"orientation\":\"v\",\"width\":18,\"base\":26.550000000000001,\"x\":[9],\"y\":[0.89999999999999858],\"text\":\"n: 18<br />value: Red blood cell count<br />value: Red blood cell count\",\"type\":\"bar\",\"textposition\":\"none\",\"marker\":{\"autocolorscale\":false,\"color\":\"rgba(230,121,50,1)\",\"line\":{\"width\":1.8897637795275593,\"color\":\"transparent\"}},\"name\":\"Red blood cell count\",\"legendgroup\":\"Red blood cell count\",\"showlegend\":true,\"xaxis\":\"x\",\"yaxis\":\"y\",\"hoverinfo\":\"text\",\"frame\":null},{\"orientation\":\"v\",\"width\":25,\"base\":27.550000000000001,\"x\":[12.5],\"y\":[0.89999999999999858],\"text\":\"n: 25<br />value: Mean corpuscular hemoglobin<br />value: Mean corpuscular hemoglobin\",\"type\":\"bar\",\"textposition\":\"none\",\"marker\":{\"autocolorscale\":false,\"color\":\"rgba(228,99,45,1)\",\"line\":{\"width\":1.8897637795275593,\"color\":\"transparent\"}},\"name\":\"Mean corpuscular hemoglobin\",\"legendgroup\":\"Mean corpuscular hemoglobin\",\"showlegend\":true,\"xaxis\":\"x\",\"yaxis\":\"y\",\"hoverinfo\":\"text\",\"frame\":null},{\"orientation\":\"v\",\"width\":48,\"base\":28.550000000000001,\"x\":[24],\"y\":[0.89999999999999858],\"text\":\"n: 48<br />value: Height<br />value: Height\",\"type\":\"bar\",\"textposition\":\"none\",\"marker\":{\"autocolorscale\":false,\"color\":\"rgba(223,72,40,1)\",\"line\":{\"width\":1.8897637795275593,\"color\":\"transparent\"}},\"name\":\"Height\",\"legendgroup\":\"Height\",\"showlegend\":true,\"xaxis\":\"x\",\"yaxis\":\"y\",\"hoverinfo\":\"text\",\"frame\":null}],\"layout\":{\"margin\":{\"t\":26.228310502283104,\"r\":7.3059360730593621,\"b\":40.182648401826491,\"l\":276.89497716894988},\"font\":{\"color\":\"rgba(0,0,0,1)\",\"family\":\"\",\"size\":14.611872146118724},\"xaxis\":{\"domain\":[0,1],\"automargin\":true,\"type\":\"linear\",\"autorange\":false,\"range\":[-2.4000000000000004,50.399999999999999],\"tickmode\":\"array\",\"ticktext\":[\"0\",\"10\",\"20\",\"30\",\"40\",\"50\"],\"tickvals\":[0,10,20,30,40,50],\"categoryorder\":\"array\",\"categoryarray\":[\"0\",\"10\",\"20\",\"30\",\"40\",\"50\"],\"nticks\":null,\"ticks\":\"\",\"tickcolor\":null,\"ticklen\":3.6529680365296811,\"tickwidth\":0,\"showticklabels\":true,\"tickfont\":{\"color\":\"rgba(77,77,77,1)\",\"family\":\"\",\"size\":11.68949771689498},\"tickangle\":-0,\"showline\":false,\"linecolor\":null,\"linewidth\":0,\"showgrid\":true,\"gridcolor\":\"rgba(235,235,235,1)\",\"gridwidth\":0.66417600664176002,\"zeroline\":false,\"anchor\":\"y\",\"title\":{\"text\":\"n\",\"font\":{\"color\":\"rgba(0,0,0,1)\",\"family\":\"\",\"size\":14.611872146118724}},\"hoverformat\":\".2f\"},\"yaxis\":{\"domain\":[0,1],\"automargin\":true,\"type\":\"linear\",\"autorange\":false,\"range\":[0.40000000000000002,29.600000000000001],\"tickmode\":\"array\",\"ticktext\":[\"Appendicular lean mass\",\"Diastolic blood pressure\",\"Educational attainment\",\"Lymphocyte count\",\"Mean spheric corpuscular volume\",\"Monocyte count\",\"Plateletcrit\",\"Reticulocyte fraction of red cells\",\"Rheumatoid arthritis\",\"Triglyceride levels\",\"Type 2 diabetes\",\"Heel bone mineral density\",\"Systolic blood pressure\",\"Sex hormone-binding globulin levels\",\"Eosinophil counts\",\"HDL cholesterol levels\",\"Hematocrit\",\"Platelet count\",\"Total cholesterol levels\",\"Waist-to-hip ratio adjusted for BMI\",\"White blood cell count\",\"High density lipoprotein cholesterol levels\",\"Multi-trait sex score\",\"Body mass index\",\"Red cell distribution width\",\"Mean corpuscular volume\",\"Red blood cell count\",\"Mean corpuscular hemoglobin\",\"Height\"],\"tickvals\":[1,2,3,4,5,6,7,8,9,10,11,12,13,14,15,16,17,18,19,20,21,22,23,24,25,26,27,28,29],\"categoryorder\":\"array\",\"categoryarray\":[\"Appendicular lean mass\",\"Diastolic blood pressure\",\"Educational attainment\",\"Lymphocyte count\",\"Mean spheric corpuscular volume\",\"Monocyte count\",\"Plateletcrit\",\"Reticulocyte fraction of red cells\",\"Rheumatoid arthritis\",\"Triglyceride levels\",\"Type 2 diabetes\",\"Heel bone mineral density\",\"Systolic blood pressure\",\"Sex hormone-binding globulin levels\",\"Eosinophil counts\",\"HDL cholesterol levels\",\"Hematocrit\",\"Platelet count\",\"Total cholesterol levels\",\"Waist-to-hip ratio adjusted for BMI\",\"White blood cell count\",\"High density lipoprotein cholesterol levels\",\"Multi-trait sex score\",\"Body mass index\",\"Red cell distribution width\",\"Mean corpuscular volume\",\"Red blood cell count\",\"Mean corpuscular hemoglobin\",\"Height\"],\"nticks\":null,\"ticks\":\"\",\"tickcolor\":null,\"ticklen\":3.6529680365296811,\"tickwidth\":0,\"showticklabels\":true,\"tickfont\":{\"color\":\"rgba(77,77,77,1)\",\"family\":\"\",\"size\":11.68949771689498},\"tickangle\":-0,\"showline\":false,\"linecolor\":null,\"linewidth\":0,\"showgrid\":true,\"gridcolor\":\"rgba(235,235,235,1)\",\"gridwidth\":0.66417600664176002,\"zeroline\":false,\"anchor\":\"x\",\"title\":{\"text\":\"value\",\"font\":{\"color\":\"rgba(0,0,0,1)\",\"family\":\"\",\"size\":14.611872146118724}},\"hoverformat\":\".2f\"},\"shapes\":[{\"type\":\"rect\",\"fillcolor\":null,\"line\":{\"color\":null,\"width\":0,\"linetype\":[]},\"yref\":\"paper\",\"xref\":\"paper\",\"x0\":0,\"x1\":1,\"y0\":0,\"y1\":1}],\"showlegend\":true,\"legend\":{\"bgcolor\":null,\"bordercolor\":null,\"borderwidth\":0,\"font\":{\"color\":\"rgba(0,0,0,1)\",\"family\":\"\",\"size\":11.68949771689498},\"title\":{\"text\":\"value\",\"font\":{\"color\":\"rgba(0,0,0,1)\",\"family\":\"\",\"size\":14.611872146118724}}},\"hovermode\":\"closest\",\"barmode\":\"relative\"},\"config\":{\"doubleClick\":\"reset\",\"modeBarButtonsToAdd\":[\"hoverclosest\",\"hovercompare\"],\"showSendToCloud\":false},\"source\":\"A\",\"attrs\":{\"4a54687b65e1\":{\"x\":{},\"y\":{},\"fill\":{},\"type\":\"bar\"}},\"cur_data\":\"4a54687b65e1\",\"visdat\":{\"4a54687b65e1\":[\"function (y) \",\"x\"]},\"highlight\":{\"on\":\"plotly_click\",\"persistent\":false,\"dynamic\":false,\"selectize\":false,\"opacityDim\":0.20000000000000001,\"selected\":{\"opacity\":1},\"debounce\":0},\"shinyEvents\":[\"plotly_hover\",\"plotly_click\",\"plotly_selected\",\"plotly_relayout\",\"plotly_brushed\",\"plotly_brushing\",\"plotly_clickannotation\",\"plotly_doubleclick\",\"plotly_deselect\",\"plotly_afterplot\",\"plotly_sunburstclick\"],\"base_url\":\"https://plot.ly\"},\"evals\":[],\"jsHooks\":[]}</script>\n",
    "</div>\n",
    "<bslib-tooltip placement=\"auto\" bsOptions=\"[]\" data-require-bs-version=\"5\" data-require-bs-caller=\"tooltip()\">\n",
    "<template>Expand</template>\n",
    "<span class=\"bslib-full-screen-enter badge rounded-pill\"><svg xmlns=\"http://www.w3.org/2000/svg\" viewBox=\"0 0 24 24\" style=\"height:1em;width:1em;fill:currentColor;\" aria-hidden=\"true\" role=\"img\"><path d=\"M20 5C20 4.4 19.6 4 19 4H13C12.4 4 12 3.6 12 3C12 2.4 12.4 2 13 2H21C21.6 2 22 2.4 22 3V11C22 11.6 21.6 12 21 12C20.4 12 20 11.6 20 11V5ZM4 19C4 19.6 4.4 20 5 20H11C11.6 20 12 20.4 12 21C12 21.6 11.6 22 11 22H3C2.4 22 2 21.6 2 21V13C2 12.4 2.4 12 3 12C3.6 12 4 12.4 4 13V19Z\"/></svg></span>\n",
    "</bslib-tooltip>\n",
    "<script data-bslib-card-init>bslib.Card.initializeAllCards();</script>\n",
    "</div>\n",
    "\n",
    "Distinct phenotypes identified on the peaks:\n",
    "\n",
    "``` r\n",
    "length(phset)\n",
    "```\n",
    "\n",
    "    [1] 613\n",
    "\n",
    "Now, how to do the inference of these phenotype on peaks of these b cells? We can use permutation on the genomic positions to test if the number of phenotypes found is due to chance or not.\n",
    "\n",
    "``` r\n",
    "library(ph525x)\n",
    "```\n",
    "\n",
    "    Loading required package: png\n",
    "\n",
    "    Loading required package: grid\n",
    "\n",
    "    Loading required package: VariantAnnotation\n",
    "\n",
    "    Warning: package 'VariantAnnotation' was built under R version 4.3.2\n",
    "\n",
    "    Loading required package: MatrixGenerics\n",
    "\n",
    "    Warning: package 'MatrixGenerics' was built under R version 4.3.1\n",
    "\n",
    "    Loading required package: matrixStats\n",
    "\n",
    "    Warning: package 'matrixStats' was built under R version 4.3.2\n",
    "\n",
    "\n",
    "    Attaching package: 'matrixStats'\n",
    "\n",
    "    The following objects are masked from 'package:Biobase':\n",
    "\n",
    "        anyMissing, rowMedians\n",
    "\n",
    "    The following object is masked from 'package:dplyr':\n",
    "\n",
    "        count\n",
    "\n",
    "\n",
    "    Attaching package: 'MatrixGenerics'\n",
    "\n",
    "    The following objects are masked from 'package:matrixStats':\n",
    "\n",
    "        colAlls, colAnyNAs, colAnys, colAvgsPerRowSet, colCollapse,\n",
    "        colCounts, colCummaxs, colCummins, colCumprods, colCumsums,\n",
    "        colDiffs, colIQRDiffs, colIQRs, colLogSumExps, colMadDiffs,\n",
    "        colMads, colMaxs, colMeans2, colMedians, colMins, colOrderStats,\n",
    "        colProds, colQuantiles, colRanges, colRanks, colSdDiffs, colSds,\n",
    "        colSums2, colTabulates, colVarDiffs, colVars, colWeightedMads,\n",
    "        colWeightedMeans, colWeightedMedians, colWeightedSds,\n",
    "        colWeightedVars, rowAlls, rowAnyNAs, rowAnys, rowAvgsPerColSet,\n",
    "        rowCollapse, rowCounts, rowCummaxs, rowCummins, rowCumprods,\n",
    "        rowCumsums, rowDiffs, rowIQRDiffs, rowIQRs, rowLogSumExps,\n",
    "        rowMadDiffs, rowMads, rowMaxs, rowMeans2, rowMedians, rowMins,\n",
    "        rowOrderStats, rowProds, rowQuantiles, rowRanges, rowRanks,\n",
    "        rowSdDiffs, rowSds, rowSums2, rowTabulates, rowVarDiffs, rowVars,\n",
    "        rowWeightedMads, rowWeightedMeans, rowWeightedMedians,\n",
    "        rowWeightedSds, rowWeightedVars\n",
    "\n",
    "    The following object is masked from 'package:Biobase':\n",
    "\n",
    "        rowMedians\n",
    "\n",
    "    Loading required package: SummarizedExperiment\n",
    "\n",
    "    Warning: package 'SummarizedExperiment' was built under R version 4.3.1\n",
    "\n",
    "    Loading required package: Rsamtools\n",
    "\n",
    "    Warning: package 'Rsamtools' was built under R version 4.3.1\n",
    "\n",
    "    Loading required package: Biostrings\n",
    "\n",
    "    Warning: package 'Biostrings' was built under R version 4.3.2\n",
    "\n",
    "    Loading required package: XVector\n",
    "\n",
    "    Warning: package 'XVector' was built under R version 4.3.1\n",
    "\n",
    "\n",
    "    Attaching package: 'XVector'\n",
    "\n",
    "    The following object is masked from 'package:purrr':\n",
    "\n",
    "        compact\n",
    "\n",
    "\n",
    "    Attaching package: 'Biostrings'\n",
    "\n",
    "    The following object is masked from 'package:grid':\n",
    "\n",
    "        pattern\n",
    "\n",
    "    The following object is masked from 'package:base':\n",
    "\n",
    "        strsplit\n",
    "\n",
    "\n",
    "    Attaching package: 'VariantAnnotation'\n",
    "\n",
    "    The following object is masked from 'package:stringr':\n",
    "\n",
    "        fixed\n",
    "\n",
    "    The following object is masked from 'package:base':\n",
    "\n",
    "        tabulate\n",
    "\n",
    "``` r\n",
    "library(progress)\n",
    "```\n",
    "\n",
    "    Warning: package 'progress' was built under R version 4.3.3\n",
    "\n",
    "``` r\n",
    "set.seed(123)\n",
    "\n",
    "n_iter = 100\n",
    "\n",
    "pb <- progress_bar$new(format = \"(:spin) [:bar] :percent [Elapsed time: :elapsedfull || Estimated time remaining: :eta]\",\n",
    "                       total = n_iter,\n",
    "                       complete = \"=\",   # Completion bar character\n",
    "                       incomplete = \" \", # Incomplete bar character\n",
    "                       current = \">\",    # Current bar character\n",
    "                       clear = FALSE,    # If TRUE, clears the bar when finish\n",
    "                       width = 100)   \n",
    "\n",
    "\n",
    "rsc = sapply(1:n_iter, function(x) {\n",
    "    pb$tick()\n",
    "    length(findOverlaps(reposition(GM12878), reduce(gg))) |> \n",
    "    suppressWarnings()\n",
    "    \n",
    "})\n",
    "\n",
    "# compute prop with more overlaps than in observed data\n",
    "mean(rsc > length(fo))\n",
    "```\n",
    "\n",
    "    [1] 0\n",
    "\n",
    "## 4 Explore the TCGA\n",
    "\n",
    "Please check the script below the image to see how to explore and get insights from the TCGA (The Cancer Genome Atlas) database.\n",
    "\n",
    ", `[`, `[[` - extract colData columns, subset, or experiment \\*Format() - convert into a long or wide DataFrame assays() - convert ExperimentList to a SimpleList of matrices exportClass() - save data to flat files \\`\\`\\`\n",
    "\n",
    ":::\n",
    "\n",
    "## 5 Conclusion\n",
    "\n",
    "## References"
   ],
   "attachments": {
    "index_files/figure-html/unnamed-chunk-3-1.png": {
     "image/png": "[encoded data removed]"
    }
   },
   "id": "f48817e8-4313-4321-9ee8-a7530b878298"
  }
 ],
 "nbformat": 4,
 "nbformat_minor": 5,
 "metadata": {}
}
