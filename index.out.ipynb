{
 "cells": [
  {
   "cell_type": "markdown",
   "metadata": {},
   "source": [
    "# Integrative Analysis of Multi-omic Data\n",
    "\n",
    "Piero Palacios Bernuy [![](data:image/png;base64,iVBORw0KGgoAAAANSUhEUgAAABAAAAAQCAYAAAAf8/9hAAAAGXRFWHRTb2Z0d2FyZQBBZG9iZSBJbWFnZVJlYWR5ccllPAAAA2ZpVFh0WE1MOmNvbS5hZG9iZS54bXAAAAAAADw/eHBhY2tldCBiZWdpbj0i77u/IiBpZD0iVzVNME1wQ2VoaUh6cmVTek5UY3prYzlkIj8+IDx4OnhtcG1ldGEgeG1sbnM6eD0iYWRvYmU6bnM6bWV0YS8iIHg6eG1wdGs9IkFkb2JlIFhNUCBDb3JlIDUuMC1jMDYwIDYxLjEzNDc3NywgMjAxMC8wMi8xMi0xNzozMjowMCAgICAgICAgIj4gPHJkZjpSREYgeG1sbnM6cmRmPSJodHRwOi8vd3d3LnczLm9yZy8xOTk5LzAyLzIyLXJkZi1zeW50YXgtbnMjIj4gPHJkZjpEZXNjcmlwdGlvbiByZGY6YWJvdXQ9IiIgeG1sbnM6eG1wTU09Imh0dHA6Ly9ucy5hZG9iZS5jb20veGFwLzEuMC9tbS8iIHhtbG5zOnN0UmVmPSJodHRwOi8vbnMuYWRvYmUuY29tL3hhcC8xLjAvc1R5cGUvUmVzb3VyY2VSZWYjIiB4bWxuczp4bXA9Imh0dHA6Ly9ucy5hZG9iZS5jb20veGFwLzEuMC8iIHhtcE1NOk9yaWdpbmFsRG9jdW1lbnRJRD0ieG1wLmRpZDo1N0NEMjA4MDI1MjA2ODExOTk0QzkzNTEzRjZEQTg1NyIgeG1wTU06RG9jdW1lbnRJRD0ieG1wLmRpZDozM0NDOEJGNEZGNTcxMUUxODdBOEVCODg2RjdCQ0QwOSIgeG1wTU06SW5zdGFuY2VJRD0ieG1wLmlpZDozM0NDOEJGM0ZGNTcxMUUxODdBOEVCODg2RjdCQ0QwOSIgeG1wOkNyZWF0b3JUb29sPSJBZG9iZSBQaG90b3Nob3AgQ1M1IE1hY2ludG9zaCI+IDx4bXBNTTpEZXJpdmVkRnJvbSBzdFJlZjppbnN0YW5jZUlEPSJ4bXAuaWlkOkZDN0YxMTc0MDcyMDY4MTE5NUZFRDc5MUM2MUUwNEREIiBzdFJlZjpkb2N1bWVudElEPSJ4bXAuZGlkOjU3Q0QyMDgwMjUyMDY4MTE5OTRDOTM1MTNGNkRBODU3Ii8+IDwvcmRmOkRlc2NyaXB0aW9uPiA8L3JkZjpSREY+IDwveDp4bXBtZXRhPiA8P3hwYWNrZXQgZW5kPSJyIj8+84NovQAAAR1JREFUeNpiZEADy85ZJgCpeCB2QJM6AMQLo4yOL0AWZETSqACk1gOxAQN+cAGIA4EGPQBxmJA0nwdpjjQ8xqArmczw5tMHXAaALDgP1QMxAGqzAAPxQACqh4ER6uf5MBlkm0X4EGayMfMw/Pr7Bd2gRBZogMFBrv01hisv5jLsv9nLAPIOMnjy8RDDyYctyAbFM2EJbRQw+aAWw/LzVgx7b+cwCHKqMhjJFCBLOzAR6+lXX84xnHjYyqAo5IUizkRCwIENQQckGSDGY4TVgAPEaraQr2a4/24bSuoExcJCfAEJihXkWDj3ZAKy9EJGaEo8T0QSxkjSwORsCAuDQCD+QILmD1A9kECEZgxDaEZhICIzGcIyEyOl2RkgwAAhkmC+eAm0TAAAAABJRU5ErkJggg==)](https://orcid.org/0000-0001-6729-4080)  \n",
    "April 30, 2024\n",
    "\n",
    "This document is part of a series of the analysis of Omics data. Especifically, here is showed how to analyze bulk RNA-Seq data with Bioconductor packages. Also, it’s showcased how to make plots of the RNA data in the context of differentially gene expression and gene-sets.\n",
    "\n",
    "## 1 Introduction\n",
    "\n",
    "## 2 GWAS Catalog with a ChIP-Seq Experiment\n",
    "\n",
    "Here, we are gonna analyze the relation between transcription factor binding (ESRRA binding data) from a ChIP-Seq experiment and the genome-wide associations between DNA variants and phenotypes like diseases. For this task, we are gonna use a the `gwascat` package distributed by the **EMBL** (European Molecular Biology Laboratories)."
   ],
   "id": "e40caab4-533c-4c38-a3b1-9042842718b6"
  },
  {
   "cell_type": "code",
   "execution_count": null,
   "metadata": {},
   "outputs": [
    {
     "output_type": "stream",
     "name": "stderr",
     "text": [
      "Warning: package 'ggplot2' was built under R version 4.3.2"
     ]
    },
    {
     "output_type": "stream",
     "name": "stderr",
     "text": [
      "Warning: package 'tidyr' was built under R version 4.3.2"
     ]
    },
    {
     "output_type": "stream",
     "name": "stderr",
     "text": [
      "Warning: package 'readr' was built under R version 4.3.2"
     ]
    },
    {
     "output_type": "stream",
     "name": "stderr",
     "text": [
      "Warning: package 'purrr' was built under R version 4.3.2"
     ]
    },
    {
     "output_type": "stream",
     "name": "stderr",
     "text": [
      "Warning: package 'dplyr' was built under R version 4.3.2"
     ]
    },
    {
     "output_type": "stream",
     "name": "stderr",
     "text": [
      "Warning: package 'stringr' was built under R version 4.3.2"
     ]
    },
    {
     "output_type": "stream",
     "name": "stderr",
     "text": [
      "Warning: package 'lubridate' was built under R version 4.3.2"
     ]
    },
    {
     "output_type": "stream",
     "name": "stderr",
     "text": [
      "── Attaching core tidyverse packages ──────────────────────── tidyverse 2.0.0 ──\n",
      "✔ dplyr     1.1.4     ✔ readr     2.1.5\n",
      "✔ forcats   1.0.0     ✔ stringr   1.5.1\n",
      "✔ ggplot2   3.5.0     ✔ tibble    3.2.1\n",
      "✔ lubridate 1.9.3     ✔ tidyr     1.3.1\n",
      "✔ purrr     1.0.2     \n",
      "── Conflicts ────────────────────────────────────────── tidyverse_conflicts() ──\n",
      "✖ dplyr::filter() masks stats::filter()\n",
      "✖ dplyr::lag()    masks stats::lag()\n",
      "ℹ Use the conflicted package (<http://conflicted.r-lib.org/>) to force all conflicts to become errors"
     ]
    },
    {
     "output_type": "stream",
     "name": "stderr",
     "text": [
      "Warning: package 'gwascat' was built under R version 4.3.1"
     ]
    },
    {
     "output_type": "stream",
     "name": "stderr",
     "text": [
      "gwascat loaded.  Use makeCurrentGwascat() to extract current image.\n",
      " from EBI.  The data folder of this package has some legacy extracts."
     ]
    },
    {
     "output_type": "stream",
     "name": "stderr",
     "text": [
      "Warning: package 'GenomeInfoDb' was built under R version 4.3.2"
     ]
    },
    {
     "output_type": "stream",
     "name": "stderr",
     "text": [
      "Loading required package: BiocGenerics"
     ]
    },
    {
     "output_type": "stream",
     "name": "stderr",
     "text": [
      "Warning: package 'BiocGenerics' was built under R version 4.3.1"
     ]
    },
    {
     "output_type": "stream",
     "name": "stderr",
     "text": [
      "\n",
      "Attaching package: 'BiocGenerics'\n",
      "\n",
      "The following objects are masked from 'package:lubridate':\n",
      "\n",
      "    intersect, setdiff, union\n",
      "\n",
      "The following objects are masked from 'package:dplyr':\n",
      "\n",
      "    combine, intersect, setdiff, union\n",
      "\n",
      "The following objects are masked from 'package:stats':\n",
      "\n",
      "    IQR, mad, sd, var, xtabs\n",
      "\n",
      "The following objects are masked from 'package:base':\n",
      "\n",
      "    anyDuplicated, aperm, append, as.data.frame, basename, cbind,\n",
      "    colnames, dirname, do.call, duplicated, eval, evalq, Filter, Find,\n",
      "    get, grep, grepl, intersect, is.unsorted, lapply, Map, mapply,\n",
      "    match, mget, order, paste, pmax, pmax.int, pmin, pmin.int,\n",
      "    Position, rank, rbind, Reduce, rownames, sapply, setdiff, sort,\n",
      "    table, tapply, union, unique, unsplit, which.max, which.min\n",
      "\n",
      "Loading required package: S4Vectors\n",
      "Loading required package: stats4\n",
      "\n",
      "Attaching package: 'S4Vectors'\n",
      "\n",
      "The following objects are masked from 'package:lubridate':\n",
      "\n",
      "    second, second<-\n",
      "\n",
      "The following objects are masked from 'package:dplyr':\n",
      "\n",
      "    first, rename\n",
      "\n",
      "The following object is masked from 'package:tidyr':\n",
      "\n",
      "    expand\n",
      "\n",
      "The following object is masked from 'package:utils':\n",
      "\n",
      "    findMatches\n",
      "\n",
      "The following objects are masked from 'package:base':\n",
      "\n",
      "    expand.grid, I, unname\n",
      "\n",
      "Loading required package: IRanges\n",
      "\n",
      "Attaching package: 'IRanges'\n",
      "\n",
      "The following object is masked from 'package:lubridate':\n",
      "\n",
      "    %within%\n",
      "\n",
      "The following objects are masked from 'package:dplyr':\n",
      "\n",
      "    collapse, desc, slice\n",
      "\n",
      "The following object is masked from 'package:purrr':\n",
      "\n",
      "    reduce\n",
      "\n",
      "The following object is masked from 'package:grDevices':\n",
      "\n",
      "    windows"
     ]
    },
    {
     "output_type": "stream",
     "name": "stderr",
     "text": [
      "Loading required package: GenomicRanges\n",
      "Loading required package: rtracklayer"
     ]
    },
    {
     "output_type": "stream",
     "name": "stderr",
     "text": [
      "Warning: package 'rtracklayer' was built under R version 4.3.1"
     ]
    },
    {
     "output_type": "stream",
     "name": "stderr",
     "text": [
      "Loading required package: Homo.sapiens\n",
      "Loading required package: AnnotationDbi"
     ]
    },
    {
     "output_type": "stream",
     "name": "stderr",
     "text": [
      "Warning: package 'AnnotationDbi' was built under R version 4.3.2"
     ]
    },
    {
     "output_type": "stream",
     "name": "stderr",
     "text": [
      "Loading required package: Biobase\n",
      "Welcome to Bioconductor\n",
      "\n",
      "    Vignettes contain introductory material; view with\n",
      "    'browseVignettes()'. To cite Bioconductor, see\n",
      "    'citation(\"Biobase\")', and for packages 'citation(\"pkgname\")'.\n",
      "\n",
      "\n",
      "Attaching package: 'AnnotationDbi'\n",
      "\n",
      "The following object is masked from 'package:dplyr':\n",
      "\n",
      "    select\n",
      "\n",
      "Loading required package: OrganismDbi"
     ]
    },
    {
     "output_type": "stream",
     "name": "stderr",
     "text": [
      "Warning: package 'OrganismDbi' was built under R version 4.3.1"
     ]
    },
    {
     "output_type": "stream",
     "name": "stderr",
     "text": [
      "Loading required package: GenomicFeatures"
     ]
    },
    {
     "output_type": "stream",
     "name": "stderr",
     "text": [
      "Warning: package 'GenomicFeatures' was built under R version 4.3.2"
     ]
    },
    {
     "output_type": "stream",
     "name": "stderr",
     "text": [
      "Loading required package: GO.db\n",
      "\n",
      "Loading required package: org.Hs.eg.db\n",
      "\n",
      "Loading required package: TxDb.Hsapiens.UCSC.hg19.knownGene"
     ]
    }
   ],
   "source": [
    "library(tidyverse)"
   ],
   "id": "d8b1989b-bf8b-4b2d-a9ba-bf0d77973218"
  },
  {
   "cell_type": "markdown",
   "metadata": {},
   "source": [
    "First, we need to download the data, keep the 24 chromosomes (from 1 to Y) and, specify the sequence information from the GRCh38 human genome annotation."
   ],
   "id": "96112d63-adc5-42c8-ab39-b1b2facb7bda"
  },
  {
   "cell_type": "code",
   "execution_count": null,
   "metadata": {},
   "outputs": [
    {
     "output_type": "stream",
     "name": "stderr",
     "text": [
      "dropping 45505 records that have NA for CHR_POS"
     ]
    },
    {
     "output_type": "stream",
     "name": "stderr",
     "text": [
      "1950 records have semicolon in CHR_POS; splitting and using first entry."
     ]
    },
    {
     "output_type": "stream",
     "name": "stderr",
     "text": [
      "3265 records have ' x ' in CHR_POS indicating multiple SNP effects, using first."
     ]
    }
   ],
   "source": [
    "gwcat = get_cached_gwascat()\n",
    "\n",
    "gg = gwcat |> as_GRanges()"
   ],
   "id": "2d5f695f-aa2a-44e2-94da-c3b135a341cb"
  },
  {
   "cell_type": "markdown",
   "metadata": {},
   "source": [
    "Now, let’s plot a karyogram that will show the SNP’s identified with significant associations with a phenotype. The SNP’s in the GWAS catalog have a stringent criterion of significance and there has been a replication of the finding from a independent population."
   ],
   "id": "659c0ee6-c0f0-49d5-a414-2150e7b03661"
  },
  {
   "cell_type": "code",
   "execution_count": null,
   "metadata": {},
   "outputs": [
    {
     "output_type": "stream",
     "name": "stderr",
     "text": [
      "Registered S3 method overwritten by 'GGally':\n",
      "  method from   \n",
      "  +.gg   ggplot2"
     ]
    },
    {
     "output_type": "stream",
     "name": "stderr",
     "text": [
      "Scale for x is already present.\n",
      "Adding another scale for x, which will replace the existing scale.\n",
      "Scale for x is already present.\n",
      "Adding another scale for x, which will replace the existing scale."
     ]
    },
    {
     "output_type": "display_data",
     "metadata": {},
     "data": {
      "image/png": "[encoded data removed]"
     }
    }
   ],
   "source": [
    "ggbio::autoplot(gg, layout=\"karyogram\")"
   ],
   "id": "ad553f69-8d20-481b-9e6d-84bc7fa8f5e3"
  },
  {
   "cell_type": "markdown",
   "metadata": {},
   "source": [
    "We can see the peak data as a `GRanges` object:"
   ],
   "id": "b5c98908-c607-4478-ad15-27b579b19708"
  },
  {
   "cell_type": "code",
   "execution_count": null,
   "metadata": {},
   "outputs": [
    {
     "output_type": "stream",
     "name": "stdout",
     "text": [
      "GRanges object with 1873 ranges and 7 metadata columns:\n",
      "         seqnames            ranges strand |      name     score       col\n",
      "            <Rle>         <IRanges>  <Rle> | <numeric> <integer> <logical>\n",
      "     [1]     chrX   1509355-1512462      * |         5         0      <NA>\n",
      "     [2]     chrX 26801422-26802448      * |         6         0      <NA>\n",
      "     [3]    chr19 11694102-11695359      * |         1         0      <NA>\n",
      "     [4]    chr19   4076893-4079276      * |         4         0      <NA>\n",
      "     [5]     chr3 53288568-53290767      * |         9         0      <NA>\n",
      "     ...      ...               ...    ... .       ...       ...       ...\n",
      "  [1869]    chr19 11201120-11203985      * |      8701         0      <NA>\n",
      "  [1870]    chr19   2234920-2237370      * |       990         0      <NA>\n",
      "  [1871]     chr1 94311336-94313543      * |      4035         0      <NA>\n",
      "  [1872]    chr19 45690614-45691210      * |     10688         0      <NA>\n",
      "  [1873]    chr19   6110100-6111252      * |      2274         0      <NA>\n",
      "         signalValue    pValue    qValue      peak\n",
      "           <numeric> <numeric> <numeric> <integer>\n",
      "     [1]      157.92   310.000        32      1991\n",
      "     [2]      147.38   310.000        32       387\n",
      "     [3]       99.71   311.660        32       861\n",
      "     [4]       84.74   310.000        32      1508\n",
      "     [5]       78.20   299.505        32      1772\n",
      "     ...         ...       ...       ...       ...\n",
      "  [1869]        8.65     7.281   0.26576      2496\n",
      "  [1870]        8.65    26.258   1.99568      1478\n",
      "  [1871]        8.65    12.511   1.47237      1848\n",
      "  [1872]        8.65     6.205   0.00000       298\n",
      "  [1873]        8.65    17.356   2.01323       496\n",
      "  -------\n",
      "  seqinfo: 93 sequences (1 circular) from hg19 genome"
     ]
    }
   ],
   "source": [
    "data(\"GM12878\")\n",
    "\n",
    "GM12878"
   ],
   "id": "b88d3fd4-35ba-42f5-b292-ef8e4f5dfbd3"
  },
  {
   "cell_type": "markdown",
   "metadata": {},
   "source": [
    "If we see the bottom of the `GRanges` table, this experiment have the hg19 annotation from the human genome. To work on the GRCh38 annotation we need to lift-over with a `.chain` file. For this we can use the `AnnotationHub` package."
   ],
   "id": "d22147b7-1149-4ada-86c3-692c1aabbb0c"
  },
  {
   "cell_type": "code",
   "execution_count": null,
   "metadata": {},
   "outputs": [
    {
     "output_type": "stream",
     "name": "stderr",
     "text": [
      "Warning: package 'AnnotationHub' was built under R version 4.3.1"
     ]
    },
    {
     "output_type": "stream",
     "name": "stderr",
     "text": [
      "Loading required package: BiocFileCache"
     ]
    },
    {
     "output_type": "stream",
     "name": "stderr",
     "text": [
      "Warning: package 'BiocFileCache' was built under R version 4.3.1"
     ]
    },
    {
     "output_type": "stream",
     "name": "stderr",
     "text": [
      "Loading required package: dbplyr"
     ]
    },
    {
     "output_type": "stream",
     "name": "stderr",
     "text": [
      "Warning: package 'dbplyr' was built under R version 4.3.2"
     ]
    },
    {
     "output_type": "stream",
     "name": "stderr",
     "text": [
      "\n",
      "Attaching package: 'dbplyr'"
     ]
    },
    {
     "output_type": "stream",
     "name": "stderr",
     "text": [
      "The following objects are masked from 'package:dplyr':\n",
      "\n",
      "    ident, sql"
     ]
    },
    {
     "output_type": "stream",
     "name": "stderr",
     "text": [
      "\n",
      "Attaching package: 'AnnotationHub'"
     ]
    },
    {
     "output_type": "stream",
     "name": "stderr",
     "text": [
      "The following object is masked from 'package:Biobase':\n",
      "\n",
      "    cache"
     ]
    },
    {
     "output_type": "stream",
     "name": "stderr",
     "text": [
      "The following object is masked from 'package:rtracklayer':\n",
      "\n",
      "    hubUrl"
     ]
    },
    {
     "output_type": "stream",
     "name": "stdout",
     "text": [
      "AnnotationHub with 1 record\n",
      "# snapshotDate(): 2023-10-23\n",
      "# names(): AH14150\n",
      "# $dataprovider: UCSC\n",
      "# $species: Homo sapiens\n",
      "# $rdataclass: ChainFile\n",
      "# $rdatadateadded: 2014-12-15\n",
      "# $title: hg19ToHg38.over.chain.gz\n",
      "# $description: UCSC liftOver chain file from hg19 to hg38\n",
      "# $taxonomyid: 9606\n",
      "# $genome: hg19\n",
      "# $sourcetype: Chain\n",
      "# $sourceurl: http://hgdownload.cse.ucsc.edu/goldenpath/hg19/liftOver/hg19To...\n",
      "# $sourcesize: NA\n",
      "# $tags: c(\"liftOver\", \"chain\", \"UCSC\", \"genome\", \"homology\") \n",
      "# retrieve record with 'object[[\"AH14150\"]]' "
     ]
    },
    {
     "output_type": "stream",
     "name": "stderr",
     "text": [
      "loading from cache"
     ]
    }
   ],
   "source": [
    "library(AnnotationHub)"
   ],
   "id": "41625148-1c15-4c7c-9dca-2bbd00572f3d"
  },
  {
   "cell_type": "code",
   "execution_count": null,
   "metadata": {},
   "outputs": [],
   "source": [
    "GM12878 <- liftOver(GM12878, chain) |> \n",
    "  unlist()\n",
    "\n",
    "seqlevelsStyle(GM12878) <- \"NCBI\"\n",
    "\n",
    "seqinfo(GM12878) <- si.hs.38\n",
    "\n",
    "\n",
    "seqlevelsStyle(GM12878) <- \"UCSC\"\n",
    "seqlevelsStyle(gg) <- \"UCSC\""
   ],
   "id": "8d9834b1-401e-4ede-9a41-a9e68d3b9edf"
  },
  {
   "cell_type": "markdown",
   "metadata": {},
   "source": [
    "We can find overlaps between the GWAS catalog and the ESRRA ChIP-Seq experiment but, there is a problem; the GWAS catalog is a collection of intervals that reports all significant SNPs and there can be duplications of SNPs associated to multiple phenotypes or the same SNP might be found for the same phenotype in different studies.\n",
    "\n",
    "We can see the duplications with the `reduce` function from `IRanges` package:"
   ],
   "id": "0b03fd5b-bc00-439d-b326-e24fb8b51f00"
  },
  {
   "cell_type": "code",
   "execution_count": null,
   "metadata": {},
   "outputs": [
    {
     "output_type": "stream",
     "name": "stdout",
     "text": [
      "[1] 261160"
     ]
    }
   ],
   "source": [
    "# duplicated loci\n",
    "length(gg) - length(reduce(gg))"
   ],
   "id": "b77136f9-88f5-40be-b574-e1e1d3bdc458"
  },
  {
   "cell_type": "markdown",
   "metadata": {},
   "source": [
    "We can see that there are `261160` duplicated loci. Let’s find the overlap between the *reduced* catalog and the ChIP-Seq experiment:"
   ],
   "id": "8266548a-1c68-4948-938e-9a0f05ad5494"
  },
  {
   "cell_type": "code",
   "execution_count": null,
   "metadata": {},
   "outputs": [
    {
     "output_type": "stream",
     "name": "stdout",
     "text": [
      "Hits object with 613 hits and 0 metadata columns:\n",
      "        queryHits subjectHits\n",
      "        <integer>   <integer>\n",
      "    [1]         6      237757\n",
      "    [2]         9      221130\n",
      "    [3]        12       25060\n",
      "    [4]        15      104699\n",
      "    [5]        15      104700\n",
      "    ...       ...         ...\n",
      "  [609]      1928      246305\n",
      "  [610]      1929      244698\n",
      "  [611]      1929      244699\n",
      "  [612]      1931      250380\n",
      "  [613]      1931      250381\n",
      "  -------\n",
      "  queryLength: 1932 / subjectLength: 268560"
     ]
    }
   ],
   "source": [
    "#\n",
    "fo = findOverlaps(GM12878, reduce(gg))\n",
    "fo"
   ],
   "id": "9b693089-86bf-439f-85cc-12363ed05a19"
  },
  {
   "cell_type": "markdown",
   "metadata": {},
   "source": [
    "We can see 613 hits. Then, we are gonna eobtain the ranges from those hits, retrieve the phenotypes (DISEASE/TRAIT) and show the top 20 most common phenotypes with association to SNPs that lies on the ESRRA binding peaks."
   ],
   "id": "0af414ea-b8dd-427e-8e89-4c6dacf45b7e"
  },
  {
   "cell_type": "code",
   "execution_count": null,
   "metadata": {},
   "outputs": [
    {
     "output_type": "display_data",
     "metadata": {},
     "data": {
      "text/html": [
       "<div class=\"plotly html-widget html-fill-item\" id=\"htmlwidget-4a05fa719059fd20d190\" style=\"width:100%;height:400px;\"></div>\n",
       "<script type=\"application/json\" data-for=\"htmlwidget-4a05fa719059fd20d190\">{\"x\":{\"data\":[{\"orientation\":\"v\",\"width\":7,\"base\":0.55000000000000004,\"x\":[3.5],\"y\":[0.89999999999999991],\"text\":\"n:  7<br />value: Appendicular lean mass<br />value: Appendicular lean mass\",\"type\":\"bar\",\"textposition\":\"none\",\"marker\":{\"autocolorscale\":false,\"color\":\"rgba(232,236,251,1)\",\"line\":{\"width\":1.8897637795275593,\"color\":\"transparent\"}},\"name\":\"Appendicular lean mass\",\"legendgroup\":\"Appendicular lean mass\",\"showlegend\":true,\"xaxis\":\"x\",\"yaxis\":\"y\",\"hoverinfo\":\"text\",\"frame\":null},{\"orientation\":\"v\",\"width\":7,\"base\":1.55,\"x\":[3.5],\"y\":[0.90000000000000013],\"text\":\"n:  7<br />value: Diastolic blood pressure<br />value: Diastolic blood pressure\",\"type\":\"bar\",\"textposition\":\"none\",\"marker\":{\"autocolorscale\":false,\"color\":\"rgba(221,216,239,1)\",\"line\":{\"width\":1.8897637795275593,\"color\":\"transparent\"}},\"name\":\"Diastolic blood pressure\",\"legendgroup\":\"Diastolic blood pressure\",\"showlegend\":true,\"xaxis\":\"x\",\"yaxis\":\"y\",\"hoverinfo\":\"text\",\"frame\":null},{\"orientation\":\"v\",\"width\":7,\"base\":2.5499999999999998,\"x\":[3.5],\"y\":[0.90000000000000036],\"text\":\"n:  7<br />value: Educational attainment<br />value: Educational attainment\",\"type\":\"bar\",\"textposition\":\"none\",\"marker\":{\"autocolorscale\":false,\"color\":\"rgba(209,193,225,1)\",\"line\":{\"width\":1.8897637795275593,\"color\":\"transparent\"}},\"name\":\"Educational attainment\",\"legendgroup\":\"Educational attainment\",\"showlegend\":true,\"xaxis\":\"x\",\"yaxis\":\"y\",\"hoverinfo\":\"text\",\"frame\":null},{\"orientation\":\"v\",\"width\":7,\"base\":3.5499999999999998,\"x\":[3.5],\"y\":[0.90000000000000036],\"text\":\"n:  7<br />value: Lymphocyte count<br />value: Lymphocyte count\",\"type\":\"bar\",\"textposition\":\"none\",\"marker\":{\"autocolorscale\":false,\"color\":\"rgba(195,168,209,1)\",\"line\":{\"width\":1.8897637795275593,\"color\":\"transparent\"}},\"name\":\"Lymphocyte count\",\"legendgroup\":\"Lymphocyte count\",\"showlegend\":true,\"xaxis\":\"x\",\"yaxis\":\"y\",\"hoverinfo\":\"text\",\"frame\":null},{\"orientation\":\"v\",\"width\":7,\"base\":4.5499999999999998,\"x\":[3.5],\"y\":[0.90000000000000036],\"text\":\"n:  7<br />value: Mean spheric corpuscular volume<br />value: Mean spheric corpuscular volume\",\"type\":\"bar\",\"textposition\":\"none\",\"marker\":{\"autocolorscale\":false,\"color\":\"rgba(181,143,194,1)\",\"line\":{\"width\":1.8897637795275593,\"color\":\"transparent\"}},\"name\":\"Mean spheric corpuscular volume\",\"legendgroup\":\"Mean spheric corpuscular volume\",\"showlegend\":true,\"xaxis\":\"x\",\"yaxis\":\"y\",\"hoverinfo\":\"text\",\"frame\":null},{\"orientation\":\"v\",\"width\":7,\"base\":5.5499999999999998,\"x\":[3.5],\"y\":[0.90000000000000036],\"text\":\"n:  7<br />value: Monocyte count<br />value: Monocyte count\",\"type\":\"bar\",\"textposition\":\"none\",\"marker\":{\"autocolorscale\":false,\"color\":\"rgba(167,120,180,1)\",\"line\":{\"width\":1.8897637795275593,\"color\":\"transparent\"}},\"name\":\"Monocyte count\",\"legendgroup\":\"Monocyte count\",\"showlegend\":true,\"xaxis\":\"x\",\"yaxis\":\"y\",\"hoverinfo\":\"text\",\"frame\":null},{\"orientation\":\"v\",\"width\":7,\"base\":6.5499999999999998,\"x\":[3.5],\"y\":[0.90000000000000036],\"text\":\"n:  7<br />value: Plateletcrit<br />value: Plateletcrit\",\"type\":\"bar\",\"textposition\":\"none\",\"marker\":{\"autocolorscale\":false,\"color\":\"rgba(155,98,167,1)\",\"line\":{\"width\":1.8897637795275593,\"color\":\"transparent\"}},\"name\":\"Plateletcrit\",\"legendgroup\":\"Plateletcrit\",\"showlegend\":true,\"xaxis\":\"x\",\"yaxis\":\"y\",\"hoverinfo\":\"text\",\"frame\":null},{\"orientation\":\"v\",\"width\":7,\"base\":7.5499999999999998,\"x\":[3.5],\"y\":[0.89999999999999947],\"text\":\"n:  7<br />value: Reticulocyte fraction of red cells<br />value: Reticulocyte fraction of red cells\",\"type\":\"bar\",\"textposition\":\"none\",\"marker\":{\"autocolorscale\":false,\"color\":\"rgba(140,78,153,1)\",\"line\":{\"width\":1.8897637795275593,\"color\":\"transparent\"}},\"name\":\"Reticulocyte fraction of red cells\",\"legendgroup\":\"Reticulocyte fraction of red cells\",\"showlegend\":true,\"xaxis\":\"x\",\"yaxis\":\"y\",\"hoverinfo\":\"text\",\"frame\":null},{\"orientation\":\"v\",\"width\":7,\"base\":8.5500000000000007,\"x\":[3.5],\"y\":[0.89999999999999858],\"text\":\"n:  7<br />value: Rheumatoid arthritis<br />value: Rheumatoid arthritis\",\"type\":\"bar\",\"textposition\":\"none\",\"marker\":{\"autocolorscale\":false,\"color\":\"rgba(111,76,155,1)\",\"line\":{\"width\":1.8897637795275593,\"color\":\"transparent\"}},\"name\":\"Rheumatoid arthritis\",\"legendgroup\":\"Rheumatoid arthritis\",\"showlegend\":true,\"xaxis\":\"x\",\"yaxis\":\"y\",\"hoverinfo\":\"text\",\"frame\":null},{\"orientation\":\"v\",\"width\":7,\"base\":9.5500000000000007,\"x\":[3.5],\"y\":[0.89999999999999858],\"text\":\"n:  7<br />value: Triglyceride levels<br />value: Triglyceride levels\",\"type\":\"bar\",\"textposition\":\"none\",\"marker\":{\"autocolorscale\":false,\"color\":\"rgba(96,89,169,1)\",\"line\":{\"width\":1.8897637795275593,\"color\":\"transparent\"}},\"name\":\"Triglyceride levels\",\"legendgroup\":\"Triglyceride levels\",\"showlegend\":true,\"xaxis\":\"x\",\"yaxis\":\"y\",\"hoverinfo\":\"text\",\"frame\":null},{\"orientation\":\"v\",\"width\":7,\"base\":10.550000000000001,\"x\":[3.5],\"y\":[0.89999999999999858],\"text\":\"n:  7<br />value: Type 2 diabetes<br />value: Type 2 diabetes\",\"type\":\"bar\",\"textposition\":\"none\",\"marker\":{\"autocolorscale\":false,\"color\":\"rgba(85,104,184,1)\",\"line\":{\"width\":1.8897637795275593,\"color\":\"transparent\"}},\"name\":\"Type 2 diabetes\",\"legendgroup\":\"Type 2 diabetes\",\"showlegend\":true,\"xaxis\":\"x\",\"yaxis\":\"y\",\"hoverinfo\":\"text\",\"frame\":null},{\"orientation\":\"v\",\"width\":8,\"base\":11.550000000000001,\"x\":[4],\"y\":[0.89999999999999858],\"text\":\"n:  8<br />value: Heel bone mineral density<br />value: Heel bone mineral density\",\"type\":\"bar\",\"textposition\":\"none\",\"marker\":{\"autocolorscale\":false,\"color\":\"rgba(78,121,197,1)\",\"line\":{\"width\":1.8897637795275593,\"color\":\"transparent\"}},\"name\":\"Heel bone mineral density\",\"legendgroup\":\"Heel bone mineral density\",\"showlegend\":true,\"xaxis\":\"x\",\"yaxis\":\"y\",\"hoverinfo\":\"text\",\"frame\":null},{\"orientation\":\"v\",\"width\":8,\"base\":12.550000000000001,\"x\":[4],\"y\":[0.89999999999999858],\"text\":\"n:  8<br />value: Systolic blood pressure<br />value: Systolic blood pressure\",\"type\":\"bar\",\"textposition\":\"none\",\"marker\":{\"autocolorscale\":false,\"color\":\"rgba(77,138,198,1)\",\"line\":{\"width\":1.8897637795275593,\"color\":\"transparent\"}},\"name\":\"Systolic blood pressure\",\"legendgroup\":\"Systolic blood pressure\",\"showlegend\":true,\"xaxis\":\"x\",\"yaxis\":\"y\",\"hoverinfo\":\"text\",\"frame\":null},{\"orientation\":\"v\",\"width\":9,\"base\":13.550000000000001,\"x\":[4.5],\"y\":[0.89999999999999858],\"text\":\"n:  9<br />value: Sex hormone-binding globulin levels<br />value: Sex hormone-binding globulin levels\",\"type\":\"bar\",\"textposition\":\"none\",\"marker\":{\"autocolorscale\":false,\"color\":\"rgba(78,150,188,1)\",\"line\":{\"width\":1.8897637795275593,\"color\":\"transparent\"}},\"name\":\"Sex hormone-binding globulin levels\",\"legendgroup\":\"Sex hormone-binding globulin levels\",\"showlegend\":true,\"xaxis\":\"x\",\"yaxis\":\"y\",\"hoverinfo\":\"text\",\"frame\":null},{\"orientation\":\"v\",\"width\":10,\"base\":14.550000000000001,\"x\":[5],\"y\":[0.89999999999999858],\"text\":\"n: 10<br />value: Eosinophil counts<br />value: Eosinophil counts\",\"type\":\"bar\",\"textposition\":\"none\",\"marker\":{\"autocolorscale\":false,\"color\":\"rgba(84,158,179,1)\",\"line\":{\"width\":1.8897637795275593,\"color\":\"transparent\"}},\"name\":\"Eosinophil counts\",\"legendgroup\":\"Eosinophil counts\",\"showlegend\":true,\"xaxis\":\"x\",\"yaxis\":\"y\",\"hoverinfo\":\"text\",\"frame\":null},{\"orientation\":\"v\",\"width\":10,\"base\":15.550000000000001,\"x\":[5],\"y\":[0.89999999999999858],\"text\":\"n: 10<br />value: HDL cholesterol levels<br />value: HDL cholesterol levels\",\"type\":\"bar\",\"textposition\":\"none\",\"marker\":{\"autocolorscale\":false,\"color\":\"rgba(89,165,169,1)\",\"line\":{\"width\":1.8897637795275593,\"color\":\"transparent\"}},\"name\":\"HDL cholesterol levels\",\"legendgroup\":\"HDL cholesterol levels\",\"showlegend\":true,\"xaxis\":\"x\",\"yaxis\":\"y\",\"hoverinfo\":\"text\",\"frame\":null},{\"orientation\":\"v\",\"width\":10,\"base\":16.550000000000001,\"x\":[5],\"y\":[0.89999999999999858],\"text\":\"n: 10<br />value: Hematocrit<br />value: Hematocrit\",\"type\":\"bar\",\"textposition\":\"none\",\"marker\":{\"autocolorscale\":false,\"color\":\"rgba(96,171,158,1)\",\"line\":{\"width\":1.8897637795275593,\"color\":\"transparent\"}},\"name\":\"Hematocrit\",\"legendgroup\":\"Hematocrit\",\"showlegend\":true,\"xaxis\":\"x\",\"yaxis\":\"y\",\"hoverinfo\":\"text\",\"frame\":null},{\"orientation\":\"v\",\"width\":10,\"base\":17.550000000000001,\"x\":[5],\"y\":[0.89999999999999858],\"text\":\"n: 10<br />value: Platelet count<br />value: Platelet count\",\"type\":\"bar\",\"textposition\":\"none\",\"marker\":{\"autocolorscale\":false,\"color\":\"rgba(105,177,144,1)\",\"line\":{\"width\":1.8897637795275593,\"color\":\"transparent\"}},\"name\":\"Platelet count\",\"legendgroup\":\"Platelet count\",\"showlegend\":true,\"xaxis\":\"x\",\"yaxis\":\"y\",\"hoverinfo\":\"text\",\"frame\":null},{\"orientation\":\"v\",\"width\":10,\"base\":18.550000000000001,\"x\":[5],\"y\":[0.89999999999999858],\"text\":\"n: 10<br />value: Total cholesterol levels<br />value: Total cholesterol levels\",\"type\":\"bar\",\"textposition\":\"none\",\"marker\":{\"autocolorscale\":false,\"color\":\"rgba(119,183,125,1)\",\"line\":{\"width\":1.8897637795275593,\"color\":\"transparent\"}},\"name\":\"Total cholesterol levels\",\"legendgroup\":\"Total cholesterol levels\",\"showlegend\":true,\"xaxis\":\"x\",\"yaxis\":\"y\",\"hoverinfo\":\"text\",\"frame\":null},{\"orientation\":\"v\",\"width\":10,\"base\":19.550000000000001,\"x\":[5],\"y\":[0.89999999999999858],\"text\":\"n: 10<br />value: Waist-to-hip ratio adjusted for BMI<br />value: Waist-to-hip ratio adjusted for BMI\",\"type\":\"bar\",\"textposition\":\"none\",\"marker\":{\"autocolorscale\":false,\"color\":\"rgba(140,188,104,1)\",\"line\":{\"width\":1.8897637795275593,\"color\":\"transparent\"}},\"name\":\"Waist-to-hip ratio adjusted for BMI\",\"legendgroup\":\"Waist-to-hip ratio adjusted for BMI\",\"showlegend\":true,\"xaxis\":\"x\",\"yaxis\":\"y\",\"hoverinfo\":\"text\",\"frame\":null},{\"orientation\":\"v\",\"width\":10,\"base\":20.550000000000001,\"x\":[5],\"y\":[0.89999999999999858],\"text\":\"n: 10<br />value: White blood cell count<br />value: White blood cell count\",\"type\":\"bar\",\"textposition\":\"none\",\"marker\":{\"autocolorscale\":false,\"color\":\"rgba(166,190,84,1)\",\"line\":{\"width\":1.8897637795275593,\"color\":\"transparent\"}},\"name\":\"White blood cell count\",\"legendgroup\":\"White blood cell count\",\"showlegend\":true,\"xaxis\":\"x\",\"yaxis\":\"y\",\"hoverinfo\":\"text\",\"frame\":null},{\"orientation\":\"v\",\"width\":11,\"base\":21.550000000000001,\"x\":[5.5],\"y\":[0.89999999999999858],\"text\":\"n: 11<br />value: High density lipoprotein cholesterol levels<br />value: High density lipoprotein cholesterol levels\",\"type\":\"bar\",\"textposition\":\"none\",\"marker\":{\"autocolorscale\":false,\"color\":\"rgba(190,188,72,1)\",\"line\":{\"width\":1.8897637795275593,\"color\":\"transparent\"}},\"name\":\"High density lipoprotein cholesterol levels\",\"legendgroup\":\"High density lipoprotein cholesterol levels\",\"showlegend\":true,\"xaxis\":\"x\",\"yaxis\":\"y\",\"hoverinfo\":\"text\",\"frame\":null},{\"orientation\":\"v\",\"width\":13,\"base\":22.550000000000001,\"x\":[6.5],\"y\":[0.89999999999999858],\"text\":\"n: 13<br />value: Multi-trait sex score<br />value: Multi-trait sex score\",\"type\":\"bar\",\"textposition\":\"none\",\"marker\":{\"autocolorscale\":false,\"color\":\"rgba(209,181,65,1)\",\"line\":{\"width\":1.8897637795275593,\"color\":\"transparent\"}},\"name\":\"Multi-trait sex score\",\"legendgroup\":\"Multi-trait sex score\",\"showlegend\":true,\"xaxis\":\"x\",\"yaxis\":\"y\",\"hoverinfo\":\"text\",\"frame\":null},{\"orientation\":\"v\",\"width\":14,\"base\":23.550000000000001,\"x\":[7],\"y\":[0.89999999999999858],\"text\":\"n: 14<br />value: Body mass index<br />value: Body mass index\",\"type\":\"bar\",\"textposition\":\"none\",\"marker\":{\"autocolorscale\":false,\"color\":\"rgba(221,170,60,1)\",\"line\":{\"width\":1.8897637795275593,\"color\":\"transparent\"}},\"name\":\"Body mass index\",\"legendgroup\":\"Body mass index\",\"showlegend\":true,\"xaxis\":\"x\",\"yaxis\":\"y\",\"hoverinfo\":\"text\",\"frame\":null},{\"orientation\":\"v\",\"width\":15,\"base\":24.550000000000001,\"x\":[7.5],\"y\":[0.89999999999999858],\"text\":\"n: 15<br />value: Red cell distribution width<br />value: Red cell distribution width\",\"type\":\"bar\",\"textposition\":\"none\",\"marker\":{\"autocolorscale\":false,\"color\":\"rgba(228,156,57,1)\",\"line\":{\"width\":1.8897637795275593,\"color\":\"transparent\"}},\"name\":\"Red cell distribution width\",\"legendgroup\":\"Red cell distribution width\",\"showlegend\":true,\"xaxis\":\"x\",\"yaxis\":\"y\",\"hoverinfo\":\"text\",\"frame\":null},{\"orientation\":\"v\",\"width\":16,\"base\":25.550000000000001,\"x\":[8],\"y\":[0.89999999999999858],\"text\":\"n: 16<br />value: Mean corpuscular volume<br />value: Mean corpuscular volume\",\"type\":\"bar\",\"textposition\":\"none\",\"marker\":{\"autocolorscale\":false,\"color\":\"rgba(231,140,53,1)\",\"line\":{\"width\":1.8897637795275593,\"color\":\"transparent\"}},\"name\":\"Mean corpuscular volume\",\"legendgroup\":\"Mean corpuscular volume\",\"showlegend\":true,\"xaxis\":\"x\",\"yaxis\":\"y\",\"hoverinfo\":\"text\",\"frame\":null},{\"orientation\":\"v\",\"width\":18,\"base\":26.550000000000001,\"x\":[9],\"y\":[0.89999999999999858],\"text\":\"n: 18<br />value: Red blood cell count<br />value: Red blood cell count\",\"type\":\"bar\",\"textposition\":\"none\",\"marker\":{\"autocolorscale\":false,\"color\":\"rgba(230,121,50,1)\",\"line\":{\"width\":1.8897637795275593,\"color\":\"transparent\"}},\"name\":\"Red blood cell count\",\"legendgroup\":\"Red blood cell count\",\"showlegend\":true,\"xaxis\":\"x\",\"yaxis\":\"y\",\"hoverinfo\":\"text\",\"frame\":null},{\"orientation\":\"v\",\"width\":25,\"base\":27.550000000000001,\"x\":[12.5],\"y\":[0.89999999999999858],\"text\":\"n: 25<br />value: Mean corpuscular hemoglobin<br />value: Mean corpuscular hemoglobin\",\"type\":\"bar\",\"textposition\":\"none\",\"marker\":{\"autocolorscale\":false,\"color\":\"rgba(228,99,45,1)\",\"line\":{\"width\":1.8897637795275593,\"color\":\"transparent\"}},\"name\":\"Mean corpuscular hemoglobin\",\"legendgroup\":\"Mean corpuscular hemoglobin\",\"showlegend\":true,\"xaxis\":\"x\",\"yaxis\":\"y\",\"hoverinfo\":\"text\",\"frame\":null},{\"orientation\":\"v\",\"width\":48,\"base\":28.550000000000001,\"x\":[24],\"y\":[0.89999999999999858],\"text\":\"n: 48<br />value: Height<br />value: Height\",\"type\":\"bar\",\"textposition\":\"none\",\"marker\":{\"autocolorscale\":false,\"color\":\"rgba(223,72,40,1)\",\"line\":{\"width\":1.8897637795275593,\"color\":\"transparent\"}},\"name\":\"Height\",\"legendgroup\":\"Height\",\"showlegend\":true,\"xaxis\":\"x\",\"yaxis\":\"y\",\"hoverinfo\":\"text\",\"frame\":null}],\"layout\":{\"margin\":{\"t\":26.228310502283104,\"r\":7.3059360730593621,\"b\":40.182648401826491,\"l\":276.89497716894988},\"font\":{\"color\":\"rgba(0,0,0,1)\",\"family\":\"\",\"size\":14.611872146118724},\"xaxis\":{\"domain\":[0,1],\"automargin\":true,\"type\":\"linear\",\"autorange\":false,\"range\":[-2.4000000000000004,50.399999999999999],\"tickmode\":\"array\",\"ticktext\":[\"0\",\"10\",\"20\",\"30\",\"40\",\"50\"],\"tickvals\":[0,10,20,30,40,50],\"categoryorder\":\"array\",\"categoryarray\":[\"0\",\"10\",\"20\",\"30\",\"40\",\"50\"],\"nticks\":null,\"ticks\":\"\",\"tickcolor\":null,\"ticklen\":3.6529680365296811,\"tickwidth\":0,\"showticklabels\":true,\"tickfont\":{\"color\":\"rgba(77,77,77,1)\",\"family\":\"\",\"size\":11.68949771689498},\"tickangle\":-0,\"showline\":false,\"linecolor\":null,\"linewidth\":0,\"showgrid\":true,\"gridcolor\":\"rgba(235,235,235,1)\",\"gridwidth\":0.66417600664176002,\"zeroline\":false,\"anchor\":\"y\",\"title\":{\"text\":\"n\",\"font\":{\"color\":\"rgba(0,0,0,1)\",\"family\":\"\",\"size\":14.611872146118724}},\"hoverformat\":\".2f\"},\"yaxis\":{\"domain\":[0,1],\"automargin\":true,\"type\":\"linear\",\"autorange\":false,\"range\":[0.40000000000000002,29.600000000000001],\"tickmode\":\"array\",\"ticktext\":[\"Appendicular lean mass\",\"Diastolic blood pressure\",\"Educational attainment\",\"Lymphocyte count\",\"Mean spheric corpuscular volume\",\"Monocyte count\",\"Plateletcrit\",\"Reticulocyte fraction of red cells\",\"Rheumatoid arthritis\",\"Triglyceride levels\",\"Type 2 diabetes\",\"Heel bone mineral density\",\"Systolic blood pressure\",\"Sex hormone-binding globulin levels\",\"Eosinophil counts\",\"HDL cholesterol levels\",\"Hematocrit\",\"Platelet count\",\"Total cholesterol levels\",\"Waist-to-hip ratio adjusted for BMI\",\"White blood cell count\",\"High density lipoprotein cholesterol levels\",\"Multi-trait sex score\",\"Body mass index\",\"Red cell distribution width\",\"Mean corpuscular volume\",\"Red blood cell count\",\"Mean corpuscular hemoglobin\",\"Height\"],\"tickvals\":[1,2,3,4,5,6,7,8,9,10,11,12,13,14,15,16,17,18,19,20,21,22,23,24,25,26,27,28,29],\"categoryorder\":\"array\",\"categoryarray\":[\"Appendicular lean mass\",\"Diastolic blood pressure\",\"Educational attainment\",\"Lymphocyte count\",\"Mean spheric corpuscular volume\",\"Monocyte count\",\"Plateletcrit\",\"Reticulocyte fraction of red cells\",\"Rheumatoid arthritis\",\"Triglyceride levels\",\"Type 2 diabetes\",\"Heel bone mineral density\",\"Systolic blood pressure\",\"Sex hormone-binding globulin levels\",\"Eosinophil counts\",\"HDL cholesterol levels\",\"Hematocrit\",\"Platelet count\",\"Total cholesterol levels\",\"Waist-to-hip ratio adjusted for BMI\",\"White blood cell count\",\"High density lipoprotein cholesterol levels\",\"Multi-trait sex score\",\"Body mass index\",\"Red cell distribution width\",\"Mean corpuscular volume\",\"Red blood cell count\",\"Mean corpuscular hemoglobin\",\"Height\"],\"nticks\":null,\"ticks\":\"\",\"tickcolor\":null,\"ticklen\":3.6529680365296811,\"tickwidth\":0,\"showticklabels\":true,\"tickfont\":{\"color\":\"rgba(77,77,77,1)\",\"family\":\"\",\"size\":11.68949771689498},\"tickangle\":-0,\"showline\":false,\"linecolor\":null,\"linewidth\":0,\"showgrid\":true,\"gridcolor\":\"rgba(235,235,235,1)\",\"gridwidth\":0.66417600664176002,\"zeroline\":false,\"anchor\":\"x\",\"title\":{\"text\":\"value\",\"font\":{\"color\":\"rgba(0,0,0,1)\",\"family\":\"\",\"size\":14.611872146118724}},\"hoverformat\":\".2f\"},\"shapes\":[{\"type\":\"rect\",\"fillcolor\":null,\"line\":{\"color\":null,\"width\":0,\"linetype\":[]},\"yref\":\"paper\",\"xref\":\"paper\",\"x0\":0,\"x1\":1,\"y0\":0,\"y1\":1}],\"showlegend\":true,\"legend\":{\"bgcolor\":null,\"bordercolor\":null,\"borderwidth\":0,\"font\":{\"color\":\"rgba(0,0,0,1)\",\"family\":\"\",\"size\":11.68949771689498},\"title\":{\"text\":\"value\",\"font\":{\"color\":\"rgba(0,0,0,1)\",\"family\":\"\",\"size\":14.611872146118724}}},\"hovermode\":\"closest\",\"barmode\":\"relative\"},\"config\":{\"doubleClick\":\"reset\",\"modeBarButtonsToAdd\":[\"hoverclosest\",\"hovercompare\"],\"showSendToCloud\":false},\"source\":\"A\",\"attrs\":{\"4e2c3e18d6b\":{\"x\":{},\"y\":{},\"fill\":{},\"type\":\"bar\"}},\"cur_data\":\"4e2c3e18d6b\",\"visdat\":{\"4e2c3e18d6b\":[\"function (y) \",\"x\"]},\"highlight\":{\"on\":\"plotly_click\",\"persistent\":false,\"dynamic\":false,\"selectize\":false,\"opacityDim\":0.20000000000000001,\"selected\":{\"opacity\":1},\"debounce\":0},\"shinyEvents\":[\"plotly_hover\",\"plotly_click\",\"plotly_selected\",\"plotly_relayout\",\"plotly_brushed\",\"plotly_brushing\",\"plotly_clickannotation\",\"plotly_doubleclick\",\"plotly_deselect\",\"plotly_afterplot\",\"plotly_sunburstclick\"],\"base_url\":\"https://plot.ly\"},\"evals\":[],\"jsHooks\":[]}</script>"
      ]
     }
    }
   ],
   "source": [
    "over_ranges <- reduce(gg)[subjectHits(fo)]\n",
    "\n",
    "\n",
    "ii <- over_ranges |> \n",
    "  as.data.frame() |> \n",
    "  GenomicRanges::makeGRangesListFromDataFrame()\n",
    "\n",
    "\n",
    "phset = lapply(ii, function(x){\n",
    "  \n",
    "  # print(glue::glue(\"On range: {x}\"))\n",
    "  unique(gg[which(gg %over% x)]$\"DISEASE/TRAIT\")\n",
    "  \n",
    "})\n",
    "\n",
    "gwas_on_peaks <- phset |> \n",
    "    enframe() |> \n",
    "    unnest(value) |> \n",
    "    dplyr::count(value) |> \n",
    "    slice_max(n, n=20)\n",
    "\n",
    "\n",
    "p <- gwas_on_peaks |> \n",
    "  mutate(value = fct_reorder(value,n)) |> \n",
    "  ggplot(aes(n,value, fill=value))+\n",
    "  geom_col() +\n",
    "  theme(legend.position = \"none\") +\n",
    "  paletteer::scale_fill_paletteer_d(\"khroma::smoothrainbow\") +\n",
    "  theme_minimal()\n",
    "\n",
    "htmltools::tagList(list(plotly::ggplotly(p)))"
   ],
   "id": "b22456b1-5715-49cd-9797-65d0d53c0fc8"
  },
  {
   "cell_type": "markdown",
   "metadata": {},
   "source": [
    "Distinct phenotypes identified on the peaks:"
   ],
   "id": "ea9a7c8e-3069-49a0-bff0-00573a4c63e4"
  },
  {
   "cell_type": "code",
   "execution_count": null,
   "metadata": {},
   "outputs": [
    {
     "output_type": "stream",
     "name": "stdout",
     "text": [
      "[1] 613"
     ]
    }
   ],
   "source": [
    "length(phset)"
   ],
   "id": "b7bf41e6-0540-460f-bb96-7eac4a27c356"
  },
  {
   "cell_type": "markdown",
   "metadata": {},
   "source": [
    "Now, how to do the inference of these phenotype on peaks of these b cells? We can use permutation on the genomic positions to test if the number of phenotypes found is due to chance or not."
   ],
   "id": "6274832d-711d-4347-ad29-8032bb96768f"
  },
  {
   "cell_type": "code",
   "execution_count": null,
   "metadata": {},
   "outputs": [
    {
     "output_type": "stream",
     "name": "stderr",
     "text": [
      "Loading required package: png"
     ]
    },
    {
     "output_type": "stream",
     "name": "stderr",
     "text": [
      "Loading required package: grid"
     ]
    },
    {
     "output_type": "stream",
     "name": "stderr",
     "text": [
      "Loading required package: VariantAnnotation"
     ]
    },
    {
     "output_type": "stream",
     "name": "stderr",
     "text": [
      "Warning: package 'VariantAnnotation' was built under R version 4.3.2"
     ]
    },
    {
     "output_type": "stream",
     "name": "stderr",
     "text": [
      "Loading required package: MatrixGenerics"
     ]
    },
    {
     "output_type": "stream",
     "name": "stderr",
     "text": [
      "Warning: package 'MatrixGenerics' was built under R version 4.3.1"
     ]
    },
    {
     "output_type": "stream",
     "name": "stderr",
     "text": [
      "Loading required package: matrixStats"
     ]
    },
    {
     "output_type": "stream",
     "name": "stderr",
     "text": [
      "Warning: package 'matrixStats' was built under R version 4.3.2"
     ]
    },
    {
     "output_type": "stream",
     "name": "stderr",
     "text": [
      "\n",
      "Attaching package: 'matrixStats'"
     ]
    },
    {
     "output_type": "stream",
     "name": "stderr",
     "text": [
      "The following objects are masked from 'package:Biobase':\n",
      "\n",
      "    anyMissing, rowMedians"
     ]
    },
    {
     "output_type": "stream",
     "name": "stderr",
     "text": [
      "The following object is masked from 'package:dplyr':\n",
      "\n",
      "    count"
     ]
    },
    {
     "output_type": "stream",
     "name": "stderr",
     "text": [
      "\n",
      "Attaching package: 'MatrixGenerics'"
     ]
    },
    {
     "output_type": "stream",
     "name": "stderr",
     "text": [
      "The following objects are masked from 'package:matrixStats':\n",
      "\n",
      "    colAlls, colAnyNAs, colAnys, colAvgsPerRowSet, colCollapse,\n",
      "    colCounts, colCummaxs, colCummins, colCumprods, colCumsums,\n",
      "    colDiffs, colIQRDiffs, colIQRs, colLogSumExps, colMadDiffs,\n",
      "    colMads, colMaxs, colMeans2, colMedians, colMins, colOrderStats,\n",
      "    colProds, colQuantiles, colRanges, colRanks, colSdDiffs, colSds,\n",
      "    colSums2, colTabulates, colVarDiffs, colVars, colWeightedMads,\n",
      "    colWeightedMeans, colWeightedMedians, colWeightedSds,\n",
      "    colWeightedVars, rowAlls, rowAnyNAs, rowAnys, rowAvgsPerColSet,\n",
      "    rowCollapse, rowCounts, rowCummaxs, rowCummins, rowCumprods,\n",
      "    rowCumsums, rowDiffs, rowIQRDiffs, rowIQRs, rowLogSumExps,\n",
      "    rowMadDiffs, rowMads, rowMaxs, rowMeans2, rowMedians, rowMins,\n",
      "    rowOrderStats, rowProds, rowQuantiles, rowRanges, rowRanks,\n",
      "    rowSdDiffs, rowSds, rowSums2, rowTabulates, rowVarDiffs, rowVars,\n",
      "    rowWeightedMads, rowWeightedMeans, rowWeightedMedians,\n",
      "    rowWeightedSds, rowWeightedVars"
     ]
    },
    {
     "output_type": "stream",
     "name": "stderr",
     "text": [
      "The following object is masked from 'package:Biobase':\n",
      "\n",
      "    rowMedians"
     ]
    },
    {
     "output_type": "stream",
     "name": "stderr",
     "text": [
      "Loading required package: SummarizedExperiment"
     ]
    },
    {
     "output_type": "stream",
     "name": "stderr",
     "text": [
      "Warning: package 'SummarizedExperiment' was built under R version 4.3.1"
     ]
    },
    {
     "output_type": "stream",
     "name": "stderr",
     "text": [
      "Loading required package: Rsamtools"
     ]
    },
    {
     "output_type": "stream",
     "name": "stderr",
     "text": [
      "Warning: package 'Rsamtools' was built under R version 4.3.1"
     ]
    },
    {
     "output_type": "stream",
     "name": "stderr",
     "text": [
      "Loading required package: Biostrings"
     ]
    },
    {
     "output_type": "stream",
     "name": "stderr",
     "text": [
      "Warning: package 'Biostrings' was built under R version 4.3.2"
     ]
    },
    {
     "output_type": "stream",
     "name": "stderr",
     "text": [
      "Loading required package: XVector"
     ]
    },
    {
     "output_type": "stream",
     "name": "stderr",
     "text": [
      "Warning: package 'XVector' was built under R version 4.3.1"
     ]
    },
    {
     "output_type": "stream",
     "name": "stderr",
     "text": [
      "\n",
      "Attaching package: 'XVector'"
     ]
    },
    {
     "output_type": "stream",
     "name": "stderr",
     "text": [
      "The following object is masked from 'package:purrr':\n",
      "\n",
      "    compact"
     ]
    },
    {
     "output_type": "stream",
     "name": "stderr",
     "text": [
      "\n",
      "Attaching package: 'Biostrings'"
     ]
    },
    {
     "output_type": "stream",
     "name": "stderr",
     "text": [
      "The following object is masked from 'package:grid':\n",
      "\n",
      "    pattern"
     ]
    },
    {
     "output_type": "stream",
     "name": "stderr",
     "text": [
      "The following object is masked from 'package:base':\n",
      "\n",
      "    strsplit"
     ]
    },
    {
     "output_type": "stream",
     "name": "stderr",
     "text": [
      "\n",
      "Attaching package: 'VariantAnnotation'"
     ]
    },
    {
     "output_type": "stream",
     "name": "stderr",
     "text": [
      "The following object is masked from 'package:stringr':\n",
      "\n",
      "    fixed"
     ]
    },
    {
     "output_type": "stream",
     "name": "stderr",
     "text": [
      "The following object is masked from 'package:base':\n",
      "\n",
      "    tabulate"
     ]
    },
    {
     "output_type": "stream",
     "name": "stderr",
     "text": [
      "Warning: package 'progress' was built under R version 4.3.3"
     ]
    },
    {
     "output_type": "stream",
     "name": "stdout",
     "text": [
      "[1] 0"
     ]
    }
   ],
   "source": [
    "library(ph525x)"
   ],
   "id": "ab5653b9-f8fe-49ee-a8b0-c25af64ec4b7"
  },
  {
   "cell_type": "markdown",
   "metadata": {},
   "source": [
    "## 3 Explore the TCGA\n",
    "\n",
    "Please check the dedicated script (top left) to see how to explore and get insights from the TCGA (The Cancer Genome Atlas) database.\n",
    "\n",
    "## 4 Conclusion\n",
    "\n",
    "## References"
   ],
   "id": "135c9888-6c27-4fca-a386-d64695f52f86"
  }
 ],
 "nbformat": 4,
 "nbformat_minor": 5,
 "metadata": {}
}
